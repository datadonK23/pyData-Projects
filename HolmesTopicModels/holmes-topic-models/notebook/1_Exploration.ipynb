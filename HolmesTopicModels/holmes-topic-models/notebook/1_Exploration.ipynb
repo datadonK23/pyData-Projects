{
 "cells": [
  {
   "cell_type": "markdown",
   "metadata": {},
   "source": [
    "# Exploration"
   ]
  },
  {
   "cell_type": "code",
   "execution_count": 1,
   "metadata": {
    "collapsed": true
   },
   "outputs": [],
   "source": [
    "import numpy as np\n",
    "import pandas as pd\n",
    "\n",
    "import matplotlib.pyplot as plt\n",
    "%matplotlib inline"
   ]
  },
  {
   "cell_type": "markdown",
   "metadata": {},
   "source": [
    "## Input"
   ]
  },
  {
   "cell_type": "code",
   "execution_count": 2,
   "metadata": {
    "collapsed": true
   },
   "outputs": [],
   "source": [
    "from sklearn.datasets import load_files\n",
    "\n",
    "raw_corpus = load_files(\"../data/\")"
   ]
  },
  {
   "cell_type": "code",
   "execution_count": 3,
   "metadata": {},
   "outputs": [
    {
     "name": "stdout",
     "output_type": "stream",
     "text": [
      "Doc count: 60\n"
     ]
    }
   ],
   "source": [
    "doc_count = len(raw_corpus.data)\n",
    "print(\"Doc count:\", doc_count)\n",
    "assert doc_count is 60, \"Wrong number of documents loaded, should be 60 (4 novels + 56 stories)\""
   ]
  },
  {
   "cell_type": "code",
   "execution_count": 4,
   "metadata": {},
   "outputs": [
    {
     "name": "stdout",
     "output_type": "stream",
     "text": [
      "Beginning:\n",
      " b'\\n\\n\\n\\n                              THE ADVENTURE OF THE\\n                                          \\n                                MISSING THREE-QUARTER\\n\\n                               Arthur Conan Doyle\\n\\n\\n\\n     We were fairly accustomed to receive weird telegrams at Baker Street,\\n     but I have a particular recollection of one which reached us on a\\n     gloomy February morning some seven or eight years ago and gave Mr.\\n     Sherlock Holmes a puzzled quarter of an hour. It was addressed to\\n     ' \n",
      "\n",
      "End:\n",
      " b'your discretion and that of your friend.\"\\n\\n     Holmes grasped the doctor\\'s hand.\\n\\n     \"Come, Watson,\" said he, and we passed from that house of grief into\\n     the pale sunlight of the winter day.\\n\\n'\n"
     ]
    }
   ],
   "source": [
    "print(\"Beginning:\\n\", raw_corpus.data[0][:500], \"\\n\")\n",
    "print(\"End:\\n\", raw_corpus.data[0][-200:])"
   ]
  },
  {
   "cell_type": "markdown",
   "metadata": {},
   "source": [
    "## Baseline"
   ]
  },
  {
   "cell_type": "code",
   "execution_count": 5,
   "metadata": {},
   "outputs": [],
   "source": [
    "from sklearn.feature_extraction.text import TfidfVectorizer\n",
    "\n",
    "tfidf = TfidfVectorizer(strip_accents=\"ascii\", lowercase=True)\n",
    "X = tfidf.fit_transform(raw_corpus.data)"
   ]
  },
  {
   "cell_type": "code",
   "execution_count": 6,
   "metadata": {},
   "outputs": [
    {
     "name": "stdout",
     "output_type": "stream",
     "text": [
      "19099\n"
     ]
    },
    {
     "data": {
      "text/plain": [
       "(60, 19099)"
      ]
     },
     "execution_count": 6,
     "metadata": {},
     "output_type": "execute_result"
    }
   ],
   "source": [
    "print(len(tfidf.get_feature_names()))\n",
    "X.shape"
   ]
  },
  {
   "cell_type": "code",
   "execution_count": 7,
   "metadata": {},
   "outputs": [],
   "source": [
    "#tfidf.get_feature_names()"
   ]
  },
  {
   "cell_type": "markdown",
   "metadata": {},
   "source": [
    "## Preparation"
   ]
  },
  {
   "cell_type": "code",
   "execution_count": 8,
   "metadata": {
    "collapsed": true
   },
   "outputs": [
    {
     "name": "stdout",
     "output_type": "stream",
     "text": [
      "[nltk_data] Downloading package punkt to ../nltk/...\n",
      "[nltk_data]   Package punkt is already up-to-date!\n",
      "[nltk_data] Downloading package wordnet to ../nltk/...\n",
      "[nltk_data]   Package wordnet is already up-to-date!\n"
     ]
    }
   ],
   "source": [
    "# Wrangler\n",
    "import re, unicodedata\n",
    "\n",
    "from sklearn.feature_extraction import stop_words\n",
    "from nltk import wordpunct_tokenize\n",
    "from nltk.stem.lancaster import LancasterStemmer\n",
    "from nltk.stem.wordnet import WordNetLemmatizer\n",
    "import nltk\n",
    "nltk.download([\"punkt\", \"wordnet\"], download_dir=\"../nltk/\")\n",
    "nltk.data.path.append(\"../nltk/\")\n",
    "\n",
    "class TextWrangler(object):\n",
    "    \"\"\" Clean and tokenize documents.\n",
    "\n",
    "    Tokenize documents. Removes punctuation and stopwords.\n",
    "    Converts tokens to lowercase. Replaces numbers with generic number token.\n",
    "    Depending on `kind` paramter, stems or lemmatizes tokens.\n",
    "\n",
    "    Parameters\n",
    "    ----------\n",
    "    kind : str\n",
    "        Either \"stem\" (default) for stemming or \"lemma\" for lemmatization\n",
    "\n",
    "    \"\"\"\n",
    "    def __init__(self, kind=\"stem\"):\n",
    "        self.kind = kind\n",
    "        self.stemmer = LancasterStemmer()\n",
    "        self.lemmatizer = WordNetLemmatizer()\n",
    "        sklearn_stopwords = stop_words.ENGLISH_STOP_WORDS\n",
    "        custom_stopwords = [\"arthur\", \"conan\", \"doyle\", \"chapter\", \"contents\", '`--\"', \"`\"]\n",
    "        self.stopwords = sklearn_stopwords.union(custom_stopwords)\n",
    "\n",
    "    def __call__(self, document):\n",
    "        if self.kind == \"lemma\":\n",
    "            tokens = [self.lemmatizer.lemmatize(token.lower())\n",
    "                      for token in wordpunct_tokenize(document)\n",
    "                      if not self.is_punct(token)\n",
    "                      and not self.is_singlechar(token)\n",
    "                      and not self.is_stopword(token.lower())]\n",
    "        else:\n",
    "            tokens = [self.stemmer.stem(token.lower())\n",
    "                      for token in wordpunct_tokenize(document)\n",
    "                      if not self.is_punct(token)\n",
    "                      and not self.is_singlechar(token)\n",
    "                      and not self.is_stopword(token.lower())]\n",
    "\n",
    "        clean_tokens = [\"NUM\" if self.is_number(token) else token\n",
    "                        for token in tokens]\n",
    "\n",
    "        return clean_tokens\n",
    "\n",
    "    def is_punct(self, token):\n",
    "        return all(unicodedata.category(char).startswith(\"P\") for char in token)\n",
    "    \n",
    "    def is_singlechar(self, token):\n",
    "        return len(token) < 2\n",
    "    \n",
    "    def is_stopword(self, token):\n",
    "        return token in self.stopwords\n",
    "    \n",
    "    def is_number(self, token):\n",
    "        return bool(re.match(r\"\\d+\", token))\n"
   ]
  },
  {
   "cell_type": "markdown",
   "metadata": {},
   "source": [
    "## Vectorizer"
   ]
  },
  {
   "cell_type": "code",
   "execution_count": 9,
   "metadata": {},
   "outputs": [],
   "source": [
    "from sklearn.feature_extraction.text import CountVectorizer, TfidfVectorizer\n",
    "\n",
    "bow_stem = CountVectorizer(strip_accents=\"ascii\", tokenizer=TextWrangler(kind=\"stem\"))\n",
    "X_bow_stem = bow_stem.fit_transform(raw_corpus.data)\n",
    "\n",
    "tfidf_stem = TfidfVectorizer(strip_accents=\"ascii\", tokenizer=TextWrangler(kind=\"stem\"))\n",
    "X_tfidf_stem = tfidf_stem.fit_transform(raw_corpus.data)\n",
    "\n",
    "bow_lemma = CountVectorizer(strip_accents=\"ascii\", tokenizer=TextWrangler(kind=\"lemma\"))\n",
    "X_bow_lemma = bow_lemma.fit_transform(raw_corpus.data)\n",
    "\n",
    "tfidf_lemma = TfidfVectorizer(strip_accents=\"ascii\", tokenizer=TextWrangler(kind=\"lemma\"))\n",
    "X_tfidf_lemma = tfidf_lemma.fit_transform(raw_corpus.data)"
   ]
  },
  {
   "cell_type": "code",
   "execution_count": 10,
   "metadata": {},
   "outputs": [
    {
     "name": "stdout",
     "output_type": "stream",
     "text": [
      "Stemmed bow vector: (60, 9710)\n",
      "['NUM', 'ab', 'aback', 'abandon', 'abash', 'abba', 'abbess', 'abbey', 'abbot', 'abduc'] ...\n",
      "Lemmatized bow vector: (60, 16474)\n",
      "['NUM', 'aback', 'abandon', 'abandoned', 'abandoning', 'abashed', 'abated', 'abbas', 'abbess', 'abbey'] ...\n",
      "Stemmed tfidf vector: (60, 9710)\n",
      "['NUM', 'ab', 'aback', 'abandon', 'abash', 'abba', 'abbess', 'abbey', 'abbot', 'abduc'] ...\n",
      "Lemmatized tfidf vector: (60, 16474)\n",
      "['NUM', 'aback', 'abandon', 'abandoned', 'abandoning', 'abashed', 'abated', 'abbas', 'abbess', 'abbey'] ...\n"
     ]
    }
   ],
   "source": [
    "print(\"Stemmed bow vector:\", X_bow_stem.shape)\n",
    "print(bow_stem.get_feature_names()[:10], \"...\")\n",
    "print(\"Lemmatized bow vector:\", X_bow_lemma.shape)\n",
    "print(bow_lemma.get_feature_names()[:10], \"...\")\n",
    "print(\"Stemmed tfidf vector:\", X_tfidf_stem.shape)\n",
    "print(tfidf_stem.get_feature_names()[:10], \"...\")\n",
    "print(\"Lemmatized tfidf vector:\", X_tfidf_lemma.shape)\n",
    "print(tfidf_lemma.get_feature_names()[:10], \"...\")"
   ]
  },
  {
   "cell_type": "markdown",
   "metadata": {},
   "source": [
    "# Vectors"
   ]
  },
  {
   "cell_type": "markdown",
   "metadata": {},
   "source": [
    "## Ranking"
   ]
  },
  {
   "cell_type": "code",
   "execution_count": 11,
   "metadata": {},
   "outputs": [],
   "source": [
    "# Ranking word patterns\n",
    "def rank(features, values, metric):\n",
    "    data = []\n",
    "    for col, term in enumerate(features):\n",
    "        data.append((term, values[0, col]))\n",
    "\n",
    "    df = pd.DataFrame(data, columns=[\"term\", metric])\n",
    "    order = df.sort_values(metric, ascending=False)\n",
    "    order.reset_index(drop=True, inplace=True)\n",
    "    order.index = order.index + 1\n",
    "    return order"
   ]
  },
  {
   "cell_type": "code",
   "execution_count": 12,
   "metadata": {
    "collapsed": true
   },
   "outputs": [],
   "source": [
    "assert bow_stem.get_feature_names() == tfidf_stem.get_feature_names(), \"Mismatch of stem feature names (->tokenize)\"\n",
    "assert bow_lemma.get_feature_names() == tfidf_lemma.get_feature_names(), \"Mismatch of lemma feature names (->tokenize)\"\n",
    "stem_features = bow_stem.get_feature_names()\n",
    "lemma_features = bow_lemma.get_feature_names()\n",
    "\n",
    "bow_stem_sum = X_bow_stem.sum(axis=0)\n",
    "bow_lemma_sum = X_bow_lemma.sum(axis=0)\n",
    "\n",
    "tfidf_stem_mean = X_tfidf_stem.mean(axis=0)\n",
    "tfidf_lemma_mean = X_tfidf_lemma.mean(axis=0)"
   ]
  },
  {
   "cell_type": "code",
   "execution_count": 13,
   "metadata": {},
   "outputs": [
    {
     "name": "stdout",
     "output_type": "stream",
     "text": [
      "BOW Stem:\n",
      "       term  bow_sum\n",
      "1     said     3103\n",
      "2     holm     3040\n",
      "3      man     2636\n",
      "4       mr     1737\n",
      "5      com     1436\n",
      "6     hand     1300\n",
      "7     know     1213\n",
      "8     room     1144\n",
      "9     look     1114\n",
      "10     tim     1106\n",
      "11     fac     1055\n",
      "12  watson     1036\n",
      "13   littl     1033\n",
      "14     sir     1024\n",
      "15     did     1007 \n",
      "\n",
      "BOW Lemma:\n",
      "       term  bow_sum\n",
      "1     said     3103\n",
      "2   holmes     3040\n",
      "3      man     2296\n",
      "4       mr     2043\n",
      "5     come     1197\n",
      "6     hand     1180\n",
      "7     know     1159\n",
      "8     room     1139\n",
      "9     time     1102\n",
      "10  watson     1036\n",
      "11  little     1033\n",
      "12     sir     1024\n",
      "13     did     1007\n",
      "14    face      958\n",
      "15   house      955\n"
     ]
    }
   ],
   "source": [
    "bow_stem_ranked = rank(stem_features, bow_stem_sum, \"bow_sum\") \n",
    "bow_lemma_ranked = rank(lemma_features, bow_lemma_sum, \"bow_sum\")\n",
    "\n",
    "print(\"BOW Stem:\\n\", bow_stem_ranked.head(15), \"\\n\")\n",
    "print(\"BOW Lemma:\\n\", bow_lemma_ranked.head(15))"
   ]
  },
  {
   "cell_type": "code",
   "execution_count": 14,
   "metadata": {},
   "outputs": [
    {
     "name": "stdout",
     "output_type": "stream",
     "text": [
      "TFIDF Stem:\n",
      "       term  tfidf_mean\n",
      "1     holm    0.170294\n",
      "2     said    0.153850\n",
      "3      man    0.126640\n",
      "4       mr    0.094653\n",
      "5      com    0.070754\n",
      "6     hand    0.065268\n",
      "7     room    0.064178\n",
      "8     know    0.060830\n",
      "9   watson    0.060274\n",
      "10    look    0.055808\n",
      "11   littl    0.054434\n",
      "12     tim    0.054196\n",
      "13     fac    0.053037\n",
      "14     did    0.050616\n",
      "15   think    0.050056 \n",
      "\n",
      "TFIDF Lemma:\n",
      "       term  tfidf_mean\n",
      "1   holmes    0.164990\n",
      "2     said    0.149567\n",
      "3      man    0.108031\n",
      "4       mr    0.106291\n",
      "5     room    0.062115\n",
      "6   watson    0.058467\n",
      "7     come    0.057773\n",
      "8     hand    0.057305\n",
      "9     know    0.056255\n",
      "10  little    0.053028\n",
      "11    time    0.052442\n",
      "12     did    0.049292\n",
      "13   house    0.047723\n",
      "14    face    0.047482\n",
      "15   think    0.045839\n"
     ]
    }
   ],
   "source": [
    "tfidf_stem_ranked = rank(stem_features, tfidf_stem_mean, \"tfidf_mean\") \n",
    "tfidf_lemma_ranked = rank(lemma_features, tfidf_lemma_mean, \"tfidf_mean\")\n",
    "\n",
    "print(\"TFIDF Stem:\\n\", tfidf_stem_ranked.head(15), \"\\n\")\n",
    "print(\"TFIDF Lemma:\\n\", tfidf_lemma_ranked.head(15))"
   ]
  },
  {
   "cell_type": "markdown",
   "metadata": {},
   "source": [
    "## Distribution"
   ]
  },
  {
   "cell_type": "code",
   "execution_count": 15,
   "metadata": {},
   "outputs": [
    {
     "data": {
      "text/plain": [
       "<matplotlib.axes._subplots.AxesSubplot at 0x7f081259c6a0>"
      ]
     },
     "execution_count": 15,
     "metadata": {},
     "output_type": "execute_result"
    },
    {
     "data": {
      "image/png": "[encoded data removed]",
      "text/plain": [
       "<Figure size 432x288 with 1 Axes>"
      ]
     },
     "metadata": {},
     "output_type": "display_data"
    }
   ],
   "source": [
    "p_df1 = bow_lemma_ranked\n",
    "p_df1.columns = [_, \"lemma\"]\n",
    "p_df2 = bow_stem_ranked\n",
    "p_df2.columns = [_, \"stem\"]\n",
    "\n",
    "ax = p_df1.plot(loglog=True)\n",
    "p_df2.plot(loglog=True, ax=ax)"
   ]
  },
  {
   "cell_type": "code",
   "execution_count": null,
   "metadata": {},
   "outputs": [],
   "source": []
  }
 ],
 "metadata": {
  "kernelspec": {
   "display_name": "Python 3",
   "language": "python",
   "name": "python3"
  },
  "language_info": {
   "codemirror_mode": {
    "name": "ipython",
    "version": 3
   },
   "file_extension": ".py",
   "mimetype": "text/x-python",
   "name": "python",
   "nbconvert_exporter": "python",
   "pygments_lexer": "ipython3",
   "version": "3.6.5"
  }
 },
 "nbformat": 4,
 "nbformat_minor": 2
}
