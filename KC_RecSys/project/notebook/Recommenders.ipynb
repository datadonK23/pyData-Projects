{
 "cells": [
  {
   "cell_type": "code",
   "execution_count": 1,
   "metadata": {},
   "outputs": [],
   "source": [
    "import numpy as np\n",
    "import pandas as pd"
   ]
  },
  {
   "cell_type": "markdown",
   "metadata": {},
   "source": [
    "### Preprocess data"
   ]
  },
  {
   "cell_type": "code",
   "execution_count": 2,
   "metadata": {},
   "outputs": [],
   "source": [
    "path = \"../data/petdata_1000_100.csv\"\n",
    "raw_data = pd.read_csv(path, index_col=\"doc_uri\")\n",
    "assert raw_data.shape == (1000,100), \"Import error, df has false shape\""
   ]
  },
  {
   "cell_type": "markdown",
   "metadata": {},
   "source": [
    "Conversion and cleaning"
   ]
  },
  {
   "cell_type": "code",
   "execution_count": 3,
   "metadata": {},
   "outputs": [
    {
     "name": "stdout",
     "output_type": "stream",
     "text": [
      "Shape: (100000, 3)\n"
     ]
    },
    {
     "data": {
      "text/html": [
       "<div>\n",
       "<style scoped>\n",
       "    .dataframe tbody tr th:only-of-type {\n",
       "        vertical-align: middle;\n",
       "    }\n",
       "\n",
       "    .dataframe tbody tr th {\n",
       "        vertical-align: top;\n",
       "    }\n",
       "\n",
       "    .dataframe thead th {\n",
       "        text-align: right;\n",
       "    }\n",
       "</style>\n",
       "<table border=\"1\" class=\"dataframe\">\n",
       "  <thead>\n",
       "    <tr style=\"text-align: right;\">\n",
       "      <th></th>\n",
       "      <th>user</th>\n",
       "      <th>doc_uri</th>\n",
       "      <th>rating</th>\n",
       "    </tr>\n",
       "  </thead>\n",
       "  <tbody>\n",
       "    <tr>\n",
       "      <th>0</th>\n",
       "      <td>Aaron Keith III</td>\n",
       "      <td>http://www.vargas.biz/login.php</td>\n",
       "      <td>1.0</td>\n",
       "    </tr>\n",
       "    <tr>\n",
       "      <th>1</th>\n",
       "      <td>Aaron Keith III</td>\n",
       "      <td>http://wallace-walker.info/index/</td>\n",
       "      <td>1.0</td>\n",
       "    </tr>\n",
       "    <tr>\n",
       "      <th>2</th>\n",
       "      <td>Aaron Keith III</td>\n",
       "      <td>http://www.jimenez.biz/</td>\n",
       "      <td>3.0</td>\n",
       "    </tr>\n",
       "    <tr>\n",
       "      <th>3</th>\n",
       "      <td>Aaron Keith III</td>\n",
       "      <td>http://www.logan.com/about.html</td>\n",
       "      <td>0.0</td>\n",
       "    </tr>\n",
       "    <tr>\n",
       "      <th>4</th>\n",
       "      <td>Aaron Keith III</td>\n",
       "      <td>http://cox.org/list/tag/faq.html</td>\n",
       "      <td>5.0</td>\n",
       "    </tr>\n",
       "  </tbody>\n",
       "</table>\n",
       "</div>"
      ],
      "text/plain": [
       "              user                            doc_uri  rating\n",
       "0  Aaron Keith III    http://www.vargas.biz/login.php     1.0\n",
       "1  Aaron Keith III  http://wallace-walker.info/index/     1.0\n",
       "2  Aaron Keith III            http://www.jimenez.biz/     3.0\n",
       "3  Aaron Keith III    http://www.logan.com/about.html     0.0\n",
       "4  Aaron Keith III   http://cox.org/list/tag/faq.html     5.0"
      ]
     },
     "execution_count": 3,
     "metadata": {},
     "output_type": "execute_result"
    }
   ],
   "source": [
    "data = raw_data.unstack().to_frame().reset_index()\n",
    "data.columns = [\"user\", \"doc_uri\", \"rating\"]\n",
    "\n",
    "data.fillna(0, inplace=True)\n",
    "\n",
    "print(\"Shape:\", data.shape)\n",
    "data.head()"
   ]
  },
  {
   "cell_type": "markdown",
   "metadata": {},
   "source": [
    "# Recommendation Engines"
   ]
  },
  {
   "cell_type": "markdown",
   "metadata": {},
   "source": [
    "## Model-based Collaborative Filtering"
   ]
  },
  {
   "cell_type": "code",
   "execution_count": 5,
   "metadata": {},
   "outputs": [],
   "source": [
    "from surprise import SVD, Dataset, Reader, NMF, accuracy\n",
    "from surprise.model_selection import cross_validate\n",
    "from surprise.prediction_algorithms.random_pred import NormalPredictor\n",
    "\n",
    "reader = Reader(rating_scale=(1, 5))\n",
    "ds = Dataset.load_from_df(data[[\"user\", \"doc_uri\", \"rating\"]], reader)\n",
    "\n",
    "baseline_model = NormalPredictor() # Baseline model, predicts labels based on distribution of ratings"
   ]
  },
  {
   "cell_type": "markdown",
   "metadata": {},
   "source": [
    "### Matrix factorization-based CF"
   ]
  },
  {
   "cell_type": "code",
   "execution_count": 6,
   "metadata": {},
   "outputs": [],
   "source": [
    "# Models, tune parameters, if you'd like ;)\n",
    "svd = SVD() # Singular Value Decomposition\n",
    "nmf = NMF() # Non-negative Matrix factorization"
   ]
  },
  {
   "cell_type": "markdown",
   "metadata": {},
   "source": [
    "#### Model Evaluation\n",
    "Don't expect accurate models <- they are trained with random noise"
   ]
  },
  {
   "cell_type": "code",
   "execution_count": 7,
   "metadata": {},
   "outputs": [
    {
     "name": "stdout",
     "output_type": "stream",
     "text": [
      "Evaluating RMSE, MAE of algorithm NormalPredictor on 5 split(s).\n",
      "\n",
      "                  Fold 1  Fold 2  Fold 3  Fold 4  Fold 5  Mean    Std     \n",
      "RMSE (testset)    2.2287  2.2567  2.2318  2.2418  2.2391  2.2396  0.0098  \n",
      "MAE (testset)     1.8516  1.8831  1.8537  1.8687  1.8620  1.8638  0.0114  \n",
      "Fit time          0.07    0.06    0.07    0.07    0.07    0.07    0.00    \n",
      "Test time         0.11    0.11    0.11    0.11    0.10    0.11    0.00    \n",
      "Evaluating RMSE, MAE of algorithm SVD on 5 split(s).\n",
      "\n",
      "                  Fold 1  Fold 2  Fold 3  Fold 4  Fold 5  Mean    Std     \n",
      "RMSE (testset)    1.9066  1.9137  1.8958  1.9219  1.9217  1.9120  0.0099  \n",
      "MAE (testset)     1.6347  1.6388  1.6235  1.6465  1.6490  1.6385  0.0091  \n",
      "Fit time          6.22    6.18    5.56    4.68    6.20    5.77    0.60    \n",
      "Test time         0.14    0.13    0.14    0.14    0.13    0.13    0.00    \n",
      "Evaluating RMSE, MAE of algorithm NMF on 5 split(s).\n",
      "\n",
      "                  Fold 1  Fold 2  Fold 3  Fold 4  Fold 5  Mean    Std     \n",
      "RMSE (testset)    1.8248  1.8385  1.8230  1.8307  1.8361  1.8306  0.0061  \n",
      "MAE (testset)     1.5681  1.5835  1.5697  1.5777  1.5782  1.5755  0.0057  \n",
      "Fit time          5.51    5.64    6.30    6.55    5.69    5.94    0.41    \n",
      "Test time         0.21    0.11    0.11    0.11    0.12    0.13    0.04    \n"
     ]
    }
   ],
   "source": [
    "for algo in [baseline_model, svd, nmf]:\n",
    "    cross_validate(algo, ds, measures=[\"RMSE\", \"MAE\"], cv=5, verbose=True)"
   ]
  },
  {
   "cell_type": "markdown",
   "metadata": {},
   "source": [
    "### k-NN-based CF"
   ]
  },
  {
   "cell_type": "code",
   "execution_count": 8,
   "metadata": {},
   "outputs": [],
   "source": [
    "from surprise.prediction_algorithms.knns import KNNBasic\n",
    "\n",
    "sim_options = {\"name\": \"pearson\", # pearson's r\n",
    "               \"user_based\": False  # item-based\n",
    "               }\n",
    "\n",
    "knn = KNNBasic(sim_options=sim_options)"
   ]
  },
  {
   "cell_type": "markdown",
   "metadata": {},
   "source": [
    "#### Model Evaluation\n",
    "Don't expect accurate models <- they are trained with random noise"
   ]
  },
  {
   "cell_type": "code",
   "execution_count": 9,
   "metadata": {},
   "outputs": [
    {
     "name": "stdout",
     "output_type": "stream",
     "text": [
      "Computing the pearson similarity matrix...\n",
      "Computing the pearson similarity matrix...\n",
      "Computing the pearson similarity matrix...\n",
      "Computing the pearson similarity matrix...\n",
      "Computing the pearson similarity matrix...\n",
      "Done computing similarity matrix.\n",
      "Done computing similarity matrix.\n",
      "Done computing similarity matrix.\n",
      "Done computing similarity matrix.\n",
      "Done computing similarity matrix.\n",
      "Evaluating RMSE, MAE of algorithm KNNBasic on 5 split(s).\n",
      "\n",
      "                  Fold 1  Fold 2  Fold 3  Fold 4  Fold 5  Mean    Std     \n",
      "RMSE (testset)    1.7774  1.7803  1.7871  1.7842  1.7867  1.7831  0.0038  \n",
      "MAE (testset)     1.5437  1.5473  1.5555  1.5523  1.5535  1.5504  0.0043  \n",
      "Fit time          6.93    6.36    6.73    5.65    5.63    6.26    0.54    \n",
      "Test time         16.44   15.78   16.34   15.59   15.77   15.98   0.34    \n"
     ]
    },
    {
     "data": {
      "text/plain": [
       "{'fit_time': (6.9294939041137695,\n",
       "  6.358834981918335,\n",
       "  6.726486444473267,\n",
       "  5.651165008544922,\n",
       "  5.634487628936768),\n",
       " 'test_mae': array([1.54365298, 1.547256  , 1.5554516 , 1.55232624, 1.55353504]),\n",
       " 'test_rmse': array([1.77739804, 1.78027534, 1.78708917, 1.78420089, 1.78667148]),\n",
       " 'test_time': (16.439178466796875,\n",
       "  15.778387308120728,\n",
       "  16.336272954940796,\n",
       "  15.594653606414795,\n",
       "  15.772710084915161)}"
      ]
     },
     "execution_count": 9,
     "metadata": {},
     "output_type": "execute_result"
    }
   ],
   "source": [
    "cross_validate(knn, ds, measures=[\"RMSE\", \"MAE\"], cv=5, verbose=True)"
   ]
  },
  {
   "cell_type": "markdown",
   "metadata": {},
   "source": [
    "## Final model and predictions"
   ]
  },
  {
   "cell_type": "markdown",
   "metadata": {},
   "source": [
    "#### Train & evaluate final model"
   ]
  },
  {
   "cell_type": "code",
   "execution_count": 10,
   "metadata": {},
   "outputs": [
    {
     "name": "stdout",
     "output_type": "stream",
     "text": [
      "Computing the pearson similarity matrix...\n",
      "Done computing similarity matrix.\n",
      "RMSE: 1.3321\n"
     ]
    },
    {
     "data": {
      "text/plain": [
       "1.3321412404968649"
      ]
     },
     "execution_count": 10,
     "metadata": {},
     "output_type": "execute_result"
    }
   ],
   "source": [
    "# Train final model\n",
    "trainset = ds.build_full_trainset()\n",
    "knn.fit(trainset)\n",
    "\n",
    "# RMSE of final model\n",
    "testset = trainset.build_testset()\n",
    "test_pred = knn.test(testset)\n",
    "accuracy.rmse(test_pred, verbose=True) # should be very bad ;)"
   ]
  },
  {
   "cell_type": "markdown",
   "metadata": {},
   "source": [
    "#### Predict some document ratings"
   ]
  },
  {
   "cell_type": "code",
   "execution_count": 11,
   "metadata": {},
   "outputs": [],
   "source": [
    "combinations_to_predict = [(\"Aaron Keith III\", \"http://gregory.com/\"),\n",
    "                           (\"Abigail Wong\", \"http://hicks.com/\"),\n",
    "                           (\"Julie Bullock\", \"https://www.garcia.com/\"),\n",
    "                           (\"Victoria Perez\", \"http://lee-phillips.org/register/\")]"
   ]
  },
  {
   "cell_type": "code",
   "execution_count": 12,
   "metadata": {},
   "outputs": [
    {
     "name": "stdout",
     "output_type": "stream",
     "text": [
      "Aaron Keith III should rate http://gregory.com/ with 1 stars\n",
      "Abigail Wong should rate http://hicks.com/ with 1 stars\n",
      "Julie Bullock should rate https://www.garcia.com/ with 1 stars\n",
      "Victoria Perez should rate http://lee-phillips.org/register/ with 2 stars\n"
     ]
    }
   ],
   "source": [
    "# Predictions\n",
    "for combination in combinations_to_predict:\n",
    "    user = combination[0]\n",
    "    doc = combination[1]\n",
    "    pred = knn.predict(user, doc)\n",
    "    print(pred[0], \"should rate\", pred[1], \"with\", int(round(pred[3])), \"stars\")"
   ]
  },
  {
   "cell_type": "markdown",
   "metadata": {},
   "source": [
    "## Memory-based Collaborative Filtering"
   ]
  },
  {
   "cell_type": "markdown",
   "metadata": {},
   "source": [
    "### Item-based CF"
   ]
  },
  {
   "cell_type": "code",
   "execution_count": 13,
   "metadata": {},
   "outputs": [],
   "source": [
    "#FIXME"
   ]
  }
 ],
 "metadata": {
  "kernelspec": {
   "display_name": "Python 3",
   "language": "python",
   "name": "python3"
  },
  "language_info": {
   "codemirror_mode": {
    "name": "ipython",
    "version": 3
   },
   "file_extension": ".py",
   "mimetype": "text/x-python",
   "name": "python",
   "nbconvert_exporter": "python",
   "pygments_lexer": "ipython3",
   "version": "3.6.4"
  }
 },
 "nbformat": 4,
 "nbformat_minor": 2
}
