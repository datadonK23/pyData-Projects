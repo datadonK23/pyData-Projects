{
 "cells": [
  {
   "cell_type": "code",
   "execution_count": 1,
   "metadata": {},
   "outputs": [],
   "source": [
    "import numpy as np\n",
    "import pandas as pd"
   ]
  },
  {
   "cell_type": "markdown",
   "metadata": {},
   "source": [
    "### Preprocess data"
   ]
  },
  {
   "cell_type": "code",
   "execution_count": 2,
   "metadata": {},
   "outputs": [],
   "source": [
    "path = \"../data/petdata_1000_100.csv\"\n",
    "raw_data = pd.read_csv(path, index_col=\"doc_uri\")\n",
    "assert raw_data.shape == (1000,100), \"Import error, df has false shape\""
   ]
  },
  {
   "cell_type": "markdown",
   "metadata": {},
   "source": [
    "Conversion and cleaning"
   ]
  },
  {
   "cell_type": "code",
   "execution_count": 3,
   "metadata": {},
   "outputs": [
    {
     "name": "stdout",
     "output_type": "stream",
     "text": [
      "Shape: (100000, 3)\n"
     ]
    },
    {
     "data": {
      "text/html": [
       "<div>\n",
       "<style scoped>\n",
       "    .dataframe tbody tr th:only-of-type {\n",
       "        vertical-align: middle;\n",
       "    }\n",
       "\n",
       "    .dataframe tbody tr th {\n",
       "        vertical-align: top;\n",
       "    }\n",
       "\n",
       "    .dataframe thead th {\n",
       "        text-align: right;\n",
       "    }\n",
       "</style>\n",
       "<table border=\"1\" class=\"dataframe\">\n",
       "  <thead>\n",
       "    <tr style=\"text-align: right;\">\n",
       "      <th></th>\n",
       "      <th>user</th>\n",
       "      <th>doc_uri</th>\n",
       "      <th>rating</th>\n",
       "    </tr>\n",
       "  </thead>\n",
       "  <tbody>\n",
       "    <tr>\n",
       "      <th>0</th>\n",
       "      <td>Aaron Keith III</td>\n",
       "      <td>http://www.vargas.biz/login.php</td>\n",
       "      <td>1.0</td>\n",
       "    </tr>\n",
       "    <tr>\n",
       "      <th>1</th>\n",
       "      <td>Aaron Keith III</td>\n",
       "      <td>http://wallace-walker.info/index/</td>\n",
       "      <td>1.0</td>\n",
       "    </tr>\n",
       "    <tr>\n",
       "      <th>2</th>\n",
       "      <td>Aaron Keith III</td>\n",
       "      <td>http://www.jimenez.biz/</td>\n",
       "      <td>3.0</td>\n",
       "    </tr>\n",
       "    <tr>\n",
       "      <th>3</th>\n",
       "      <td>Aaron Keith III</td>\n",
       "      <td>http://www.logan.com/about.html</td>\n",
       "      <td>0.0</td>\n",
       "    </tr>\n",
       "    <tr>\n",
       "      <th>4</th>\n",
       "      <td>Aaron Keith III</td>\n",
       "      <td>http://cox.org/list/tag/faq.html</td>\n",
       "      <td>5.0</td>\n",
       "    </tr>\n",
       "  </tbody>\n",
       "</table>\n",
       "</div>"
      ],
      "text/plain": [
       "              user                            doc_uri  rating\n",
       "0  Aaron Keith III    http://www.vargas.biz/login.php     1.0\n",
       "1  Aaron Keith III  http://wallace-walker.info/index/     1.0\n",
       "2  Aaron Keith III            http://www.jimenez.biz/     3.0\n",
       "3  Aaron Keith III    http://www.logan.com/about.html     0.0\n",
       "4  Aaron Keith III   http://cox.org/list/tag/faq.html     5.0"
      ]
     },
     "execution_count": 3,
     "metadata": {},
     "output_type": "execute_result"
    }
   ],
   "source": [
    "data = raw_data.unstack().to_frame().reset_index()\n",
    "data.columns = [\"user\", \"doc_uri\", \"rating\"]\n",
    "\n",
    "data.fillna(0, inplace=True)\n",
    "\n",
    "print(\"Shape:\", data.shape)\n",
    "data.head()"
   ]
  },
  {
   "cell_type": "code",
   "execution_count": 4,
   "metadata": {},
   "outputs": [],
   "source": [
    "combinations_to_predict = [(\"Aaron Keith III\", \"http://gregory.com/\"),\n",
    "                           (\"Abigail Wong\", \"http://hicks.com/\"),\n",
    "                           (\"Julie Bullock\", \"https://www.garcia.com/\"),\n",
    "                           (\"Victoria Perez\", \"http://lee-phillips.org/register/\")]"
   ]
  },
  {
   "cell_type": "markdown",
   "metadata": {},
   "source": [
    "# Recommendation Engines"
   ]
  },
  {
   "cell_type": "markdown",
   "metadata": {},
   "source": [
    "## Memory-based Collaborative Filtering"
   ]
  },
  {
   "cell_type": "markdown",
   "metadata": {},
   "source": [
    "### Item-based CF"
   ]
  },
  {
   "cell_type": "code",
   "execution_count": 5,
   "metadata": {},
   "outputs": [],
   "source": [
    "#FIXME"
   ]
  },
  {
   "cell_type": "code",
   "execution_count": null,
   "metadata": {},
   "outputs": [],
   "source": []
  },
  {
   "cell_type": "markdown",
   "metadata": {},
   "source": [
    "## Matrix Factorization-based Collaborative Filtering"
   ]
  },
  {
   "cell_type": "code",
   "execution_count": 6,
   "metadata": {},
   "outputs": [],
   "source": [
    "from surprise import SVD, Dataset, Reader, NMF\n",
    "from surprise.model_selection import cross_validate\n",
    "\n",
    "reader = Reader(rating_scale=(1, 5))\n",
    "ds = Dataset.load_from_df(data[[\"user\", \"doc_uri\", \"rating\"]], reader)"
   ]
  },
  {
   "cell_type": "markdown",
   "metadata": {},
   "source": [
    "### Model Evaluation\n",
    "Don't expect accurate models <- they are trained with random noise"
   ]
  },
  {
   "cell_type": "code",
   "execution_count": 7,
   "metadata": {},
   "outputs": [
    {
     "name": "stdout",
     "output_type": "stream",
     "text": [
      "Evaluating RMSE, MAE of algorithm SVD on 5 split(s).\n",
      "\n",
      "                  Fold 1  Fold 2  Fold 3  Fold 4  Fold 5  Mean    Std     \n",
      "RMSE (testset)    1.9180  1.9148  1.9169  1.9173  1.9096  1.9153  0.0031  \n",
      "MAE (testset)     1.6461  1.6436  1.6414  1.6399  1.6330  1.6408  0.0045  \n",
      "Fit time          5.62    6.64    5.24    6.26    6.20    5.99    0.50    \n",
      "Test time         0.15    0.15    0.14    0.15    0.14    0.15    0.00    \n",
      "Evaluating RMSE, MAE of algorithm NMF on 5 split(s).\n",
      "\n",
      "                  Fold 1  Fold 2  Fold 3  Fold 4  Fold 5  Mean    Std     \n",
      "RMSE (testset)    1.8316  1.8258  1.8210  1.8296  1.8278  1.8272  0.0036  \n",
      "MAE (testset)     1.5750  1.5721  1.5662  1.5768  1.5727  1.5726  0.0036  \n",
      "Fit time          6.35    6.81    5.17    6.28    4.88    5.90    0.74    \n",
      "Test time         0.11    0.14    0.11    0.12    0.20    0.14    0.03    \n"
     ]
    }
   ],
   "source": [
    "# Models, tune parameters, if you'd like ;)\n",
    "svd = SVD() # Singular Value Decomposition\n",
    "nmf = NMF() # Non-negative Matrix factorization\n",
    "\n",
    "for algo in [svd, nmf]:\n",
    "    cross_validate(algo, ds, measures=[\"RMSE\", \"MAE\"], cv=5, verbose=True)"
   ]
  },
  {
   "cell_type": "markdown",
   "metadata": {},
   "source": [
    "### Final model and predictions"
   ]
  },
  {
   "cell_type": "code",
   "execution_count": 8,
   "metadata": {},
   "outputs": [
    {
     "data": {
      "text/plain": [
       "<surprise.prediction_algorithms.matrix_factorization.NMF at 0x7f93f4ad17f0>"
      ]
     },
     "execution_count": 8,
     "metadata": {},
     "output_type": "execute_result"
    }
   ],
   "source": [
    "# Train final model\n",
    "trainset = ds.build_full_trainset()\n",
    "nmf.fit(trainset)"
   ]
  },
  {
   "cell_type": "code",
   "execution_count": 9,
   "metadata": {},
   "outputs": [
    {
     "name": "stdout",
     "output_type": "stream",
     "text": [
      "Aaron Keith III should rate http://gregory.com/ with 2 stars\n",
      "Abigail Wong should rate http://hicks.com/ with 1 stars\n",
      "Julie Bullock should rate https://www.garcia.com/ with 1 stars\n",
      "Victoria Perez should rate http://lee-phillips.org/register/ with 2 stars\n"
     ]
    }
   ],
   "source": [
    "# Predictions\n",
    "for combination in combinations_to_predict:\n",
    "    user = combination[0]\n",
    "    doc = combination[1]\n",
    "    pred = nmf.predict(user, doc)\n",
    "    print(pred[0], \"should rate\", pred[1], \"with\", int(round(pred[3])), \"stars\")"
   ]
  },
  {
   "cell_type": "code",
   "execution_count": null,
   "metadata": {},
   "outputs": [],
   "source": []
  }
 ],
 "metadata": {
  "kernelspec": {
   "display_name": "Python 3",
   "language": "python",
   "name": "python3"
  },
  "language_info": {
   "codemirror_mode": {
    "name": "ipython",
    "version": 3
   },
   "file_extension": ".py",
   "mimetype": "text/x-python",
   "name": "python",
   "nbconvert_exporter": "python",
   "pygments_lexer": "ipython3",
   "version": "3.6.4"
  }
 },
 "nbformat": 4,
 "nbformat_minor": 2
}
