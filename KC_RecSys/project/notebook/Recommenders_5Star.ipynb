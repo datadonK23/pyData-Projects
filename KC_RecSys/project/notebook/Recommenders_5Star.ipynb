{
 "cells": [
  {
   "cell_type": "code",
   "execution_count": 1,
   "metadata": {},
   "outputs": [],
   "source": [
    "import numpy as np\n",
    "import pandas as pd\n",
    "\n",
    "import matplotlib.pyplot as plt\n",
    "%matplotlib inline"
   ]
  },
  {
   "cell_type": "markdown",
   "metadata": {},
   "source": [
    "### Preprocess data"
   ]
  },
  {
   "cell_type": "code",
   "execution_count": 2,
   "metadata": {},
   "outputs": [],
   "source": [
    "# Import data\n",
    "path = \"../data/petdata_1000_100.csv\"\n",
    "raw_data = pd.read_csv(path, index_col=\"doc_uri\")\n",
    "assert raw_data.shape == (1000,100), \"Import error, df has false shape\""
   ]
  },
  {
   "cell_type": "markdown",
   "metadata": {},
   "source": [
    "#### Conversion and cleaning\n",
    "Surprise forces you to use schema \\[\"user_id\", \"doc_id\", \"rating\"\\]\n",
    "\n",
    "CF models are often sensitive to NA values -> replace NaN with 0 (TBD: originally 0 codes to non-rating, but doc already shown to user)"
   ]
  },
  {
   "cell_type": "code",
   "execution_count": 3,
   "metadata": {},
   "outputs": [
    {
     "data": {
      "text/html": [
       "<div>\n",
       "<style scoped>\n",
       "    .dataframe tbody tr th:only-of-type {\n",
       "        vertical-align: middle;\n",
       "    }\n",
       "\n",
       "    .dataframe tbody tr th {\n",
       "        vertical-align: top;\n",
       "    }\n",
       "\n",
       "    .dataframe thead th {\n",
       "        text-align: right;\n",
       "    }\n",
       "</style>\n",
       "<table border=\"1\" class=\"dataframe\">\n",
       "  <thead>\n",
       "    <tr style=\"text-align: right;\">\n",
       "      <th></th>\n",
       "      <th>user</th>\n",
       "      <th>doc_uri</th>\n",
       "      <th>rating</th>\n",
       "    </tr>\n",
       "  </thead>\n",
       "  <tbody>\n",
       "    <tr>\n",
       "      <th>0</th>\n",
       "      <td>Aaron Keith III</td>\n",
       "      <td>http://www.vargas.biz/login.php</td>\n",
       "      <td>1.0</td>\n",
       "    </tr>\n",
       "    <tr>\n",
       "      <th>1</th>\n",
       "      <td>Aaron Keith III</td>\n",
       "      <td>http://wallace-walker.info/index/</td>\n",
       "      <td>1.0</td>\n",
       "    </tr>\n",
       "    <tr>\n",
       "      <th>2</th>\n",
       "      <td>Aaron Keith III</td>\n",
       "      <td>http://www.jimenez.biz/</td>\n",
       "      <td>3.0</td>\n",
       "    </tr>\n",
       "    <tr>\n",
       "      <th>3</th>\n",
       "      <td>Aaron Keith III</td>\n",
       "      <td>http://www.logan.com/about.html</td>\n",
       "      <td>0.0</td>\n",
       "    </tr>\n",
       "    <tr>\n",
       "      <th>4</th>\n",
       "      <td>Aaron Keith III</td>\n",
       "      <td>http://cox.org/list/tag/faq.html</td>\n",
       "      <td>5.0</td>\n",
       "    </tr>\n",
       "  </tbody>\n",
       "</table>\n",
       "</div>"
      ],
      "text/plain": [
       "              user                            doc_uri  rating\n",
       "0  Aaron Keith III    http://www.vargas.biz/login.php     1.0\n",
       "1  Aaron Keith III  http://wallace-walker.info/index/     1.0\n",
       "2  Aaron Keith III            http://www.jimenez.biz/     3.0\n",
       "3  Aaron Keith III    http://www.logan.com/about.html     0.0\n",
       "4  Aaron Keith III   http://cox.org/list/tag/faq.html     5.0"
      ]
     },
     "execution_count": 3,
     "metadata": {},
     "output_type": "execute_result"
    }
   ],
   "source": [
    "# Convert df\n",
    "data = raw_data.unstack().to_frame().reset_index()\n",
    "data.columns = [\"user\", \"doc_uri\", \"rating\"]\n",
    "\n",
    "# Missing value handling\n",
    "data.fillna(0, inplace=True) \n",
    "\n",
    "assert data.shape == (raw_data.shape[0] * raw_data.shape[1], 3), \"Conversion error, df has false shape\"\n",
    "assert data.rating.max() <= 5., \"Value error, max rating over upper bound\"\n",
    "assert data.rating.min() >= 0., \"Value error, min rating under lower bound\"\n",
    "data.head()"
   ]
  },
  {
   "cell_type": "markdown",
   "metadata": {},
   "source": [
    "### Descriptive statistics of ratings\n",
    "Not meaningful <- randomly generated"
   ]
  },
  {
   "cell_type": "code",
   "execution_count": 4,
   "metadata": {},
   "outputs": [
    {
     "data": {
      "text/html": [
       "<div>\n",
       "<style scoped>\n",
       "    .dataframe tbody tr th:only-of-type {\n",
       "        vertical-align: middle;\n",
       "    }\n",
       "\n",
       "    .dataframe tbody tr th {\n",
       "        vertical-align: top;\n",
       "    }\n",
       "\n",
       "    .dataframe thead th {\n",
       "        text-align: right;\n",
       "    }\n",
       "</style>\n",
       "<table border=\"1\" class=\"dataframe\">\n",
       "  <thead>\n",
       "    <tr style=\"text-align: right;\">\n",
       "      <th></th>\n",
       "      <th>count</th>\n",
       "      <th>mean</th>\n",
       "      <th>std</th>\n",
       "      <th>min</th>\n",
       "      <th>25%</th>\n",
       "      <th>50%</th>\n",
       "      <th>75%</th>\n",
       "      <th>max</th>\n",
       "    </tr>\n",
       "  </thead>\n",
       "  <tbody>\n",
       "    <tr>\n",
       "      <th>rating</th>\n",
       "      <td>100000.0</td>\n",
       "      <td>1.6925</td>\n",
       "      <td>1.826367</td>\n",
       "      <td>0.0</td>\n",
       "      <td>0.0</td>\n",
       "      <td>1.0</td>\n",
       "      <td>3.0</td>\n",
       "      <td>5.0</td>\n",
       "    </tr>\n",
       "  </tbody>\n",
       "</table>\n",
       "</div>"
      ],
      "text/plain": [
       "           count    mean       std  min  25%  50%  75%  max\n",
       "rating  100000.0  1.6925  1.826367  0.0  0.0  1.0  3.0  5.0"
      ]
     },
     "execution_count": 4,
     "metadata": {},
     "output_type": "execute_result"
    }
   ],
   "source": [
    "data.rating.describe().to_frame().T"
   ]
  },
  {
   "cell_type": "code",
   "execution_count": 5,
   "metadata": {},
   "outputs": [
    {
     "data": {
      "image/png": "[encoded data removed]",
      "text/plain": [
       "<Figure size 648x216 with 2 Axes>"
      ]
     },
     "metadata": {},
     "output_type": "display_data"
    }
   ],
   "source": [
    "# Plot distribution of (random) ratings \n",
    "\n",
    "plt.rcParams['figure.figsize'] = [9, 3]\n",
    "\n",
    "plt.subplot(1, 2, 1)\n",
    "hist = data.rating.plot(kind=\"hist\", grid=True,\n",
    "                        bins=[-0.1,0.1,0.9,1.1,1.9,2.1,2.9,3.1,3.9,4.1,4.9,5.1])\n",
    "hist.set(xlabel= \"rating\")\n",
    "\n",
    "plt.subplot(1, 2, 2)\n",
    "box = data.rating.plot(kind=\"box\")\n",
    "\n",
    "plt.tight_layout()\n",
    "plt.savefig(\"plots/ratings.png\", orientation=\"landscape\", dpi=120)"
   ]
  },
  {
   "cell_type": "markdown",
   "metadata": {},
   "source": [
    "# Recommendation Engines"
   ]
  },
  {
   "cell_type": "markdown",
   "metadata": {},
   "source": [
    "## Model-based Collaborative Filtering"
   ]
  },
  {
   "cell_type": "code",
   "execution_count": 6,
   "metadata": {},
   "outputs": [],
   "source": [
    "from surprise import SVD, Dataset, Reader, NMF, accuracy\n",
    "from surprise.model_selection import cross_validate\n",
    "from surprise.prediction_algorithms.random_pred import NormalPredictor\n",
    "\n",
    "reader = Reader(rating_scale=(1, 5))\n",
    "ds = Dataset.load_from_df(data[[\"user\", \"doc_uri\", \"rating\"]], reader)\n",
    "\n",
    "baseline_model = NormalPredictor() # Baseline model, predicts labels based on distribution of ratings"
   ]
  },
  {
   "cell_type": "markdown",
   "metadata": {},
   "source": [
    "### Matrix factorization-based CF"
   ]
  },
  {
   "cell_type": "code",
   "execution_count": 7,
   "metadata": {},
   "outputs": [],
   "source": [
    "# Models - tune parameters, if you'd like ;)\n",
    "svd = SVD() # Singular Value Decomposition\n",
    "nmf = NMF() # Non-negative Matrix factorization"
   ]
  },
  {
   "cell_type": "markdown",
   "metadata": {},
   "source": [
    "#### Model Evaluation\n",
    "Don't expect accurate models <- they are trained with random noise"
   ]
  },
  {
   "cell_type": "code",
   "execution_count": 8,
   "metadata": {},
   "outputs": [
    {
     "name": "stdout",
     "output_type": "stream",
     "text": [
      "Evaluating RMSE, MAE of algorithm NormalPredictor on 5 split(s).\n",
      "\n",
      "                  Fold 1  Fold 2  Fold 3  Fold 4  Fold 5  Mean    Std     \n",
      "RMSE (testset)    2.2390  2.2316  2.2146  2.2412  2.2386  2.2330  0.0097  \n",
      "MAE (testset)     1.8609  1.8607  1.8439  1.8664  1.8672  1.8598  0.0084  \n",
      "Fit time          0.08    0.12    0.08    0.07    0.07    0.08    0.02    \n",
      "Test time         0.12    0.12    0.11    0.11    0.10    0.11    0.01    \n",
      "Evaluating RMSE, MAE of algorithm SVD on 5 split(s).\n",
      "\n",
      "                  Fold 1  Fold 2  Fold 3  Fold 4  Fold 5  Mean    Std     \n",
      "RMSE (testset)    1.9133  1.9143  1.9141  1.9208  1.9139  1.9153  0.0028  \n",
      "MAE (testset)     1.6388  1.6390  1.6402  1.6455  1.6414  1.6410  0.0024  \n",
      "Fit time          5.37    5.34    5.95    6.06    6.32    5.81    0.39    \n",
      "Test time         0.13    0.15    0.13    0.14    0.13    0.13    0.01    \n",
      "Evaluating RMSE, MAE of algorithm NMF on 5 split(s).\n",
      "\n",
      "                  Fold 1  Fold 2  Fold 3  Fold 4  Fold 5  Mean    Std     \n",
      "RMSE (testset)    1.8283  1.8277  1.8260  1.8299  1.8351  1.8294  0.0031  \n",
      "MAE (testset)     1.5751  1.5722  1.5705  1.5768  1.5800  1.5749  0.0033  \n",
      "Fit time          6.77    6.47    6.91    6.22    6.59    6.59    0.24    \n",
      "Test time         0.21    0.21    0.12    0.16    0.12    0.16    0.04    \n"
     ]
    }
   ],
   "source": [
    "for algo in [baseline_model, svd, nmf]:\n",
    "    cross_validate(algo, ds, measures=[\"RMSE\", \"MAE\"], cv=5, verbose=True)"
   ]
  },
  {
   "cell_type": "markdown",
   "metadata": {},
   "source": [
    "### k-NN-based CF"
   ]
  },
  {
   "cell_type": "code",
   "execution_count": 9,
   "metadata": {},
   "outputs": [],
   "source": [
    "from surprise.prediction_algorithms.knns import KNNBasic\n",
    "\n",
    "sim_options = {\"name\": \"pearson\", # pearson's r\n",
    "               \"user_based\": False  # item-based\n",
    "               }\n",
    "\n",
    "knn = KNNBasic(sim_options=sim_options)"
   ]
  },
  {
   "cell_type": "markdown",
   "metadata": {},
   "source": [
    "#### Model Evaluation\n",
    "Don't expect accurate models <- they are trained with random noise"
   ]
  },
  {
   "cell_type": "code",
   "execution_count": 10,
   "metadata": {},
   "outputs": [
    {
     "name": "stdout",
     "output_type": "stream",
     "text": [
      "Computing the pearson similarity matrix...\n",
      "Computing the pearson similarity matrix...\n",
      "Computing the pearson similarity matrix...\n",
      "Computing the pearson similarity matrix...\n",
      "Computing the pearson similarity matrix...\n",
      "Done computing similarity matrix.\n",
      "Done computing similarity matrix.\n",
      "Done computing similarity matrix.\n",
      "Done computing similarity matrix.\n",
      "Done computing similarity matrix.\n",
      "Evaluating RMSE, MAE of algorithm KNNBasic on 5 split(s).\n",
      "\n",
      "                  Fold 1  Fold 2  Fold 3  Fold 4  Fold 5  Mean    Std     \n",
      "RMSE (testset)    1.7801  1.7824  1.7901  1.7829  1.7809  1.7833  0.0035  \n",
      "MAE (testset)     1.5493  1.5491  1.5542  1.5501  1.5469  1.5499  0.0024  \n",
      "Fit time          6.21    6.00    6.52    7.74    4.56    6.21    1.02    \n",
      "Test time         15.85   13.38   15.52   14.39   16.20   15.07   1.04    \n"
     ]
    },
    {
     "data": {
      "text/plain": [
       "{'fit_time': (6.211174488067627,\n",
       "  5.996851444244385,\n",
       "  6.519110202789307,\n",
       "  7.739609956741333,\n",
       "  4.562095403671265),\n",
       " 'test_mae': array([1.54929938, 1.54914995, 1.55422394, 1.55005547, 1.54685839]),\n",
       " 'test_rmse': array([1.78010419, 1.78244229, 1.79006299, 1.78291537, 1.78085411]),\n",
       " 'test_time': (15.854188680648804,\n",
       "  13.37714147567749,\n",
       "  15.522441864013672,\n",
       "  14.388406753540039,\n",
       "  16.198522567749023)}"
      ]
     },
     "execution_count": 10,
     "metadata": {},
     "output_type": "execute_result"
    }
   ],
   "source": [
    "cross_validate(knn, ds, measures=[\"RMSE\", \"MAE\"], cv=5, verbose=True)"
   ]
  },
  {
   "cell_type": "markdown",
   "metadata": {},
   "source": [
    "## Final model and predictions\n",
    "kNN Basic looks most promising so far, so go for this one"
   ]
  },
  {
   "cell_type": "markdown",
   "metadata": {},
   "source": [
    "#### Train & evaluate final model"
   ]
  },
  {
   "cell_type": "code",
   "execution_count": 11,
   "metadata": {},
   "outputs": [
    {
     "name": "stdout",
     "output_type": "stream",
     "text": [
      "Computing the pearson similarity matrix...\n",
      "Done computing similarity matrix.\n",
      "RMSE: 1.3321\n"
     ]
    },
    {
     "data": {
      "text/plain": [
       "1.3321412404968649"
      ]
     },
     "execution_count": 11,
     "metadata": {},
     "output_type": "execute_result"
    }
   ],
   "source": [
    "# Train final model\n",
    "trainset = ds.build_full_trainset()\n",
    "knn.fit(trainset)\n",
    "\n",
    "# RMSE of final model\n",
    "testset = trainset.build_testset()\n",
    "test_pred = knn.test(testset)\n",
    "accuracy.rmse(test_pred, verbose=True) # should be very bad ;)"
   ]
  },
  {
   "cell_type": "markdown",
   "metadata": {},
   "source": [
    "#### Predict some document ratings"
   ]
  },
  {
   "cell_type": "code",
   "execution_count": 12,
   "metadata": {},
   "outputs": [],
   "source": [
    "combinations_to_predict = [(\"Aaron Keith III\", \"http://gregory.com/\"),\n",
    "                           (\"Abigail Wong\", \"http://hicks.com/\"),\n",
    "                           (\"Julie Bullock\", \"https://www.garcia.com/\"),\n",
    "                           (\"Victoria Perez\", \"http://lee-phillips.org/register/\")]"
   ]
  },
  {
   "cell_type": "code",
   "execution_count": 13,
   "metadata": {},
   "outputs": [
    {
     "name": "stdout",
     "output_type": "stream",
     "text": [
      "Aaron Keith III should rate http://gregory.com/ with 1 stars\n",
      "Abigail Wong should rate http://hicks.com/ with 1 stars\n",
      "Julie Bullock should rate https://www.garcia.com/ with 1 stars\n",
      "Victoria Perez should rate http://lee-phillips.org/register/ with 2 stars\n"
     ]
    }
   ],
   "source": [
    "# Predictions\n",
    "for combination in combinations_to_predict:\n",
    "    user = combination[0]\n",
    "    doc = combination[1]\n",
    "    pred = knn.predict(user, doc)\n",
    "    print(pred[0], \"should rate\", pred[1], \"with\", int(round(pred[3])), \"stars\")"
   ]
  },
  {
   "cell_type": "code",
   "execution_count": null,
   "metadata": {},
   "outputs": [],
   "source": []
  }
 ],
 "metadata": {
  "kernelspec": {
   "display_name": "Python 3",
   "language": "python",
   "name": "python3"
  },
  "language_info": {
   "codemirror_mode": {
    "name": "ipython",
    "version": 3
   },
   "file_extension": ".py",
   "mimetype": "text/x-python",
   "name": "python",
   "nbconvert_exporter": "python",
   "pygments_lexer": "ipython3",
   "version": "3.6.4"
  }
 },
 "nbformat": 4,
 "nbformat_minor": 2
}
