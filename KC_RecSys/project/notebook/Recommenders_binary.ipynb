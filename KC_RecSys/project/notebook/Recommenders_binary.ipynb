{
 "cells": [
  {
   "cell_type": "code",
   "execution_count": 37,
   "metadata": {},
   "outputs": [],
   "source": [
    "import numpy as np\n",
    "import pandas as pd\n",
    "\n",
    "import matplotlib.pyplot as plt\n",
    "%matplotlib inline"
   ]
  },
  {
   "cell_type": "markdown",
   "metadata": {},
   "source": [
    "### Preprocess data"
   ]
  },
  {
   "cell_type": "code",
   "execution_count": 38,
   "metadata": {},
   "outputs": [],
   "source": [
    "# Import data\n",
    "path = \"../data/petdata_binary_1000_100.csv\"\n",
    "raw_data = pd.read_csv(path, index_col=\"doc_uri\")\n",
    "assert raw_data.shape == (1000,100), \"Import error, df has false shape\""
   ]
  },
  {
   "cell_type": "markdown",
   "metadata": {},
   "source": [
    "#### Conversion and cleaning\n",
    "Surprise forces you to use schema \\[\"user_id\", \"doc_id\", \"rating\"\\]\n",
    "\n",
    "CF models are often sensitive to NA values -> replace NaN with 0 OR drop NaN. For demonstration purpose replacement used."
   ]
  },
  {
   "cell_type": "code",
   "execution_count": 39,
   "metadata": {},
   "outputs": [
    {
     "data": {
      "text/html": [
       "<div>\n",
       "<style scoped>\n",
       "    .dataframe tbody tr th:only-of-type {\n",
       "        vertical-align: middle;\n",
       "    }\n",
       "\n",
       "    .dataframe tbody tr th {\n",
       "        vertical-align: top;\n",
       "    }\n",
       "\n",
       "    .dataframe thead th {\n",
       "        text-align: right;\n",
       "    }\n",
       "</style>\n",
       "<table border=\"1\" class=\"dataframe\">\n",
       "  <thead>\n",
       "    <tr style=\"text-align: right;\">\n",
       "      <th></th>\n",
       "      <th>user</th>\n",
       "      <th>doc_uri</th>\n",
       "      <th>rating</th>\n",
       "    </tr>\n",
       "  </thead>\n",
       "  <tbody>\n",
       "    <tr>\n",
       "      <th>0</th>\n",
       "      <td>Aaron Keith III</td>\n",
       "      <td>http://www.vargas.biz/login.php</td>\n",
       "      <td>0.0</td>\n",
       "    </tr>\n",
       "    <tr>\n",
       "      <th>1</th>\n",
       "      <td>Aaron Keith III</td>\n",
       "      <td>http://wallace-walker.info/index/</td>\n",
       "      <td>0.0</td>\n",
       "    </tr>\n",
       "    <tr>\n",
       "      <th>2</th>\n",
       "      <td>Aaron Keith III</td>\n",
       "      <td>http://www.jimenez.biz/</td>\n",
       "      <td>0.0</td>\n",
       "    </tr>\n",
       "    <tr>\n",
       "      <th>3</th>\n",
       "      <td>Aaron Keith III</td>\n",
       "      <td>http://www.logan.com/about.html</td>\n",
       "      <td>1.0</td>\n",
       "    </tr>\n",
       "    <tr>\n",
       "      <th>4</th>\n",
       "      <td>Aaron Keith III</td>\n",
       "      <td>http://cox.org/list/tag/faq.html</td>\n",
       "      <td>0.0</td>\n",
       "    </tr>\n",
       "  </tbody>\n",
       "</table>\n",
       "</div>"
      ],
      "text/plain": [
       "              user                            doc_uri  rating\n",
       "0  Aaron Keith III    http://www.vargas.biz/login.php     0.0\n",
       "1  Aaron Keith III  http://wallace-walker.info/index/     0.0\n",
       "2  Aaron Keith III            http://www.jimenez.biz/     0.0\n",
       "3  Aaron Keith III    http://www.logan.com/about.html     1.0\n",
       "4  Aaron Keith III   http://cox.org/list/tag/faq.html     0.0"
      ]
     },
     "execution_count": 39,
     "metadata": {},
     "output_type": "execute_result"
    }
   ],
   "source": [
    "# Convert df\n",
    "data = raw_data.unstack().to_frame().reset_index()\n",
    "data.columns = [\"user\", \"doc_uri\", \"rating\"]\n",
    "\n",
    "# Missing value handling\n",
    "data.fillna(0, inplace=True)\n",
    "\n",
    "assert data.shape == (raw_data.shape[0] * raw_data.shape[1], 3), \"Conversion error, df has false shape\"\n",
    "assert data.rating.max() <= 1., \"Value error, max rating over upper bound\"\n",
    "assert data.rating.min() >= -1., \"Value error, min rating under lower bound\"\n",
    "data.head()"
   ]
  },
  {
   "cell_type": "markdown",
   "metadata": {},
   "source": [
    "### Descriptive statistics of ratings\n",
    "Not meaningful <- randomly generated"
   ]
  },
  {
   "cell_type": "code",
   "execution_count": 40,
   "metadata": {},
   "outputs": [
    {
     "data": {
      "text/html": [
       "<div>\n",
       "<style scoped>\n",
       "    .dataframe tbody tr th:only-of-type {\n",
       "        vertical-align: middle;\n",
       "    }\n",
       "\n",
       "    .dataframe tbody tr th {\n",
       "        vertical-align: top;\n",
       "    }\n",
       "\n",
       "    .dataframe thead th {\n",
       "        text-align: right;\n",
       "    }\n",
       "</style>\n",
       "<table border=\"1\" class=\"dataframe\">\n",
       "  <thead>\n",
       "    <tr style=\"text-align: right;\">\n",
       "      <th></th>\n",
       "      <th>count</th>\n",
       "      <th>mean</th>\n",
       "      <th>std</th>\n",
       "      <th>min</th>\n",
       "      <th>25%</th>\n",
       "      <th>50%</th>\n",
       "      <th>75%</th>\n",
       "      <th>max</th>\n",
       "    </tr>\n",
       "  </thead>\n",
       "  <tbody>\n",
       "    <tr>\n",
       "      <th>rating</th>\n",
       "      <td>100000.0</td>\n",
       "      <td>0.10561</td>\n",
       "      <td>0.405238</td>\n",
       "      <td>-1.0</td>\n",
       "      <td>0.0</td>\n",
       "      <td>0.0</td>\n",
       "      <td>0.0</td>\n",
       "      <td>1.0</td>\n",
       "    </tr>\n",
       "  </tbody>\n",
       "</table>\n",
       "</div>"
      ],
      "text/plain": [
       "           count     mean       std  min  25%  50%  75%  max\n",
       "rating  100000.0  0.10561  0.405238 -1.0  0.0  0.0  0.0  1.0"
      ]
     },
     "execution_count": 40,
     "metadata": {},
     "output_type": "execute_result"
    }
   ],
   "source": [
    "data.rating.describe().to_frame().T"
   ]
  },
  {
   "cell_type": "code",
   "execution_count": 41,
   "metadata": {},
   "outputs": [
    {
     "data": {
      "text/html": [
       "<div>\n",
       "<style scoped>\n",
       "    .dataframe tbody tr th:only-of-type {\n",
       "        vertical-align: middle;\n",
       "    }\n",
       "\n",
       "    .dataframe tbody tr th {\n",
       "        vertical-align: top;\n",
       "    }\n",
       "\n",
       "    .dataframe thead th {\n",
       "        text-align: right;\n",
       "    }\n",
       "</style>\n",
       "<table border=\"1\" class=\"dataframe\">\n",
       "  <thead>\n",
       "    <tr style=\"text-align: right;\">\n",
       "      <th></th>\n",
       "      <th>0.0</th>\n",
       "      <th>1.0</th>\n",
       "      <th>-1.0</th>\n",
       "    </tr>\n",
       "  </thead>\n",
       "  <tbody>\n",
       "    <tr>\n",
       "      <th>rating</th>\n",
       "      <td>0.82463</td>\n",
       "      <td>0.14049</td>\n",
       "      <td>0.03488</td>\n",
       "    </tr>\n",
       "  </tbody>\n",
       "</table>\n",
       "</div>"
      ],
      "text/plain": [
       "            0.0      1.0     -1.0\n",
       "rating  0.82463  0.14049  0.03488"
      ]
     },
     "execution_count": 41,
     "metadata": {},
     "output_type": "execute_result"
    }
   ],
   "source": [
    "data.rating.value_counts(normalize=True).to_frame().T"
   ]
  },
  {
   "cell_type": "code",
   "execution_count": 42,
   "metadata": {},
   "outputs": [
    {
     "data": {
      "image/png": "[encoded data removed]",
      "text/plain": [
       "<Figure size 432x288 with 1 Axes>"
      ]
     },
     "metadata": {},
     "output_type": "display_data"
    }
   ],
   "source": [
    "# Plot distribution of (random) ratings \n",
    "\n",
    "hist = data.rating.plot(kind=\"hist\", grid=True,\n",
    "                        bins=[-1.1,-0.9,-0.1,0.1,0.9,1.1])\n",
    "hist.set(xlabel= \"rating\")\n",
    "\n",
    "plt.tight_layout()\n",
    "plt.savefig(\"plots/ratings_binary.png\", orientation=\"landscape\", dpi=120)"
   ]
  },
  {
   "cell_type": "markdown",
   "metadata": {},
   "source": [
    "# Recommendation Engines"
   ]
  },
  {
   "cell_type": "code",
   "execution_count": 43,
   "metadata": {},
   "outputs": [],
   "source": [
    "from surprise import KNNWithMeans, SVD, Dataset, Reader, NMF, accuracy\n",
    "from surprise.model_selection import cross_validate\n",
    "from surprise.prediction_algorithms.random_pred import NormalPredictor\n",
    "\n",
    "reader = Reader(rating_scale=(-1, 1))\n",
    "ds = Dataset.load_from_df(data[[\"user\", \"doc_uri\", \"rating\"]], reader)\n",
    "\n",
    "baseline_model = NormalPredictor() # Baseline model, predicts labels based on distribution of ratings"
   ]
  },
  {
   "cell_type": "markdown",
   "metadata": {},
   "source": [
    "## Memory-based CF\n",
    "### User-based CF"
   ]
  },
  {
   "cell_type": "code",
   "execution_count": 44,
   "metadata": {},
   "outputs": [],
   "source": [
    "sim_options = {\"name\": \"cosine\", # cosine similarity\n",
    "               \"user_based\": True,  # user-based\n",
    "               \"min_support\": 10 # min number of common items, else pred 0\n",
    "               }\n",
    "\n",
    "user_knn = KNNWithMeans(sim_options=sim_options)"
   ]
  },
  {
   "cell_type": "markdown",
   "metadata": {},
   "source": [
    "### Item-based CF"
   ]
  },
  {
   "cell_type": "code",
   "execution_count": 70,
   "metadata": {},
   "outputs": [],
   "source": [
    "sim_options = {\"name\": \"cosine\", # cosine similarity\n",
    "               \"user_based\": False,  # item-based\n",
    "               \"min_support\": 5 # min number of common users, else pred 0\n",
    "               }\n",
    "\n",
    "item_knn = KNNWithMeans(sim_options=sim_options)"
   ]
  },
  {
   "cell_type": "markdown",
   "metadata": {},
   "source": [
    "### Evaluation\n",
    "User- & item-based CF are slightly better than baseline model (predicts labels based on distribution of ratings). User-based approach works surprisingly better than item-based CF and is faster."
   ]
  },
  {
   "cell_type": "code",
   "execution_count": 81,
   "metadata": {},
   "outputs": [
    {
     "name": "stdout",
     "output_type": "stream",
     "text": [
      "*** Baseline ***\n",
      "RMSE: 0.570 (std 0.0029) <- [0.57341373 0.5655742  0.5721536  0.57223207 0.56876657]\n",
      "MAE: 0.438 (std 0.0017) <- [0.43999212 0.43595218 0.4385579  0.44018472 0.43669824]\n",
      "Avg fit time: 0.08032s\n",
      "Computing the cosine similarity matrix...\n",
      "Done computing similarity matrix.\n",
      "Computing the cosine similarity matrix...\n",
      "Done computing similarity matrix.\n",
      "Computing the cosine similarity matrix...\n",
      "Computing the cosine similarity matrix...\n",
      "Done computing similarity matrix.\n",
      "Computing the cosine similarity matrix...\n",
      "Done computing similarity matrix.\n",
      "Done computing similarity matrix.\n",
      "*** User-based CF ***\n",
      "RMSE: 0.407 (std 0.0019) <- [0.40814717 0.40482627 0.40653714 0.40995887 0.40510271]\n",
      "MAE: 0.249 (std 0.0013) <- [0.25064633 0.24803622 0.2495216  0.25066304 0.24769782]\n",
      "Avg fit time: 0.25443s\n",
      "Computing the cosine similarity matrix...\n",
      "Computing the cosine similarity matrix...\n",
      "Computing the cosine similarity matrix...\n",
      "Computing the cosine similarity matrix...\n",
      "Computing the cosine similarity matrix...\n",
      "Done computing similarity matrix.\n",
      "Done computing similarity matrix.\n",
      "Done computing similarity matrix.\n",
      "Done computing similarity matrix.\n",
      "Done computing similarity matrix.\n",
      "*** Item-based CF ***\n",
      "RMSE: 0.411 (std 0.0021) <- [0.40933689 0.41083385 0.41118538 0.41387189 0.40751537]\n",
      "MAE: 0.261 (std 0.0013) <- [0.26041669 0.26043279 0.26143916 0.26277163 0.25867627]\n",
      "Avg fit time: 4.31310s\n"
     ]
    }
   ],
   "source": [
    "for algo_name, algo in zip([\"Baseline\", \"User-based CF\", \"Item-based CF\"],\n",
    "                           [baseline_model, user_knn, item_knn]):\n",
    "    history = cross_validate(algo, ds, measures=[\"RMSE\", \"MAE\"], cv=5, verbose=False)\n",
    "    print(\"***\", algo_name, \"***\")\n",
    "    print(\"RMSE: {:0.3f} (std {:0.4f}) <- {}\".format(history[\"test_rmse\"].mean(),\n",
    "                                                     history[\"test_rmse\"].std(),\n",
    "                                                     history[\"test_rmse\"]))\n",
    "    print(\"MAE: {:0.3f} (std {:0.4f}) <- {}\".format(history[\"test_mae\"].mean(),\n",
    "                                                     history[\"test_mae\"].std(),\n",
    "                                                     history[\"test_mae\"]))\n",
    "    print(\"Avg fit time: {:0.5f}s\".format(np.array(history[\"fit_time\"]).mean()))"
   ]
  },
  {
   "cell_type": "markdown",
   "metadata": {},
   "source": [
    "_But can we enhance this?_"
   ]
  },
  {
   "cell_type": "code",
   "execution_count": 82,
   "metadata": {},
   "outputs": [],
   "source": [
    "#FIXME"
   ]
  },
  {
   "cell_type": "markdown",
   "metadata": {},
   "source": [
    "## Memory-based\n",
    "### Matrix factorization-based CF"
   ]
  },
  {
   "cell_type": "code",
   "execution_count": 7,
   "metadata": {},
   "outputs": [],
   "source": [
    "# Models - tune parameters, if you'd like ;)\n",
    "svd = SVD() # Singular Value Decomposition\n",
    "nmf = NMF() # Non-negative Matrix factorization"
   ]
  },
  {
   "cell_type": "markdown",
   "metadata": {},
   "source": [
    "#### Model Evaluation\n",
    "Don't expect accurate models <- they are trained with random noise"
   ]
  },
  {
   "cell_type": "code",
   "execution_count": 8,
   "metadata": {},
   "outputs": [
    {
     "name": "stdout",
     "output_type": "stream",
     "text": [
      "Evaluating RMSE, MAE of algorithm NormalPredictor on 5 split(s).\n",
      "\n",
      "                  Fold 1  Fold 2  Fold 3  Fold 4  Fold 5  Mean    Std     \n",
      "RMSE (testset)    2.2390  2.2316  2.2146  2.2412  2.2386  2.2330  0.0097  \n",
      "MAE (testset)     1.8609  1.8607  1.8439  1.8664  1.8672  1.8598  0.0084  \n",
      "Fit time          0.08    0.12    0.08    0.07    0.07    0.08    0.02    \n",
      "Test time         0.12    0.12    0.11    0.11    0.10    0.11    0.01    \n",
      "Evaluating RMSE, MAE of algorithm SVD on 5 split(s).\n",
      "\n",
      "                  Fold 1  Fold 2  Fold 3  Fold 4  Fold 5  Mean    Std     \n",
      "RMSE (testset)    1.9133  1.9143  1.9141  1.9208  1.9139  1.9153  0.0028  \n",
      "MAE (testset)     1.6388  1.6390  1.6402  1.6455  1.6414  1.6410  0.0024  \n",
      "Fit time          5.37    5.34    5.95    6.06    6.32    5.81    0.39    \n",
      "Test time         0.13    0.15    0.13    0.14    0.13    0.13    0.01    \n",
      "Evaluating RMSE, MAE of algorithm NMF on 5 split(s).\n",
      "\n",
      "                  Fold 1  Fold 2  Fold 3  Fold 4  Fold 5  Mean    Std     \n",
      "RMSE (testset)    1.8283  1.8277  1.8260  1.8299  1.8351  1.8294  0.0031  \n",
      "MAE (testset)     1.5751  1.5722  1.5705  1.5768  1.5800  1.5749  0.0033  \n",
      "Fit time          6.77    6.47    6.91    6.22    6.59    6.59    0.24    \n",
      "Test time         0.21    0.21    0.12    0.16    0.12    0.16    0.04    \n"
     ]
    }
   ],
   "source": [
    "for algo in [baseline_model, svd, nmf]:\n",
    "    cross_validate(algo, ds, measures=[\"RMSE\", \"MAE\"], cv=5, verbose=True)"
   ]
  },
  {
   "cell_type": "markdown",
   "metadata": {},
   "source": [
    "#### Model Evaluation\n",
    "Don't expect accurate models <- they are trained with random noise"
   ]
  },
  {
   "cell_type": "code",
   "execution_count": 10,
   "metadata": {},
   "outputs": [
    {
     "name": "stdout",
     "output_type": "stream",
     "text": [
      "Computing the pearson similarity matrix...\n",
      "Computing the pearson similarity matrix...\n",
      "Computing the pearson similarity matrix...\n",
      "Computing the pearson similarity matrix...\n",
      "Computing the pearson similarity matrix...\n",
      "Done computing similarity matrix.\n",
      "Done computing similarity matrix.\n",
      "Done computing similarity matrix.\n",
      "Done computing similarity matrix.\n",
      "Done computing similarity matrix.\n",
      "Evaluating RMSE, MAE of algorithm KNNBasic on 5 split(s).\n",
      "\n",
      "                  Fold 1  Fold 2  Fold 3  Fold 4  Fold 5  Mean    Std     \n",
      "RMSE (testset)    1.7801  1.7824  1.7901  1.7829  1.7809  1.7833  0.0035  \n",
      "MAE (testset)     1.5493  1.5491  1.5542  1.5501  1.5469  1.5499  0.0024  \n",
      "Fit time          6.21    6.00    6.52    7.74    4.56    6.21    1.02    \n",
      "Test time         15.85   13.38   15.52   14.39   16.20   15.07   1.04    \n"
     ]
    },
    {
     "data": {
      "text/plain": [
       "{'fit_time': (6.211174488067627,\n",
       "  5.996851444244385,\n",
       "  6.519110202789307,\n",
       "  7.739609956741333,\n",
       "  4.562095403671265),\n",
       " 'test_mae': array([1.54929938, 1.54914995, 1.55422394, 1.55005547, 1.54685839]),\n",
       " 'test_rmse': array([1.78010419, 1.78244229, 1.79006299, 1.78291537, 1.78085411]),\n",
       " 'test_time': (15.854188680648804,\n",
       "  13.37714147567749,\n",
       "  15.522441864013672,\n",
       "  14.388406753540039,\n",
       "  16.198522567749023)}"
      ]
     },
     "execution_count": 10,
     "metadata": {},
     "output_type": "execute_result"
    }
   ],
   "source": [
    "cross_validate(knn, ds, measures=[\"RMSE\", \"MAE\"], cv=5, verbose=True)"
   ]
  },
  {
   "cell_type": "markdown",
   "metadata": {},
   "source": [
    "## Final model and predictions\n",
    "kNN Basic looks most promising so far, so go for this one"
   ]
  },
  {
   "cell_type": "markdown",
   "metadata": {},
   "source": [
    "#### Train & evaluate final model"
   ]
  },
  {
   "cell_type": "code",
   "execution_count": 11,
   "metadata": {},
   "outputs": [
    {
     "name": "stdout",
     "output_type": "stream",
     "text": [
      "Computing the pearson similarity matrix...\n",
      "Done computing similarity matrix.\n",
      "RMSE: 1.3321\n"
     ]
    },
    {
     "data": {
      "text/plain": [
       "1.3321412404968649"
      ]
     },
     "execution_count": 11,
     "metadata": {},
     "output_type": "execute_result"
    }
   ],
   "source": [
    "# Train final model\n",
    "trainset = ds.build_full_trainset()\n",
    "knn.fit(trainset)\n",
    "\n",
    "# RMSE of final model\n",
    "testset = trainset.build_testset()\n",
    "test_pred = knn.test(testset)\n",
    "accuracy.rmse(test_pred, verbose=True) # should be very bad ;)"
   ]
  },
  {
   "cell_type": "markdown",
   "metadata": {},
   "source": [
    "#### Predict some document ratings"
   ]
  },
  {
   "cell_type": "code",
   "execution_count": 12,
   "metadata": {},
   "outputs": [],
   "source": [
    "combinations_to_predict = [(\"Aaron Keith III\", \"http://gregory.com/\"),\n",
    "                           (\"Abigail Wong\", \"http://hicks.com/\"),\n",
    "                           (\"Julie Bullock\", \"https://www.garcia.com/\"),\n",
    "                           (\"Victoria Perez\", \"http://lee-phillips.org/register/\")]"
   ]
  },
  {
   "cell_type": "code",
   "execution_count": 13,
   "metadata": {},
   "outputs": [
    {
     "name": "stdout",
     "output_type": "stream",
     "text": [
      "Aaron Keith III should rate http://gregory.com/ with 1 stars\n",
      "Abigail Wong should rate http://hicks.com/ with 1 stars\n",
      "Julie Bullock should rate https://www.garcia.com/ with 1 stars\n",
      "Victoria Perez should rate http://lee-phillips.org/register/ with 2 stars\n"
     ]
    }
   ],
   "source": [
    "# Predictions\n",
    "for combination in combinations_to_predict:\n",
    "    user = combination[0]\n",
    "    doc = combination[1]\n",
    "    pred = knn.predict(user, doc)\n",
    "    print(pred[0], \"should rate\", pred[1], \"with\", int(round(pred[3])), \"stars\")"
   ]
  },
  {
   "cell_type": "code",
   "execution_count": null,
   "metadata": {},
   "outputs": [],
   "source": []
  }
 ],
 "metadata": {
  "kernelspec": {
   "display_name": "Python 3",
   "language": "python",
   "name": "python3"
  },
  "language_info": {
   "codemirror_mode": {
    "name": "ipython",
    "version": 3
   },
   "file_extension": ".py",
   "mimetype": "text/x-python",
   "name": "python",
   "nbconvert_exporter": "python",
   "pygments_lexer": "ipython3",
   "version": "3.6.4"
  }
 },
 "nbformat": 4,
 "nbformat_minor": 2
}
