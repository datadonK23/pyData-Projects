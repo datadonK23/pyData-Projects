{
 "cells": [
  {
   "cell_type": "code",
   "execution_count": 1,
   "metadata": {},
   "outputs": [],
   "source": [
    "import numpy as np\n",
    "import pandas as pd\n",
    "\n",
    "import matplotlib.pyplot as plt\n",
    "%matplotlib inline"
   ]
  },
  {
   "cell_type": "markdown",
   "metadata": {},
   "source": [
    "### Preprocess data"
   ]
  },
  {
   "cell_type": "code",
   "execution_count": 2,
   "metadata": {},
   "outputs": [],
   "source": [
    "# Import data\n",
    "path = \"../data/petdata_binary_1000_100.csv\"\n",
    "raw_data = pd.read_csv(path, index_col=\"doc_uri\")\n",
    "assert raw_data.shape == (1000,100), \"Import error, df has false shape\""
   ]
  },
  {
   "cell_type": "markdown",
   "metadata": {},
   "source": [
    "#### Conversion and cleaning\n",
    "Surprise forces you to use schema \\[\"user_id\", \"doc_id\", \"rating\"\\]\n",
    "\n",
    "CF models are often sensitive to NA values -> replace NaN with 0 OR drop NaN. For demonstration purpose replacement used."
   ]
  },
  {
   "cell_type": "code",
   "execution_count": 3,
   "metadata": {},
   "outputs": [
    {
     "data": {
      "text/html": [
       "<div>\n",
       "<style scoped>\n",
       "    .dataframe tbody tr th:only-of-type {\n",
       "        vertical-align: middle;\n",
       "    }\n",
       "\n",
       "    .dataframe tbody tr th {\n",
       "        vertical-align: top;\n",
       "    }\n",
       "\n",
       "    .dataframe thead th {\n",
       "        text-align: right;\n",
       "    }\n",
       "</style>\n",
       "<table border=\"1\" class=\"dataframe\">\n",
       "  <thead>\n",
       "    <tr style=\"text-align: right;\">\n",
       "      <th></th>\n",
       "      <th>user</th>\n",
       "      <th>doc_uri</th>\n",
       "      <th>rating</th>\n",
       "    </tr>\n",
       "  </thead>\n",
       "  <tbody>\n",
       "    <tr>\n",
       "      <th>0</th>\n",
       "      <td>Aaron Keith III</td>\n",
       "      <td>http://www.vargas.biz/login.php</td>\n",
       "      <td>0.0</td>\n",
       "    </tr>\n",
       "    <tr>\n",
       "      <th>1</th>\n",
       "      <td>Aaron Keith III</td>\n",
       "      <td>http://wallace-walker.info/index/</td>\n",
       "      <td>0.0</td>\n",
       "    </tr>\n",
       "    <tr>\n",
       "      <th>2</th>\n",
       "      <td>Aaron Keith III</td>\n",
       "      <td>http://www.jimenez.biz/</td>\n",
       "      <td>0.0</td>\n",
       "    </tr>\n",
       "    <tr>\n",
       "      <th>3</th>\n",
       "      <td>Aaron Keith III</td>\n",
       "      <td>http://www.logan.com/about.html</td>\n",
       "      <td>1.0</td>\n",
       "    </tr>\n",
       "    <tr>\n",
       "      <th>4</th>\n",
       "      <td>Aaron Keith III</td>\n",
       "      <td>http://cox.org/list/tag/faq.html</td>\n",
       "      <td>0.0</td>\n",
       "    </tr>\n",
       "  </tbody>\n",
       "</table>\n",
       "</div>"
      ],
      "text/plain": [
       "              user                            doc_uri  rating\n",
       "0  Aaron Keith III    http://www.vargas.biz/login.php     0.0\n",
       "1  Aaron Keith III  http://wallace-walker.info/index/     0.0\n",
       "2  Aaron Keith III            http://www.jimenez.biz/     0.0\n",
       "3  Aaron Keith III    http://www.logan.com/about.html     1.0\n",
       "4  Aaron Keith III   http://cox.org/list/tag/faq.html     0.0"
      ]
     },
     "execution_count": 3,
     "metadata": {},
     "output_type": "execute_result"
    }
   ],
   "source": [
    "# Convert df\n",
    "data = raw_data.unstack().to_frame().reset_index()\n",
    "data.columns = [\"user\", \"doc_uri\", \"rating\"]\n",
    "\n",
    "# Missing value handling\n",
    "data.fillna(0, inplace=True)\n",
    "\n",
    "assert data.shape == (raw_data.shape[0] * raw_data.shape[1], 3), \"Conversion error, df has false shape\"\n",
    "assert data.rating.max() <= 1., \"Value error, max rating over upper bound\"\n",
    "assert data.rating.min() >= -1., \"Value error, min rating under lower bound\"\n",
    "data.head()"
   ]
  },
  {
   "cell_type": "markdown",
   "metadata": {},
   "source": [
    "### Descriptive statistics of ratings\n",
    "Not meaningful <- randomly generated"
   ]
  },
  {
   "cell_type": "code",
   "execution_count": 4,
   "metadata": {},
   "outputs": [
    {
     "data": {
      "text/html": [
       "<div>\n",
       "<style scoped>\n",
       "    .dataframe tbody tr th:only-of-type {\n",
       "        vertical-align: middle;\n",
       "    }\n",
       "\n",
       "    .dataframe tbody tr th {\n",
       "        vertical-align: top;\n",
       "    }\n",
       "\n",
       "    .dataframe thead th {\n",
       "        text-align: right;\n",
       "    }\n",
       "</style>\n",
       "<table border=\"1\" class=\"dataframe\">\n",
       "  <thead>\n",
       "    <tr style=\"text-align: right;\">\n",
       "      <th></th>\n",
       "      <th>count</th>\n",
       "      <th>mean</th>\n",
       "      <th>std</th>\n",
       "      <th>min</th>\n",
       "      <th>25%</th>\n",
       "      <th>50%</th>\n",
       "      <th>75%</th>\n",
       "      <th>max</th>\n",
       "    </tr>\n",
       "  </thead>\n",
       "  <tbody>\n",
       "    <tr>\n",
       "      <th>rating</th>\n",
       "      <td>100000.0</td>\n",
       "      <td>0.10561</td>\n",
       "      <td>0.405238</td>\n",
       "      <td>-1.0</td>\n",
       "      <td>0.0</td>\n",
       "      <td>0.0</td>\n",
       "      <td>0.0</td>\n",
       "      <td>1.0</td>\n",
       "    </tr>\n",
       "  </tbody>\n",
       "</table>\n",
       "</div>"
      ],
      "text/plain": [
       "           count     mean       std  min  25%  50%  75%  max\n",
       "rating  100000.0  0.10561  0.405238 -1.0  0.0  0.0  0.0  1.0"
      ]
     },
     "execution_count": 4,
     "metadata": {},
     "output_type": "execute_result"
    }
   ],
   "source": [
    "data.rating.describe().to_frame().T"
   ]
  },
  {
   "cell_type": "code",
   "execution_count": 5,
   "metadata": {},
   "outputs": [
    {
     "data": {
      "text/html": [
       "<div>\n",
       "<style scoped>\n",
       "    .dataframe tbody tr th:only-of-type {\n",
       "        vertical-align: middle;\n",
       "    }\n",
       "\n",
       "    .dataframe tbody tr th {\n",
       "        vertical-align: top;\n",
       "    }\n",
       "\n",
       "    .dataframe thead th {\n",
       "        text-align: right;\n",
       "    }\n",
       "</style>\n",
       "<table border=\"1\" class=\"dataframe\">\n",
       "  <thead>\n",
       "    <tr style=\"text-align: right;\">\n",
       "      <th></th>\n",
       "      <th>0.0</th>\n",
       "      <th>1.0</th>\n",
       "      <th>-1.0</th>\n",
       "    </tr>\n",
       "  </thead>\n",
       "  <tbody>\n",
       "    <tr>\n",
       "      <th>rating</th>\n",
       "      <td>0.82463</td>\n",
       "      <td>0.14049</td>\n",
       "      <td>0.03488</td>\n",
       "    </tr>\n",
       "  </tbody>\n",
       "</table>\n",
       "</div>"
      ],
      "text/plain": [
       "            0.0      1.0     -1.0\n",
       "rating  0.82463  0.14049  0.03488"
      ]
     },
     "execution_count": 5,
     "metadata": {},
     "output_type": "execute_result"
    }
   ],
   "source": [
    "data.rating.value_counts(normalize=True).to_frame().T"
   ]
  },
  {
   "cell_type": "code",
   "execution_count": 6,
   "metadata": {},
   "outputs": [
    {
     "data": {
      "image/png": "[encoded data removed]",
      "text/plain": [
       "<Figure size 432x288 with 1 Axes>"
      ]
     },
     "metadata": {},
     "output_type": "display_data"
    }
   ],
   "source": [
    "# Plot distribution of (random) ratings \n",
    "\n",
    "hist = data.rating.plot(kind=\"hist\", grid=True,\n",
    "                        bins=[-1.1,-0.9,-0.1,0.1,0.9,1.1])\n",
    "hist.set(xlabel= \"rating\")\n",
    "\n",
    "plt.tight_layout()\n",
    "plt.savefig(\"plots/ratings_binary.png\", orientation=\"landscape\", dpi=120)"
   ]
  },
  {
   "cell_type": "markdown",
   "metadata": {},
   "source": [
    "# Recommendation Engines"
   ]
  },
  {
   "cell_type": "code",
   "execution_count": 7,
   "metadata": {},
   "outputs": [],
   "source": [
    "from surprise import KNNWithMeans, SVD, NMF, Dataset, Reader, accuracy\n",
    "from surprise.prediction_algorithms.random_pred import NormalPredictor\n",
    "from surprise.model_selection import cross_validate, GridSearchCV\n",
    "\n",
    "reader = Reader(rating_scale=(-1, 1))\n",
    "ds = Dataset.load_from_df(data[[\"user\", \"doc_uri\", \"rating\"]], reader)\n",
    "\n",
    "baseline_model = NormalPredictor() # Baseline model, predicts labels based on distribution of ratings"
   ]
  },
  {
   "cell_type": "markdown",
   "metadata": {},
   "source": [
    "## Memory-based CF\n",
    "#### User-based CF"
   ]
  },
  {
   "cell_type": "code",
   "execution_count": 8,
   "metadata": {},
   "outputs": [],
   "source": [
    "sim_options = {\"name\": \"cosine\", # cosine similarity\n",
    "               \"user_based\": True,  # user-based\n",
    "               \"min_support\": 10 # min number of common items, else pred 0\n",
    "               }\n",
    "\n",
    "user_knn = KNNWithMeans(sim_options=sim_options)"
   ]
  },
  {
   "cell_type": "markdown",
   "metadata": {},
   "source": [
    "#### Item-based CF"
   ]
  },
  {
   "cell_type": "code",
   "execution_count": 9,
   "metadata": {},
   "outputs": [],
   "source": [
    "sim_options = {\"name\": \"cosine\", # cosine similarity\n",
    "               \"user_based\": False,  # item-based\n",
    "               \"min_support\": 5 # min number of common users, else pred 0\n",
    "               }\n",
    "\n",
    "item_knn = KNNWithMeans(sim_options=sim_options)"
   ]
  },
  {
   "cell_type": "markdown",
   "metadata": {},
   "source": [
    "### Evaluation\n",
    "Don't expect accurate models <- they are trained with random noise.\n",
    "\n",
    "User- & item-based CF are slightly better than baseline model (predicts labels based on distribution of ratings). User-based approach works surprisingly better than item-based CF and is faster."
   ]
  },
  {
   "cell_type": "code",
   "execution_count": 10,
   "metadata": {},
   "outputs": [
    {
     "name": "stdout",
     "output_type": "stream",
     "text": [
      "*** Baseline ***\n",
      "RMSE: 0.567 (std 0.0018) <- [0.56450266 0.56816921 0.56586984 0.56955568 0.56596064]\n",
      "MAE: 0.436 (std 0.0013) <- [0.43473312 0.43552735 0.43554669 0.43823923 0.434548  ]\n",
      "Avg fit time: 0.07252s\n",
      "Computing the cosine similarity matrix...\n",
      "Done computing similarity matrix.\n",
      "Computing the cosine similarity matrix...\n",
      "Computing the cosine similarity matrix...\n",
      "Done computing similarity matrix.\n",
      "Computing the cosine similarity matrix...\n",
      "Done computing similarity matrix.\n",
      "Done computing similarity matrix.\n",
      "Computing the cosine similarity matrix...\n",
      "Done computing similarity matrix.\n",
      "*** User-based CF ***\n",
      "RMSE: 0.406 (std 0.0030) <- [0.40179204 0.40827718 0.40984483 0.40406852 0.40821968]\n",
      "MAE: 0.249 (std 0.0021) <- [0.24584902 0.25050721 0.25145895 0.2475609  0.24984724]\n",
      "Avg fit time: 0.27563s\n",
      "Computing the cosine similarity matrix...\n",
      "Computing the cosine similarity matrix...\n",
      "Computing the cosine similarity matrix...\n",
      "Computing the cosine similarity matrix...\n",
      "Computing the cosine similarity matrix...\n",
      "Done computing similarity matrix.\n",
      "Done computing similarity matrix.\n",
      "Done computing similarity matrix.\n",
      "Done computing similarity matrix.\n",
      "Done computing similarity matrix.\n",
      "*** Item-based CF ***\n",
      "RMSE: 0.410 (std 0.0026) <- [0.40972455 0.40731362 0.41308742 0.40838104 0.41392613]\n",
      "MAE: 0.261 (std 0.0019) <- [0.25974956 0.25882992 0.26289761 0.25925129 0.26330776]\n",
      "Avg fit time: 4.93817s\n"
     ]
    }
   ],
   "source": [
    "for algo_name, algo in zip([\"Baseline\", \"User-based CF\", \"Item-based CF\"],\n",
    "                           [baseline_model, user_knn, item_knn]):\n",
    "    history = cross_validate(algo, ds, measures=[\"RMSE\", \"MAE\"], cv=5, verbose=False)\n",
    "    print(\"***\", algo_name, \"***\")\n",
    "    print(\"RMSE: {:0.3f} (std {:0.4f}) <- {}\".format(history[\"test_rmse\"].mean(),\n",
    "                                                     history[\"test_rmse\"].std(),\n",
    "                                                     history[\"test_rmse\"]))\n",
    "    print(\"MAE: {:0.3f} (std {:0.4f}) <- {}\".format(history[\"test_mae\"].mean(),\n",
    "                                                     history[\"test_mae\"].std(),\n",
    "                                                     history[\"test_mae\"]))\n",
    "    print(\"Avg fit time: {:0.5f}s\".format(np.array(history[\"fit_time\"]).mean()))"
   ]
  },
  {
   "cell_type": "markdown",
   "metadata": {},
   "source": [
    "## Memory-based\n",
    "Can we enhance performance of model by using memory-based techniques?\n",
    "\n",
    "#### Matrix factorization-based CF"
   ]
  },
  {
   "cell_type": "code",
   "execution_count": 11,
   "metadata": {},
   "outputs": [],
   "source": [
    "# Models - tune parameters, if you'd like ;)\n",
    "svd = SVD() # Singular value decomposition\n",
    "pmf = SVD(biased=False) # Probabilistic matrix factorization\n",
    "nmf = NMF() # Non-negative matrix factorization"
   ]
  },
  {
   "cell_type": "markdown",
   "metadata": {},
   "source": [
    "_Predictions_\n",
    "\n",
    "SVD:\n",
    "$\\hat r_{ui} = \\mu + b_{u} + b_{i} + q^{\\mathrm{T}}_{i} p_{u}$\n",
    "\n",
    "Probabilistic MF:\n",
    "$\\hat r_{ui} = q^{\\mathrm{T}}_{i} p_{u}$\n",
    "\n",
    "Non-negative MF:\n",
    "$\\hat r_{ui} = q^{\\mathrm{T}}_{i} p_{u}$ $\\mid$ $p_{u}, q_{i} \\in \\mathbb{R_{+}}$"
   ]
  },
  {
   "cell_type": "markdown",
   "metadata": {},
   "source": [
    "### Evaluation\n",
    "Don't expect accurate models <- they are trained with random noise"
   ]
  },
  {
   "cell_type": "code",
   "execution_count": 12,
   "metadata": {},
   "outputs": [
    {
     "name": "stdout",
     "output_type": "stream",
     "text": [
      "*** SVD ***\n",
      "RMSE: 0.408 (std 0.0032) <- [0.40437288 0.40902001 0.41232286 0.40516453 0.41110122]\n",
      "MAE: 0.251 (std 0.0021) <- [0.24773542 0.2513486  0.25336075 0.24981911 0.25310767]\n",
      "Avg fit time: 6.21990s\n",
      "*** Probabilistic MF ***\n",
      "RMSE: 0.410 (std 0.0036) <- [0.41719008 0.41094252 0.40795299 0.40895932 0.40724781]\n",
      "MAE: 0.237 (std 0.0028) <- [0.24236247 0.23708033 0.2347754  0.23594221 0.23515877]\n",
      "Avg fit time: 6.60087s\n",
      "*** Non-negative MF ***\n",
      "RMSE: 0.408 (std 0.0035) <- [0.40750189 0.40287524 0.40837923 0.41373394 0.40721531]\n",
      "MAE: 0.240 (std 0.0025) <- [0.23950782 0.23640983 0.2402502  0.24409694 0.23976535]\n",
      "Avg fit time: 6.70569s\n"
     ]
    }
   ],
   "source": [
    "for algo_name, algo in zip([\"SVD\", \"Probabilistic MF\", \"Non-negative MF\"],\n",
    "                           [svd, pmf, nmf]):\n",
    "    history = cross_validate(algo, ds, measures=[\"RMSE\", \"MAE\"], cv=5, verbose=False)\n",
    "    print(\"***\", algo_name, \"***\")\n",
    "    print(\"RMSE: {:0.3f} (std {:0.4f}) <- {}\".format(history[\"test_rmse\"].mean(),\n",
    "                                                     history[\"test_rmse\"].std(),\n",
    "                                                     history[\"test_rmse\"]))\n",
    "    print(\"MAE: {:0.3f} (std {:0.4f}) <- {}\".format(history[\"test_mae\"].mean(),\n",
    "                                                     history[\"test_mae\"].std(),\n",
    "                                                     history[\"test_mae\"]))\n",
    "    print(\"Avg fit time: {:0.5f}s\".format(np.array(history[\"fit_time\"]).mean()))"
   ]
  },
  {
   "cell_type": "markdown",
   "metadata": {},
   "source": [
    "Nope, there isn't much of enhancement. But maybe finetuning on the two most promising models helps."
   ]
  },
  {
   "cell_type": "markdown",
   "metadata": {},
   "source": [
    "#### Finetuning models\n",
    "Grid searching the best parameters -> This might take a while, time to brew some XPRESS0 ;)"
   ]
  },
  {
   "cell_type": "code",
   "execution_count": 13,
   "metadata": {},
   "outputs": [
    {
     "name": "stdout",
     "output_type": "stream",
     "text": [
      "Best RMSE: 0.4034754343529513\n",
      "n_factors : 1\n",
      "n_epochs : 5\n",
      "reg_all : 0.08\n",
      "lr_all : 0.001\n"
     ]
    }
   ],
   "source": [
    "# SVD\n",
    "param_svd = {\"n_factors\": [1, 100],\n",
    "             \"n_epochs\": [5, 20],\n",
    "             \"reg_all\": [0.02, 0.08], # regularization term for all param\n",
    "             \"lr_all\": [0.001, 0.005]} # learning rate for all param\n",
    "\n",
    "gs_svd = GridSearchCV(SVD, param_svd, measures=[\"rmse\", \"mae\"], cv=5)\n",
    "gs_svd.fit(ds)\n",
    "\n",
    "print(\"Best RMSE:\", gs_svd.best_score[\"rmse\"])\n",
    "best_params_svd = gs_svd.best_params[\"rmse\"] \n",
    "for param in best_params_svd:\n",
    "    print(param, \":\", best_params_svd[param])"
   ]
  },
  {
   "cell_type": "code",
   "execution_count": 14,
   "metadata": {},
   "outputs": [
    {
     "name": "stdout",
     "output_type": "stream",
     "text": [
      "Best RMSE: 0.4061961576389207\n",
      "n_factors : 100\n",
      "n_epochs : 60\n",
      "lr_bu : 0.005\n",
      "lr_bi : 0.005\n"
     ]
    }
   ],
   "source": [
    "# NMF\n",
    "param_nmf = {\"n_factors\": [15, 100],\n",
    "             \"n_epochs\": [50, 60],\n",
    "             #\"biased\": [True, False],\n",
    "             #\"reg_pu\": [0.04, 0.06, 0.08], # regularization term for users\n",
    "             #\"reg_qi\": [0.04, 0.06, 0.08], # regularization term for items\n",
    "             \"lr_bu\": [0.001, 0.005], # learning rate for user bias term\n",
    "             \"lr_bi\": [0.001, 0.005]} # learning rate for item bias term\n",
    "\n",
    "gs_nmf = GridSearchCV(NMF, param_nmf, measures=[\"rmse\"], cv=5)\n",
    "gs_nmf.fit(ds)\n",
    "\n",
    "print(\"Best RMSE:\", gs_nmf.best_score[\"rmse\"])\n",
    "best_params_nmf = gs_nmf.best_params[\"rmse\"] \n",
    "for param in best_params_nmf:\n",
    "    print(param, \":\", best_params_nmf[param])"
   ]
  },
  {
   "cell_type": "markdown",
   "metadata": {},
   "source": [
    "# Final model and predictions\n",
    "SVD looks most promising (but beware that this might change with real-world data). Nevertheless, go with it for the purpose of this demonstration."
   ]
  },
  {
   "cell_type": "markdown",
   "metadata": {},
   "source": [
    "#### Train & evaluate final model"
   ]
  },
  {
   "cell_type": "code",
   "execution_count": 15,
   "metadata": {},
   "outputs": [
    {
     "name": "stdout",
     "output_type": "stream",
     "text": [
      "RMSE: 0.4015\n"
     ]
    },
    {
     "data": {
      "text/plain": [
       "0.4015159614923071"
      ]
     },
     "execution_count": 15,
     "metadata": {},
     "output_type": "execute_result"
    }
   ],
   "source": [
    "# Train final model\n",
    "trainset = ds.build_full_trainset()\n",
    "\n",
    "model = gs_svd.best_estimator[\"rmse\"]\n",
    "model.fit(trainset)\n",
    "\n",
    "\n",
    "# RMSE of final model\n",
    "testset = trainset.build_testset()\n",
    "\n",
    "test_pred = model.test(testset)\n",
    "accuracy.rmse(test_pred, verbose=True) # should be very bad ;)"
   ]
  },
  {
   "cell_type": "markdown",
   "metadata": {},
   "source": [
    "#### Predict some document ratings"
   ]
  },
  {
   "cell_type": "code",
   "execution_count": 20,
   "metadata": {},
   "outputs": [],
   "source": [
    "combinations_to_predict = [(\"Aaron Keith III\", \"http://www.bell.com/main.php\"),\n",
    "                           (\"Linda Torres\", \"http://www.martin-harris.org/main/\"),\n",
    "                           (\"Veronica Jackson\", \"https://www.carter.com/\"),\n",
    "                           (\"Cindy Jones\", \"https://www.garcia.com/homepage/\")]"
   ]
  },
  {
   "cell_type": "code",
   "execution_count": 21,
   "metadata": {},
   "outputs": [
    {
     "name": "stdout",
     "output_type": "stream",
     "text": [
      "Aaron Keith III should **> like <** http://www.bell.com/main.php\n",
      "Linda Torres should **> dislike <** http://www.martin-harris.org/main/\n",
      "Veronica Jackson should **> like <** https://www.carter.com/\n",
      "Cindy Jones should **> dislike <** https://www.garcia.com/homepage/\n"
     ]
    }
   ],
   "source": [
    "# Predictions\n",
    "for combination in combinations_to_predict:\n",
    "    user = combination[0]\n",
    "    doc = combination[1]\n",
    "    pred = model.predict(user, doc)\n",
    "    pred_string = \"like\" if pred[3] > 0 else \"dislike\" # if estimated rating >0 => \"like\", else \"dislike\"\n",
    "    print(pred[0], \"should **>\", pred_string, \"<**\", pred[1])"
   ]
  },
  {
   "cell_type": "code",
   "execution_count": null,
   "metadata": {},
   "outputs": [],
   "source": []
  }
 ],
 "metadata": {
  "kernelspec": {
   "display_name": "Python 3",
   "language": "python",
   "name": "python3"
  },
  "language_info": {
   "codemirror_mode": {
    "name": "ipython",
    "version": 3
   },
   "file_extension": ".py",
   "mimetype": "text/x-python",
   "name": "python",
   "nbconvert_exporter": "python",
   "pygments_lexer": "ipython3",
   "version": "3.6.4"
  }
 },
 "nbformat": 4,
 "nbformat_minor": 2
}
