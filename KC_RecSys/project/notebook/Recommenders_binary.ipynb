{
 "cells": [
  {
   "cell_type": "code",
   "execution_count": 1,
   "metadata": {},
   "outputs": [],
   "source": [
    "import numpy as np\n",
    "import pandas as pd\n",
    "\n",
    "import matplotlib.pyplot as plt\n",
    "%matplotlib inline"
   ]
  },
  {
   "cell_type": "markdown",
   "metadata": {},
   "source": [
    "### Preprocess data"
   ]
  },
  {
   "cell_type": "code",
   "execution_count": 2,
   "metadata": {},
   "outputs": [],
   "source": [
    "# Import data\n",
    "path = \"../data/petdata_binary_1000_100.csv\"\n",
    "raw_data = pd.read_csv(path, index_col=\"doc_uri\")\n",
    "assert raw_data.shape == (1000,100), \"Import error, df has false shape\""
   ]
  },
  {
   "cell_type": "markdown",
   "metadata": {},
   "source": [
    "#### Conversion and cleaning\n",
    "Surprise forces you to use schema \\[\"user_id\", \"doc_id\", \"rating\"\\]\n",
    "\n",
    "CF models are often sensitive to NA values -> replace NaN with 0 OR drop NaN. For demonstration purpose replacement used."
   ]
  },
  {
   "cell_type": "code",
   "execution_count": 3,
   "metadata": {},
   "outputs": [
    {
     "data": {
      "text/html": [
       "<div>\n",
       "<style scoped>\n",
       "    .dataframe tbody tr th:only-of-type {\n",
       "        vertical-align: middle;\n",
       "    }\n",
       "\n",
       "    .dataframe tbody tr th {\n",
       "        vertical-align: top;\n",
       "    }\n",
       "\n",
       "    .dataframe thead th {\n",
       "        text-align: right;\n",
       "    }\n",
       "</style>\n",
       "<table border=\"1\" class=\"dataframe\">\n",
       "  <thead>\n",
       "    <tr style=\"text-align: right;\">\n",
       "      <th></th>\n",
       "      <th>user</th>\n",
       "      <th>doc_uri</th>\n",
       "      <th>rating</th>\n",
       "    </tr>\n",
       "  </thead>\n",
       "  <tbody>\n",
       "    <tr>\n",
       "      <th>0</th>\n",
       "      <td>Aaron Keith III</td>\n",
       "      <td>http://www.vargas.biz/login.php</td>\n",
       "      <td>0.0</td>\n",
       "    </tr>\n",
       "    <tr>\n",
       "      <th>1</th>\n",
       "      <td>Aaron Keith III</td>\n",
       "      <td>http://wallace-walker.info/index/</td>\n",
       "      <td>0.0</td>\n",
       "    </tr>\n",
       "    <tr>\n",
       "      <th>2</th>\n",
       "      <td>Aaron Keith III</td>\n",
       "      <td>http://www.jimenez.biz/</td>\n",
       "      <td>0.0</td>\n",
       "    </tr>\n",
       "    <tr>\n",
       "      <th>3</th>\n",
       "      <td>Aaron Keith III</td>\n",
       "      <td>http://www.logan.com/about.html</td>\n",
       "      <td>1.0</td>\n",
       "    </tr>\n",
       "    <tr>\n",
       "      <th>4</th>\n",
       "      <td>Aaron Keith III</td>\n",
       "      <td>http://cox.org/list/tag/faq.html</td>\n",
       "      <td>0.0</td>\n",
       "    </tr>\n",
       "  </tbody>\n",
       "</table>\n",
       "</div>"
      ],
      "text/plain": [
       "              user                            doc_uri  rating\n",
       "0  Aaron Keith III    http://www.vargas.biz/login.php     0.0\n",
       "1  Aaron Keith III  http://wallace-walker.info/index/     0.0\n",
       "2  Aaron Keith III            http://www.jimenez.biz/     0.0\n",
       "3  Aaron Keith III    http://www.logan.com/about.html     1.0\n",
       "4  Aaron Keith III   http://cox.org/list/tag/faq.html     0.0"
      ]
     },
     "execution_count": 3,
     "metadata": {},
     "output_type": "execute_result"
    }
   ],
   "source": [
    "# Convert df\n",
    "data = raw_data.unstack().to_frame().reset_index()\n",
    "data.columns = [\"user\", \"doc_uri\", \"rating\"]\n",
    "\n",
    "# Missing value handling\n",
    "data.fillna(0, inplace=True)\n",
    "\n",
    "assert data.shape == (raw_data.shape[0] * raw_data.shape[1], 3), \"Conversion error, df has false shape\"\n",
    "assert data.rating.max() <= 1., \"Value error, max rating over upper bound\"\n",
    "assert data.rating.min() >= -1., \"Value error, min rating under lower bound\"\n",
    "data.head()"
   ]
  },
  {
   "cell_type": "markdown",
   "metadata": {},
   "source": [
    "### Descriptive statistics of ratings\n",
    "Not meaningful <- randomly generated"
   ]
  },
  {
   "cell_type": "code",
   "execution_count": 4,
   "metadata": {},
   "outputs": [
    {
     "data": {
      "text/html": [
       "<div>\n",
       "<style scoped>\n",
       "    .dataframe tbody tr th:only-of-type {\n",
       "        vertical-align: middle;\n",
       "    }\n",
       "\n",
       "    .dataframe tbody tr th {\n",
       "        vertical-align: top;\n",
       "    }\n",
       "\n",
       "    .dataframe thead th {\n",
       "        text-align: right;\n",
       "    }\n",
       "</style>\n",
       "<table border=\"1\" class=\"dataframe\">\n",
       "  <thead>\n",
       "    <tr style=\"text-align: right;\">\n",
       "      <th></th>\n",
       "      <th>count</th>\n",
       "      <th>mean</th>\n",
       "      <th>std</th>\n",
       "      <th>min</th>\n",
       "      <th>25%</th>\n",
       "      <th>50%</th>\n",
       "      <th>75%</th>\n",
       "      <th>max</th>\n",
       "    </tr>\n",
       "  </thead>\n",
       "  <tbody>\n",
       "    <tr>\n",
       "      <th>rating</th>\n",
       "      <td>100000.0</td>\n",
       "      <td>0.10561</td>\n",
       "      <td>0.405238</td>\n",
       "      <td>-1.0</td>\n",
       "      <td>0.0</td>\n",
       "      <td>0.0</td>\n",
       "      <td>0.0</td>\n",
       "      <td>1.0</td>\n",
       "    </tr>\n",
       "  </tbody>\n",
       "</table>\n",
       "</div>"
      ],
      "text/plain": [
       "           count     mean       std  min  25%  50%  75%  max\n",
       "rating  100000.0  0.10561  0.405238 -1.0  0.0  0.0  0.0  1.0"
      ]
     },
     "execution_count": 4,
     "metadata": {},
     "output_type": "execute_result"
    }
   ],
   "source": [
    "data.rating.describe().to_frame().T"
   ]
  },
  {
   "cell_type": "code",
   "execution_count": 5,
   "metadata": {},
   "outputs": [
    {
     "data": {
      "text/html": [
       "<div>\n",
       "<style scoped>\n",
       "    .dataframe tbody tr th:only-of-type {\n",
       "        vertical-align: middle;\n",
       "    }\n",
       "\n",
       "    .dataframe tbody tr th {\n",
       "        vertical-align: top;\n",
       "    }\n",
       "\n",
       "    .dataframe thead th {\n",
       "        text-align: right;\n",
       "    }\n",
       "</style>\n",
       "<table border=\"1\" class=\"dataframe\">\n",
       "  <thead>\n",
       "    <tr style=\"text-align: right;\">\n",
       "      <th></th>\n",
       "      <th>0.0</th>\n",
       "      <th>1.0</th>\n",
       "      <th>-1.0</th>\n",
       "    </tr>\n",
       "  </thead>\n",
       "  <tbody>\n",
       "    <tr>\n",
       "      <th>rating</th>\n",
       "      <td>0.82463</td>\n",
       "      <td>0.14049</td>\n",
       "      <td>0.03488</td>\n",
       "    </tr>\n",
       "  </tbody>\n",
       "</table>\n",
       "</div>"
      ],
      "text/plain": [
       "            0.0      1.0     -1.0\n",
       "rating  0.82463  0.14049  0.03488"
      ]
     },
     "execution_count": 5,
     "metadata": {},
     "output_type": "execute_result"
    }
   ],
   "source": [
    "data.rating.value_counts(normalize=True).to_frame().T"
   ]
  },
  {
   "cell_type": "code",
   "execution_count": 6,
   "metadata": {},
   "outputs": [
    {
     "data": {
      "image/png": "[encoded data removed]",
      "text/plain": [
       "<Figure size 432x288 with 1 Axes>"
      ]
     },
     "metadata": {},
     "output_type": "display_data"
    }
   ],
   "source": [
    "# Plot distribution of (random) ratings \n",
    "\n",
    "hist = data.rating.plot(kind=\"hist\", grid=True,\n",
    "                        bins=[-1.1,-0.9,-0.1,0.1,0.9,1.1])\n",
    "hist.set(xlabel= \"rating\")\n",
    "\n",
    "plt.tight_layout()\n",
    "plt.savefig(\"plots/ratings_binary.png\", orientation=\"landscape\", dpi=120)"
   ]
  },
  {
   "cell_type": "markdown",
   "metadata": {},
   "source": [
    "# Recommendation Engines"
   ]
  },
  {
   "cell_type": "code",
   "execution_count": 7,
   "metadata": {},
   "outputs": [],
   "source": [
    "from surprise import KNNWithMeans, SVD, Dataset, Reader, NMF, accuracy\n",
    "from surprise.model_selection import cross_validate\n",
    "from surprise.prediction_algorithms.random_pred import NormalPredictor\n",
    "\n",
    "reader = Reader(rating_scale=(-1, 1))\n",
    "ds = Dataset.load_from_df(data[[\"user\", \"doc_uri\", \"rating\"]], reader)\n",
    "\n",
    "baseline_model = NormalPredictor() # Baseline model, predicts labels based on distribution of ratings"
   ]
  },
  {
   "cell_type": "markdown",
   "metadata": {},
   "source": [
    "## Memory-based CF\n",
    "#### User-based CF"
   ]
  },
  {
   "cell_type": "code",
   "execution_count": 8,
   "metadata": {},
   "outputs": [],
   "source": [
    "sim_options = {\"name\": \"cosine\", # cosine similarity\n",
    "               \"user_based\": True,  # user-based\n",
    "               \"min_support\": 10 # min number of common items, else pred 0\n",
    "               }\n",
    "\n",
    "user_knn = KNNWithMeans(sim_options=sim_options)"
   ]
  },
  {
   "cell_type": "markdown",
   "metadata": {},
   "source": [
    "#### Item-based CF"
   ]
  },
  {
   "cell_type": "code",
   "execution_count": 9,
   "metadata": {},
   "outputs": [],
   "source": [
    "sim_options = {\"name\": \"cosine\", # cosine similarity\n",
    "               \"user_based\": False,  # item-based\n",
    "               \"min_support\": 5 # min number of common users, else pred 0\n",
    "               }\n",
    "\n",
    "item_knn = KNNWithMeans(sim_options=sim_options)"
   ]
  },
  {
   "cell_type": "markdown",
   "metadata": {},
   "source": [
    "### Evaluation\n",
    "Don't expect accurate models <- they are trained with random noise.\n",
    "\n",
    "User- & item-based CF are slightly better than baseline model (predicts labels based on distribution of ratings). User-based approach works surprisingly better than item-based CF and is faster."
   ]
  },
  {
   "cell_type": "code",
   "execution_count": 10,
   "metadata": {},
   "outputs": [
    {
     "name": "stdout",
     "output_type": "stream",
     "text": [
      "*** Baseline ***\n",
      "RMSE: 0.569 (std 0.0016) <- [0.56967698 0.57088725 0.56676103 0.57101653 0.56811232]\n",
      "MAE: 0.438 (std 0.0008) <- [0.43865822 0.43838729 0.43740913 0.43881564 0.43682212]\n",
      "Avg fit time: 0.06437s\n",
      "Computing the cosine similarity matrix...\n",
      "Computing the cosine similarity matrix...\n",
      "Done computing similarity matrix.\n",
      "Done computing similarity matrix.\n",
      "Computing the cosine similarity matrix...\n",
      "Done computing similarity matrix.\n",
      "Computing the cosine similarity matrix...\n",
      "Computing the cosine similarity matrix...\n",
      "Done computing similarity matrix.\n",
      "Done computing similarity matrix.\n",
      "*** User-based CF ***\n",
      "RMSE: 0.407 (std 0.0028) <- [0.40609913 0.41177685 0.40622992 0.40640849 0.40310708]\n",
      "MAE: 0.249 (std 0.0017) <- [0.24922004 0.25245081 0.24859084 0.2483961  0.24741573]\n",
      "Avg fit time: 0.24327s\n",
      "Computing the cosine similarity matrix...\n",
      "Computing the cosine similarity matrix...\n",
      "Computing the cosine similarity matrix...\n",
      "Computing the cosine similarity matrix...\n",
      "Computing the cosine similarity matrix...\n",
      "Done computing similarity matrix.\n",
      "Done computing similarity matrix.\n",
      "Done computing similarity matrix.\n",
      "Done computing similarity matrix.\n",
      "Done computing similarity matrix.\n",
      "*** Item-based CF ***\n",
      "RMSE: 0.410 (std 0.0018) <- [0.40773468 0.4114896  0.41327692 0.40980796 0.41005344]\n",
      "MAE: 0.260 (std 0.0015) <- [0.25902921 0.26169821 0.2626249  0.2590064  0.25998775]\n",
      "Avg fit time: 4.58094s\n"
     ]
    }
   ],
   "source": [
    "for algo_name, algo in zip([\"Baseline\", \"User-based CF\", \"Item-based CF\"],\n",
    "                           [baseline_model, user_knn, item_knn]):\n",
    "    history = cross_validate(algo, ds, measures=[\"RMSE\", \"MAE\"], cv=5, verbose=False)\n",
    "    print(\"***\", algo_name, \"***\")\n",
    "    print(\"RMSE: {:0.3f} (std {:0.4f}) <- {}\".format(history[\"test_rmse\"].mean(),\n",
    "                                                     history[\"test_rmse\"].std(),\n",
    "                                                     history[\"test_rmse\"]))\n",
    "    print(\"MAE: {:0.3f} (std {:0.4f}) <- {}\".format(history[\"test_mae\"].mean(),\n",
    "                                                     history[\"test_mae\"].std(),\n",
    "                                                     history[\"test_mae\"]))\n",
    "    print(\"Avg fit time: {:0.5f}s\".format(np.array(history[\"fit_time\"]).mean()))"
   ]
  },
  {
   "cell_type": "markdown",
   "metadata": {},
   "source": [
    "## Memory-based\n",
    "Can we enhance performance of model by using memory-based techniques?\n",
    "\n",
    "#### Matrix factorization-based CF"
   ]
  },
  {
   "cell_type": "code",
   "execution_count": 14,
   "metadata": {},
   "outputs": [],
   "source": [
    "# Models - tune parameters, if you'd like ;)\n",
    "svd = SVD() # Singular Value Decomposition\n",
    "nmf = NMF() # Non-negative matrix factorization"
   ]
  },
  {
   "cell_type": "markdown",
   "metadata": {},
   "source": [
    "### Evaluation\n",
    "Don't expect accurate models <- they are trained with random noise"
   ]
  },
  {
   "cell_type": "code",
   "execution_count": 15,
   "metadata": {},
   "outputs": [
    {
     "name": "stdout",
     "output_type": "stream",
     "text": [
      "*** Singular Value Decomposition ***\n",
      "RMSE: 0.409 (std 0.0016) <- [0.41019309 0.40551957 0.40895932 0.40953212 0.40891515]\n",
      "MAE: 0.251 (std 0.0013) <- [0.25130988 0.24841961 0.25019144 0.25133748 0.25231599]\n",
      "Avg fit time: 5.83796s\n",
      "*** Non-negative matrix factorization ***\n",
      "RMSE: 0.408 (std 0.0020) <- [0.41057056 0.40839747 0.40614848 0.40920141 0.40494778]\n",
      "MAE: 0.240 (std 0.0013) <- [0.24168741 0.24044018 0.23908175 0.24158679 0.23837459]\n",
      "Avg fit time: 6.20084s\n"
     ]
    }
   ],
   "source": [
    "for algo_name, algo in zip([\"Singular Value Decomposition\", \"Non-negative matrix factorization\"],\n",
    "                           [svd, nmf]):\n",
    "    history = cross_validate(algo, ds, measures=[\"RMSE\", \"MAE\"], cv=5, verbose=False)\n",
    "    print(\"***\", algo_name, \"***\")\n",
    "    print(\"RMSE: {:0.3f} (std {:0.4f}) <- {}\".format(history[\"test_rmse\"].mean(),\n",
    "                                                     history[\"test_rmse\"].std(),\n",
    "                                                     history[\"test_rmse\"]))\n",
    "    print(\"MAE: {:0.3f} (std {:0.4f}) <- {}\".format(history[\"test_mae\"].mean(),\n",
    "                                                     history[\"test_mae\"].std(),\n",
    "                                                     history[\"test_mae\"]))\n",
    "    print(\"Avg fit time: {:0.5f}s\".format(np.array(history[\"fit_time\"]).mean()))"
   ]
  },
  {
   "cell_type": "code",
   "execution_count": null,
   "metadata": {},
   "outputs": [],
   "source": [
    "#FIXME"
   ]
  },
  {
   "cell_type": "code",
   "execution_count": null,
   "metadata": {},
   "outputs": [],
   "source": []
  },
  {
   "cell_type": "markdown",
   "metadata": {},
   "source": [
    "## Final model and predictions\n",
    "kNN Basic looks most promising so far, so go for this one"
   ]
  },
  {
   "cell_type": "markdown",
   "metadata": {},
   "source": [
    "#### Train & evaluate final model"
   ]
  },
  {
   "cell_type": "code",
   "execution_count": 11,
   "metadata": {},
   "outputs": [
    {
     "name": "stdout",
     "output_type": "stream",
     "text": [
      "Computing the pearson similarity matrix...\n",
      "Done computing similarity matrix.\n",
      "RMSE: 1.3321\n"
     ]
    },
    {
     "data": {
      "text/plain": [
       "1.3321412404968649"
      ]
     },
     "execution_count": 11,
     "metadata": {},
     "output_type": "execute_result"
    }
   ],
   "source": [
    "# Train final model\n",
    "trainset = ds.build_full_trainset()\n",
    "knn.fit(trainset)\n",
    "\n",
    "# RMSE of final model\n",
    "testset = trainset.build_testset()\n",
    "test_pred = knn.test(testset)\n",
    "accuracy.rmse(test_pred, verbose=True) # should be very bad ;)"
   ]
  },
  {
   "cell_type": "markdown",
   "metadata": {},
   "source": [
    "#### Predict some document ratings"
   ]
  },
  {
   "cell_type": "code",
   "execution_count": 12,
   "metadata": {},
   "outputs": [],
   "source": [
    "combinations_to_predict = [(\"Aaron Keith III\", \"http://gregory.com/\"),\n",
    "                           (\"Abigail Wong\", \"http://hicks.com/\"),\n",
    "                           (\"Julie Bullock\", \"https://www.garcia.com/\"),\n",
    "                           (\"Victoria Perez\", \"http://lee-phillips.org/register/\")]"
   ]
  },
  {
   "cell_type": "code",
   "execution_count": 13,
   "metadata": {},
   "outputs": [
    {
     "name": "stdout",
     "output_type": "stream",
     "text": [
      "Aaron Keith III should rate http://gregory.com/ with 1 stars\n",
      "Abigail Wong should rate http://hicks.com/ with 1 stars\n",
      "Julie Bullock should rate https://www.garcia.com/ with 1 stars\n",
      "Victoria Perez should rate http://lee-phillips.org/register/ with 2 stars\n"
     ]
    }
   ],
   "source": [
    "# Predictions\n",
    "for combination in combinations_to_predict:\n",
    "    user = combination[0]\n",
    "    doc = combination[1]\n",
    "    pred = knn.predict(user, doc)\n",
    "    print(pred[0], \"should rate\", pred[1], \"with\", int(round(pred[3])), \"stars\")"
   ]
  },
  {
   "cell_type": "code",
   "execution_count": null,
   "metadata": {},
   "outputs": [],
   "source": []
  }
 ],
 "metadata": {
  "kernelspec": {
   "display_name": "Python 3",
   "language": "python",
   "name": "python3"
  },
  "language_info": {
   "codemirror_mode": {
    "name": "ipython",
    "version": 3
   },
   "file_extension": ".py",
   "mimetype": "text/x-python",
   "name": "python",
   "nbconvert_exporter": "python",
   "pygments_lexer": "ipython3",
   "version": "3.6.4"
  }
 },
 "nbformat": 4,
 "nbformat_minor": 2
}
