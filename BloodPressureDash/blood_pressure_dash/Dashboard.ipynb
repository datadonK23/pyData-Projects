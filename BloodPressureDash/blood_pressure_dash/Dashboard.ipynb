{
 "cells": [
  {
   "cell_type": "code",
   "execution_count": 1,
   "metadata": {
    "collapsed": true,
    "extensions": {
     "jupyter_dashboards": {
      "version": 1,
      "views": {
       "grid_default": {
        "hidden": true
       },
       "report_default": {
        "hidden": true
       }
      }
     }
    }
   },
   "outputs": [],
   "source": [
    "import numpy as np\n",
    "import pandas as pd\n",
    "import matplotlib.pyplot as plt\n",
    "import matplotlib.dates as mdates\n",
    "import matplotlib.ticker as mtick\n",
    "import seaborn as sns\n",
    "\n",
    "%matplotlib inline\n",
    "fig_size = [16, 7]\n",
    "plt.rcParams[\"figure.figsize\"] = fig_size"
   ]
  },
  {
   "cell_type": "code",
   "execution_count": 2,
   "metadata": {
    "extensions": {
     "jupyter_dashboards": {
      "version": 1,
      "views": {
       "grid_default": {
        "col": 0,
        "height": 7,
        "hidden": true,
        "row": 4,
        "width": 12
       },
       "report_default": {
        "hidden": true
       }
      }
     }
    }
   },
   "outputs": [
    {
     "data": {
      "text/html": [
       "<div>\n",
       "<style>\n",
       "    .dataframe thead tr:only-child th {\n",
       "        text-align: right;\n",
       "    }\n",
       "\n",
       "    .dataframe thead th {\n",
       "        text-align: left;\n",
       "    }\n",
       "\n",
       "    .dataframe tbody tr th {\n",
       "        vertical-align: top;\n",
       "    }\n",
       "</style>\n",
       "<table border=\"1\" class=\"dataframe\">\n",
       "  <thead>\n",
       "    <tr style=\"text-align: right;\">\n",
       "      <th></th>\n",
       "      <th>Sys</th>\n",
       "      <th>Dia</th>\n",
       "      <th>Pulse</th>\n",
       "      <th>CW</th>\n",
       "    </tr>\n",
       "    <tr>\n",
       "      <th>Date_Time</th>\n",
       "      <th></th>\n",
       "      <th></th>\n",
       "      <th></th>\n",
       "      <th></th>\n",
       "    </tr>\n",
       "  </thead>\n",
       "  <tbody>\n",
       "    <tr>\n",
       "      <th>2017-07-15 09:16:00</th>\n",
       "      <td>148</td>\n",
       "      <td>84</td>\n",
       "      <td>57</td>\n",
       "      <td>28</td>\n",
       "    </tr>\n",
       "    <tr>\n",
       "      <th>2017-07-15 19:24:00</th>\n",
       "      <td>159</td>\n",
       "      <td>92</td>\n",
       "      <td>75</td>\n",
       "      <td>28</td>\n",
       "    </tr>\n",
       "    <tr>\n",
       "      <th>2017-07-15 22:23:00</th>\n",
       "      <td>123</td>\n",
       "      <td>83</td>\n",
       "      <td>77</td>\n",
       "      <td>28</td>\n",
       "    </tr>\n",
       "    <tr>\n",
       "      <th>2017-07-16 09:14:00</th>\n",
       "      <td>124</td>\n",
       "      <td>81</td>\n",
       "      <td>68</td>\n",
       "      <td>28</td>\n",
       "    </tr>\n",
       "    <tr>\n",
       "      <th>2017-07-16 15:16:00</th>\n",
       "      <td>121</td>\n",
       "      <td>79</td>\n",
       "      <td>70</td>\n",
       "      <td>28</td>\n",
       "    </tr>\n",
       "  </tbody>\n",
       "</table>\n",
       "</div>"
      ],
      "text/plain": [
       "                     Sys  Dia  Pulse  CW\n",
       "Date_Time                               \n",
       "2017-07-15 09:16:00  148   84     57  28\n",
       "2017-07-15 19:24:00  159   92     75  28\n",
       "2017-07-15 22:23:00  123   83     77  28\n",
       "2017-07-16 09:14:00  124   81     68  28\n",
       "2017-07-16 15:16:00  121   79     70  28"
      ]
     },
     "execution_count": 2,
     "metadata": {},
     "output_type": "execute_result"
    }
   ],
   "source": [
    "# Load data\n",
    "filepath = \"data/data.csv\"\n",
    "raw_data = pd.read_csv(filepath, dayfirst=True, parse_dates=[[\"Date\", \"Time\"]])\n",
    "\n",
    "# Datetime processing\n",
    "raw_data[\"CW\"] = raw_data.Date_Time.dt.weekofyear\n",
    "data = raw_data.set_index(pd.DatetimeIndex(raw_data.Date_Time)).drop(\"Date_Time\", axis=1)\n",
    "\n",
    "# First and last day of measurements for report heading\n",
    "first_day = data.index[0].strftime(\"%d.%m.%Y\")\n",
    "last_day = data.index[-1].strftime(\"%d.%m.%Y\")\n",
    "\n",
    "data.head()"
   ]
  },
  {
   "cell_type": "markdown",
   "metadata": {
    "extensions": {
     "jupyter_dashboards": {
      "version": 1,
      "views": {
       "grid_default": {
        "col": 3,
        "height": 4,
        "hidden": false,
        "row": 0,
        "width": 6
       },
       "report_default": {
        "hidden": true
       }
      }
     }
    },
    "variables": {
     "first_day": "15.07.2017",
     "last_day": "06.08.2017"
    }
   },
   "source": [
    "# Report - Blood Pressure Monitoring\n",
    "Measurements between {{first_day}} and {{last_day}}"
   ]
  },
  {
   "cell_type": "markdown",
   "metadata": {
    "extensions": {
     "jupyter_dashboards": {
      "version": 1,
      "views": {
       "grid_default": {
        "col": 0,
        "height": 3,
        "hidden": false,
        "row": 4,
        "width": 12
       },
       "report_default": {
        "hidden": false
       }
      }
     }
    }
   },
   "source": [
    "### Blood Pressure & Pulse Values\n",
    "Visualization"
   ]
  },
  {
   "cell_type": "code",
   "execution_count": 3,
   "metadata": {
    "collapsed": true,
    "extensions": {
     "jupyter_dashboards": {
      "version": 1,
      "views": {
       "grid_default": {
        "col": 0,
        "height": 17,
        "hidden": true,
        "row": 13,
        "width": 12
       },
       "report_default": {
        "hidden": false
       }
      }
     }
    }
   },
   "outputs": [],
   "source": [
    "# Plot Util \n",
    "\n",
    "def make_week_plot(week, df):\n",
    "    \"\"\" Creates plot object of weekly pressure and pulse values\n",
    "    :Param week: calendar week [Int]\n",
    "    :Param df: pd.Dataframe of pressure and pulse values per week\n",
    "    :Return plt: Pyplot object\n",
    "    \"\"\"\n",
    "    sns.set_style(\"darkgrid\")\n",
    "    fig, ax = plt.subplots()\n",
    "\n",
    "    for ix, row in df.iterrows():\n",
    "        # Pulse point marker\n",
    "        pulse_plot, = ax.plot(ix, row.Pulse, \n",
    "                             marker=\"D\", color=\"m\", linestyle = \"None\", label=\"Pulse\")\n",
    "        # Sys point marker\n",
    "        sys_plot, = ax.plot(ix, row.Sys,\n",
    "                           marker=\"v\", color=\"b\", linestyle = \"None\", label=\"Systolic\")\n",
    "        # Dia point marker\n",
    "        dia_plot, = ax.plot(ix, row.Dia,\n",
    "                           marker=\"^\", color=\"b\", linestyle = \"None\", label=\"Diastolic\")\n",
    "        # Vertical line between points\n",
    "        vert_plot = ax.axvline(x=ix, ymin=row.Dia/220, ymax=row.Sys/220, \n",
    "                               color=\"b\")\n",
    "\n",
    "    # X Axis enhancements\n",
    "    ax.xaxis.set_minor_locator(mdates.DayLocator())\n",
    "    ax.xaxis.set_minor_formatter(mdates.DateFormatter(\"\\n\\n\\n\\n%d\\n%a\"))\n",
    "    ax.xaxis.grid(True, which=\"minor\")\n",
    "    for xmin in ax.xaxis.get_minorticklocs():\n",
    "        ax.axvline(x=xmin, linestyle=\"-.\", linewidth=1, color=\"k\", alpha=0.4)\n",
    "    ax.xaxis.set_major_locator(mdates.HourLocator(interval=2))\n",
    "    ax.xaxis.set_major_formatter(mdates.DateFormatter(\"%H:%M\"))\n",
    "    plt.xticks(rotation=270)\n",
    "\n",
    "    # Y Axis enhancements\n",
    "    plt.yticks(range(0, 221, 20))\n",
    "\n",
    "    # Title\n",
    "    ax.set_title(\"Calendar Week \" + str(week), fontsize= 15, fontweight=\"bold\")\n",
    "    \n",
    "    # Legend\n",
    "    legend = plt.legend([sys_plot, dia_plot, pulse_plot], [\"Systolic\", \"Diastolic\", \"Pulse\"],\n",
    "                        loc=4, markerscale=1.6, frameon=True, fontsize=13)\n",
    "    frame = legend.get_frame()\n",
    "    frame.set_color(\"w\")\n",
    "    \n",
    "    # Layout\n",
    "    plt.tight_layout()\n",
    "    \n",
    "    return plt\n"
   ]
  },
  {
   "cell_type": "code",
   "execution_count": 4,
   "metadata": {
    "extensions": {
     "jupyter_dashboards": {
      "version": 1,
      "views": {
       "grid_default": {
        "col": 0,
        "height": 68,
        "hidden": false,
        "row": 7,
        "width": 12
       },
       "report_default": {}
      }
     }
    }
   },
   "outputs": [
    {
     "data": {
      "image/png": "[encoded data removed]",
      "text/plain": [
       "<matplotlib.figure.Figure at 0x7f210da46710>"
      ]
     },
     "metadata": {},
     "output_type": "display_data"
    },
    {
     "data": {
      "image/png": "[encoded data removed]",
      "text/plain": [
       "<matplotlib.figure.Figure at 0x7f210da46c50>"
      ]
     },
     "metadata": {},
     "output_type": "display_data"
    },
    {
     "data": {
      "image/png": "[encoded data removed]",
      "text/plain": [
       "<matplotlib.figure.Figure at 0x7f210b8e1eb8>"
      ]
     },
     "metadata": {},
     "output_type": "display_data"
    },
    {
     "data": {
      "image/png": "[encoded data removed]",
      "text/plain": [
       "<matplotlib.figure.Figure at 0x7f210b6fef28>"
      ]
     },
     "metadata": {},
     "output_type": "display_data"
    }
   ],
   "source": [
    "for k,v in data.groupby(\"CW\"):\n",
    "    p = make_week_plot(week=k, df=v)\n",
    "    p.show()"
   ]
  },
  {
   "cell_type": "markdown",
   "metadata": {
    "extensions": {
     "jupyter_dashboards": {
      "version": 1,
      "views": {
       "grid_default": {
        "col": 0,
        "height": 2,
        "hidden": false,
        "row": 75,
        "width": 9
       },
       "report_default": {
        "hidden": false
       }
      }
     }
    }
   },
   "source": [
    "#### Metrices"
   ]
  },
  {
   "cell_type": "code",
   "execution_count": 5,
   "metadata": {
    "collapsed": true,
    "extensions": {
     "jupyter_dashboards": {
      "version": 1,
      "views": {
       "grid_default": {
        "hidden": true
       },
       "report_default": {
        "hidden": true
       }
      }
     }
    }
   },
   "outputs": [],
   "source": [
    "# Metrices Utils\n",
    "\n",
    "def make_metrices_dict(df):\n",
    "    \"\"\" Creates dict of standard metrices and corresponding values\n",
    "    :Param data: pd.Dataframe of pressure values\n",
    "    :Return metrices dict: dict with metrices and processed values \n",
    "    \"\"\"\n",
    "    metrices_dict = {}\n",
    "\n",
    "    #number of measures\n",
    "    metrices_dict[\"Number of Measures\"] = df.shape[0]\n",
    "    \n",
    "    #mean\n",
    "    metrices_dict[\"Systolic mean\"] = \"{0:.2f}\".format(df.Sys.mean())\n",
    "    metrices_dict[\"Diastolic mean\"] = \"{0:.2f}\".format(df.Dia.mean())\n",
    "\n",
    "    #sys max min\n",
    "    metrices_dict[\"Systolic max\"] = df.Sys.max()\n",
    "    metrices_dict[\"Systolic min\"] = df.Sys.min()\n",
    "\n",
    "    #dia max min\n",
    "    metrices_dict[\"Diastolic max\"] = df.Dia.max()\n",
    "    metrices_dict[\"Diastolic min\"] = df.Dia.min()\n",
    "    \n",
    "    #count of high / low blood pressure measures\n",
    "    metrices_dict[\"High Pressure Measures\"] = df[(df.Sys > 139) | (df.Dia > 89)].count()[0]\n",
    "    metrices_dict[\"High Pressure Measures Rate\"] = \"{:.0%}\".format(metrices_dict[\"High Pressure Measures\"] / \n",
    "                                                                    metrices_dict[\"Number of Measures\"])\n",
    "    metrices_dict[\"Low Pressure Measures\"] = df[(df.Sys < 100) | (df.Dia < 60)].count()[0]\n",
    "    metrices_dict[\"Low Pressure Measures Rate\"] = \"{:.0%}\".format(metrices_dict[\"Low Pressure Measures\"] / \n",
    "                                                                    metrices_dict[\"Number of Measures\"])\n",
    "    \n",
    "    #pulse measures\n",
    "    metrices_dict[\"Pulse mean\"] = \"{0:.2f}\".format(df.Pulse.mean())\n",
    "    metrices_dict[\"Pulse max\"] = df.Pulse.max()\n",
    "    metrices_dict[\"Pulse min\"] = df.Pulse.min()\n",
    "    \n",
    "    return metrices_dict\n"
   ]
  },
  {
   "cell_type": "markdown",
   "metadata": {
    "extensions": {
     "jupyter_dashboards": {
      "version": 1,
      "views": {
       "grid_default": {
        "col": 0,
        "height": 2,
        "hidden": false,
        "row": 77,
        "width": 3
       },
       "report_default": {
        "hidden": false
       }
      }
     }
    }
   },
   "source": [
    "Total"
   ]
  },
  {
   "cell_type": "code",
   "execution_count": 6,
   "metadata": {
    "extensions": {
     "jupyter_dashboards": {
      "version": 1,
      "views": {
       "grid_default": {
        "col": 0,
        "height": 14,
        "hidden": false,
        "row": 79,
        "width": 3
       },
       "report_default": {
        "hidden": false
       }
      }
     }
    }
   },
   "outputs": [
    {
     "data": {
      "text/html": [
       "<div>\n",
       "<style>\n",
       "    .dataframe thead tr:only-child th {\n",
       "        text-align: right;\n",
       "    }\n",
       "\n",
       "    .dataframe thead th {\n",
       "        text-align: left;\n",
       "    }\n",
       "\n",
       "    .dataframe tbody tr th {\n",
       "        vertical-align: top;\n",
       "    }\n",
       "</style>\n",
       "<table border=\"1\" class=\"dataframe\">\n",
       "  <thead>\n",
       "    <tr style=\"text-align: right;\">\n",
       "      <th></th>\n",
       "      <th>Value</th>\n",
       "    </tr>\n",
       "  </thead>\n",
       "  <tbody>\n",
       "    <tr>\n",
       "      <th>Number of Measures</th>\n",
       "      <td>57</td>\n",
       "    </tr>\n",
       "    <tr>\n",
       "      <th>Systolic mean</th>\n",
       "      <td>129.05</td>\n",
       "    </tr>\n",
       "    <tr>\n",
       "      <th>Diastolic mean</th>\n",
       "      <td>81.21</td>\n",
       "    </tr>\n",
       "    <tr>\n",
       "      <th>Systolic max</th>\n",
       "      <td>159</td>\n",
       "    </tr>\n",
       "    <tr>\n",
       "      <th>Systolic min</th>\n",
       "      <td>101</td>\n",
       "    </tr>\n",
       "    <tr>\n",
       "      <th>Diastolic max</th>\n",
       "      <td>92</td>\n",
       "    </tr>\n",
       "    <tr>\n",
       "      <th>Diastolic min</th>\n",
       "      <td>73</td>\n",
       "    </tr>\n",
       "    <tr>\n",
       "      <th>High Pressure Measures</th>\n",
       "      <td>11</td>\n",
       "    </tr>\n",
       "    <tr>\n",
       "      <th>High Pressure Measures Rate</th>\n",
       "      <td>19%</td>\n",
       "    </tr>\n",
       "    <tr>\n",
       "      <th>Low Pressure Measures</th>\n",
       "      <td>0</td>\n",
       "    </tr>\n",
       "    <tr>\n",
       "      <th>Low Pressure Measures Rate</th>\n",
       "      <td>0%</td>\n",
       "    </tr>\n",
       "    <tr>\n",
       "      <th>Pulse mean</th>\n",
       "      <td>72.81</td>\n",
       "    </tr>\n",
       "    <tr>\n",
       "      <th>Pulse max</th>\n",
       "      <td>97</td>\n",
       "    </tr>\n",
       "    <tr>\n",
       "      <th>Pulse min</th>\n",
       "      <td>57</td>\n",
       "    </tr>\n",
       "  </tbody>\n",
       "</table>\n",
       "</div>"
      ],
      "text/plain": [
       "                              Value\n",
       "Number of Measures               57\n",
       "Systolic mean                129.05\n",
       "Diastolic mean                81.21\n",
       "Systolic max                    159\n",
       "Systolic min                    101\n",
       "Diastolic max                    92\n",
       "Diastolic min                    73\n",
       "High Pressure Measures           11\n",
       "High Pressure Measures Rate     19%\n",
       "Low Pressure Measures             0\n",
       "Low Pressure Measures Rate       0%\n",
       "Pulse mean                    72.81\n",
       "Pulse max                        97\n",
       "Pulse min                        57"
      ]
     },
     "execution_count": 6,
     "metadata": {},
     "output_type": "execute_result"
    }
   ],
   "source": [
    "# Metrices Total\n",
    "metrices_total = make_metrices_dict(data)\n",
    "\n",
    "metrices_table_total = pd.DataFrame.from_dict(metrices_total, orient=\"index\").rename(columns={0: \"Value\"})\n",
    "metrices_table_total"
   ]
  },
  {
   "cell_type": "markdown",
   "metadata": {
    "extensions": {
     "jupyter_dashboards": {
      "version": 1,
      "views": {
       "grid_default": {
        "col": 3,
        "height": 2,
        "hidden": false,
        "row": 77,
        "width": 6
       },
       "report_default": {
        "hidden": false
       }
      }
     }
    }
   },
   "source": [
    "Per Week"
   ]
  },
  {
   "cell_type": "code",
   "execution_count": 7,
   "metadata": {
    "extensions": {
     "jupyter_dashboards": {
      "version": 1,
      "views": {
       "grid_default": {
        "col": 3,
        "height": 14,
        "hidden": false,
        "row": 79,
        "width": 6
       },
       "report_default": {
        "hidden": true
       }
      }
     }
    }
   },
   "outputs": [
    {
     "data": {
      "text/html": [
       "<div>\n",
       "<style>\n",
       "    .dataframe thead tr:only-child th {\n",
       "        text-align: right;\n",
       "    }\n",
       "\n",
       "    .dataframe thead th {\n",
       "        text-align: left;\n",
       "    }\n",
       "\n",
       "    .dataframe tbody tr th {\n",
       "        vertical-align: top;\n",
       "    }\n",
       "</style>\n",
       "<table border=\"1\" class=\"dataframe\">\n",
       "  <thead>\n",
       "    <tr style=\"text-align: right;\">\n",
       "      <th></th>\n",
       "      <th>28</th>\n",
       "      <th>29</th>\n",
       "      <th>30</th>\n",
       "      <th>31</th>\n",
       "    </tr>\n",
       "  </thead>\n",
       "  <tbody>\n",
       "    <tr>\n",
       "      <th>Number of Measures</th>\n",
       "      <td>5</td>\n",
       "      <td>14</td>\n",
       "      <td>20</td>\n",
       "      <td>18</td>\n",
       "    </tr>\n",
       "    <tr>\n",
       "      <th>Systolic mean</th>\n",
       "      <td>135.00</td>\n",
       "      <td>126.29</td>\n",
       "      <td>130.50</td>\n",
       "      <td>127.94</td>\n",
       "    </tr>\n",
       "    <tr>\n",
       "      <th>Diastolic mean</th>\n",
       "      <td>83.80</td>\n",
       "      <td>81.79</td>\n",
       "      <td>80.35</td>\n",
       "      <td>81.00</td>\n",
       "    </tr>\n",
       "    <tr>\n",
       "      <th>Systolic max</th>\n",
       "      <td>159</td>\n",
       "      <td>156</td>\n",
       "      <td>148</td>\n",
       "      <td>150</td>\n",
       "    </tr>\n",
       "    <tr>\n",
       "      <th>Systolic min</th>\n",
       "      <td>121</td>\n",
       "      <td>107</td>\n",
       "      <td>108</td>\n",
       "      <td>101</td>\n",
       "    </tr>\n",
       "    <tr>\n",
       "      <th>Diastolic max</th>\n",
       "      <td>92</td>\n",
       "      <td>91</td>\n",
       "      <td>89</td>\n",
       "      <td>87</td>\n",
       "    </tr>\n",
       "    <tr>\n",
       "      <th>Diastolic min</th>\n",
       "      <td>79</td>\n",
       "      <td>75</td>\n",
       "      <td>73</td>\n",
       "      <td>75</td>\n",
       "    </tr>\n",
       "    <tr>\n",
       "      <th>High Pressure Measures</th>\n",
       "      <td>2</td>\n",
       "      <td>3</td>\n",
       "      <td>4</td>\n",
       "      <td>2</td>\n",
       "    </tr>\n",
       "    <tr>\n",
       "      <th>High Pressure Measures Rate</th>\n",
       "      <td>40%</td>\n",
       "      <td>21%</td>\n",
       "      <td>20%</td>\n",
       "      <td>11%</td>\n",
       "    </tr>\n",
       "    <tr>\n",
       "      <th>Low Pressure Measures</th>\n",
       "      <td>0</td>\n",
       "      <td>0</td>\n",
       "      <td>0</td>\n",
       "      <td>0</td>\n",
       "    </tr>\n",
       "    <tr>\n",
       "      <th>Low Pressure Measures Rate</th>\n",
       "      <td>0%</td>\n",
       "      <td>0%</td>\n",
       "      <td>0%</td>\n",
       "      <td>0%</td>\n",
       "    </tr>\n",
       "    <tr>\n",
       "      <th>Pulse mean</th>\n",
       "      <td>69.40</td>\n",
       "      <td>75.21</td>\n",
       "      <td>71.70</td>\n",
       "      <td>73.11</td>\n",
       "    </tr>\n",
       "    <tr>\n",
       "      <th>Pulse max</th>\n",
       "      <td>77</td>\n",
       "      <td>88</td>\n",
       "      <td>88</td>\n",
       "      <td>97</td>\n",
       "    </tr>\n",
       "    <tr>\n",
       "      <th>Pulse min</th>\n",
       "      <td>57</td>\n",
       "      <td>62</td>\n",
       "      <td>59</td>\n",
       "      <td>61</td>\n",
       "    </tr>\n",
       "  </tbody>\n",
       "</table>\n",
       "</div>"
      ],
      "text/plain": [
       "                                 28      29      30      31\n",
       "Number of Measures                5      14      20      18\n",
       "Systolic mean                135.00  126.29  130.50  127.94\n",
       "Diastolic mean                83.80   81.79   80.35   81.00\n",
       "Systolic max                    159     156     148     150\n",
       "Systolic min                    121     107     108     101\n",
       "Diastolic max                    92      91      89      87\n",
       "Diastolic min                    79      75      73      75\n",
       "High Pressure Measures            2       3       4       2\n",
       "High Pressure Measures Rate     40%     21%     20%     11%\n",
       "Low Pressure Measures             0       0       0       0\n",
       "Low Pressure Measures Rate       0%      0%      0%      0%\n",
       "Pulse mean                    69.40   75.21   71.70   73.11\n",
       "Pulse max                        77      88      88      97\n",
       "Pulse min                        57      62      59      61"
      ]
     },
     "execution_count": 7,
     "metadata": {},
     "output_type": "execute_result"
    }
   ],
   "source": [
    "# Metrices per Week\n",
    "metrices_weeks = pd.DataFrame()\n",
    "\n",
    "for k,v in data.groupby(\"CW\"):\n",
    "    metrices_week = pd.DataFrame.from_dict(make_metrices_dict(v), orient=\"index\")\n",
    "    metrices_weeks = pd.concat([metrices_weeks, metrices_week], 1, ignore_index=True)\n",
    "\n",
    "metrices_weeks.columns = data.CW.unique()\n",
    "metrices_weeks"
   ]
  },
  {
   "cell_type": "markdown",
   "metadata": {
    "extensions": {
     "jupyter_dashboards": {
      "version": 1,
      "views": {
       "grid_default": {
        "col": 9,
        "height": 2,
        "hidden": false,
        "row": 75,
        "width": 3
       },
       "report_default": {
        "hidden": false
       }
      }
     }
    }
   },
   "source": [
    "### Data Table"
   ]
  },
  {
   "cell_type": "code",
   "execution_count": 8,
   "metadata": {
    "extensions": {
     "jupyter_dashboards": {
      "version": 1,
      "views": {
       "grid_default": {
        "col": 9,
        "height": 50,
        "hidden": false,
        "row": 77,
        "width": 3
       },
       "report_default": {
        "hidden": false
       }
      }
     }
    }
   },
   "outputs": [
    {
     "data": {
      "text/html": [
       "<div>\n",
       "<style>\n",
       "    .dataframe thead tr:only-child th {\n",
       "        text-align: right;\n",
       "    }\n",
       "\n",
       "    .dataframe thead th {\n",
       "        text-align: left;\n",
       "    }\n",
       "\n",
       "    .dataframe tbody tr th {\n",
       "        vertical-align: top;\n",
       "    }\n",
       "</style>\n",
       "<table border=\"1\" class=\"dataframe\">\n",
       "  <thead>\n",
       "    <tr style=\"text-align: right;\">\n",
       "      <th></th>\n",
       "      <th>Sys</th>\n",
       "      <th>Dia</th>\n",
       "      <th>Pulse</th>\n",
       "    </tr>\n",
       "    <tr>\n",
       "      <th>ToM</th>\n",
       "      <th></th>\n",
       "      <th></th>\n",
       "      <th></th>\n",
       "    </tr>\n",
       "  </thead>\n",
       "  <tbody>\n",
       "    <tr>\n",
       "      <th>2017-07-15 09:16:00</th>\n",
       "      <td>148</td>\n",
       "      <td>84</td>\n",
       "      <td>57</td>\n",
       "    </tr>\n",
       "    <tr>\n",
       "      <th>2017-07-15 19:24:00</th>\n",
       "      <td>159</td>\n",
       "      <td>92</td>\n",
       "      <td>75</td>\n",
       "    </tr>\n",
       "    <tr>\n",
       "      <th>2017-07-15 22:23:00</th>\n",
       "      <td>123</td>\n",
       "      <td>83</td>\n",
       "      <td>77</td>\n",
       "    </tr>\n",
       "    <tr>\n",
       "      <th>2017-07-16 09:14:00</th>\n",
       "      <td>124</td>\n",
       "      <td>81</td>\n",
       "      <td>68</td>\n",
       "    </tr>\n",
       "    <tr>\n",
       "      <th>2017-07-16 15:16:00</th>\n",
       "      <td>121</td>\n",
       "      <td>79</td>\n",
       "      <td>70</td>\n",
       "    </tr>\n",
       "    <tr>\n",
       "      <th>2017-07-17 06:45:00</th>\n",
       "      <td>123</td>\n",
       "      <td>76</td>\n",
       "      <td>67</td>\n",
       "    </tr>\n",
       "    <tr>\n",
       "      <th>2017-07-17 15:04:00</th>\n",
       "      <td>132</td>\n",
       "      <td>81</td>\n",
       "      <td>79</td>\n",
       "    </tr>\n",
       "    <tr>\n",
       "      <th>2017-07-17 21:00:00</th>\n",
       "      <td>136</td>\n",
       "      <td>87</td>\n",
       "      <td>76</td>\n",
       "    </tr>\n",
       "    <tr>\n",
       "      <th>2017-07-18 08:20:00</th>\n",
       "      <td>131</td>\n",
       "      <td>91</td>\n",
       "      <td>62</td>\n",
       "    </tr>\n",
       "    <tr>\n",
       "      <th>2017-07-18 14:04:00</th>\n",
       "      <td>139</td>\n",
       "      <td>83</td>\n",
       "      <td>65</td>\n",
       "    </tr>\n",
       "    <tr>\n",
       "      <th>2017-07-21 07:41:00</th>\n",
       "      <td>124</td>\n",
       "      <td>79</td>\n",
       "      <td>86</td>\n",
       "    </tr>\n",
       "    <tr>\n",
       "      <th>2017-07-21 14:56:00</th>\n",
       "      <td>111</td>\n",
       "      <td>82</td>\n",
       "      <td>88</td>\n",
       "    </tr>\n",
       "    <tr>\n",
       "      <th>2017-07-21 20:25:00</th>\n",
       "      <td>112</td>\n",
       "      <td>78</td>\n",
       "      <td>77</td>\n",
       "    </tr>\n",
       "    <tr>\n",
       "      <th>2017-07-22 09:52:00</th>\n",
       "      <td>107</td>\n",
       "      <td>84</td>\n",
       "      <td>72</td>\n",
       "    </tr>\n",
       "    <tr>\n",
       "      <th>2017-07-22 14:59:00</th>\n",
       "      <td>124</td>\n",
       "      <td>81</td>\n",
       "      <td>72</td>\n",
       "    </tr>\n",
       "    <tr>\n",
       "      <th>2017-07-22 20:51:00</th>\n",
       "      <td>108</td>\n",
       "      <td>83</td>\n",
       "      <td>79</td>\n",
       "    </tr>\n",
       "    <tr>\n",
       "      <th>2017-07-23 10:32:00</th>\n",
       "      <td>120</td>\n",
       "      <td>75</td>\n",
       "      <td>72</td>\n",
       "    </tr>\n",
       "    <tr>\n",
       "      <th>2017-07-23 13:53:00</th>\n",
       "      <td>156</td>\n",
       "      <td>76</td>\n",
       "      <td>77</td>\n",
       "    </tr>\n",
       "    <tr>\n",
       "      <th>2017-07-23 20:03:00</th>\n",
       "      <td>145</td>\n",
       "      <td>89</td>\n",
       "      <td>81</td>\n",
       "    </tr>\n",
       "    <tr>\n",
       "      <th>2017-07-24 09:12:00</th>\n",
       "      <td>148</td>\n",
       "      <td>85</td>\n",
       "      <td>65</td>\n",
       "    </tr>\n",
       "    <tr>\n",
       "      <th>2017-07-24 13:04:00</th>\n",
       "      <td>140</td>\n",
       "      <td>79</td>\n",
       "      <td>72</td>\n",
       "    </tr>\n",
       "    <tr>\n",
       "      <th>2017-07-24 20:59:00</th>\n",
       "      <td>144</td>\n",
       "      <td>86</td>\n",
       "      <td>70</td>\n",
       "    </tr>\n",
       "    <tr>\n",
       "      <th>2017-07-25 08:55:00</th>\n",
       "      <td>112</td>\n",
       "      <td>75</td>\n",
       "      <td>69</td>\n",
       "    </tr>\n",
       "    <tr>\n",
       "      <th>2017-07-25 15:04:00</th>\n",
       "      <td>139</td>\n",
       "      <td>80</td>\n",
       "      <td>80</td>\n",
       "    </tr>\n",
       "    <tr>\n",
       "      <th>2017-07-25 21:44:00</th>\n",
       "      <td>115</td>\n",
       "      <td>85</td>\n",
       "      <td>70</td>\n",
       "    </tr>\n",
       "    <tr>\n",
       "      <th>2017-07-26 09:33:00</th>\n",
       "      <td>127</td>\n",
       "      <td>73</td>\n",
       "      <td>69</td>\n",
       "    </tr>\n",
       "    <tr>\n",
       "      <th>2017-07-26 15:15:00</th>\n",
       "      <td>127</td>\n",
       "      <td>77</td>\n",
       "      <td>77</td>\n",
       "    </tr>\n",
       "    <tr>\n",
       "      <th>2017-07-27 07:50:00</th>\n",
       "      <td>124</td>\n",
       "      <td>76</td>\n",
       "      <td>61</td>\n",
       "    </tr>\n",
       "    <tr>\n",
       "      <th>2017-07-27 15:16:00</th>\n",
       "      <td>128</td>\n",
       "      <td>77</td>\n",
       "      <td>76</td>\n",
       "    </tr>\n",
       "    <tr>\n",
       "      <th>2017-07-27 21:52:00</th>\n",
       "      <td>132</td>\n",
       "      <td>78</td>\n",
       "      <td>66</td>\n",
       "    </tr>\n",
       "    <tr>\n",
       "      <th>2017-07-28 08:12:00</th>\n",
       "      <td>134</td>\n",
       "      <td>82</td>\n",
       "      <td>59</td>\n",
       "    </tr>\n",
       "    <tr>\n",
       "      <th>2017-07-28 13:49:00</th>\n",
       "      <td>132</td>\n",
       "      <td>78</td>\n",
       "      <td>79</td>\n",
       "    </tr>\n",
       "    <tr>\n",
       "      <th>2017-07-28 21:34:00</th>\n",
       "      <td>139</td>\n",
       "      <td>82</td>\n",
       "      <td>73</td>\n",
       "    </tr>\n",
       "    <tr>\n",
       "      <th>2017-07-29 10:29:00</th>\n",
       "      <td>136</td>\n",
       "      <td>89</td>\n",
       "      <td>72</td>\n",
       "    </tr>\n",
       "    <tr>\n",
       "      <th>2017-07-29 14:27:00</th>\n",
       "      <td>124</td>\n",
       "      <td>78</td>\n",
       "      <td>64</td>\n",
       "    </tr>\n",
       "    <tr>\n",
       "      <th>2017-07-29 21:36:00</th>\n",
       "      <td>125</td>\n",
       "      <td>80</td>\n",
       "      <td>77</td>\n",
       "    </tr>\n",
       "    <tr>\n",
       "      <th>2017-07-30 10:04:00</th>\n",
       "      <td>140</td>\n",
       "      <td>86</td>\n",
       "      <td>66</td>\n",
       "    </tr>\n",
       "    <tr>\n",
       "      <th>2017-07-30 14:28:00</th>\n",
       "      <td>136</td>\n",
       "      <td>80</td>\n",
       "      <td>81</td>\n",
       "    </tr>\n",
       "    <tr>\n",
       "      <th>2017-07-30 21:21:00</th>\n",
       "      <td>108</td>\n",
       "      <td>81</td>\n",
       "      <td>88</td>\n",
       "    </tr>\n",
       "    <tr>\n",
       "      <th>2017-07-31 09:34:00</th>\n",
       "      <td>116</td>\n",
       "      <td>75</td>\n",
       "      <td>73</td>\n",
       "    </tr>\n",
       "    <tr>\n",
       "      <th>2017-07-31 16:20:00</th>\n",
       "      <td>150</td>\n",
       "      <td>86</td>\n",
       "      <td>97</td>\n",
       "    </tr>\n",
       "    <tr>\n",
       "      <th>2017-07-31 20:50:00</th>\n",
       "      <td>131</td>\n",
       "      <td>75</td>\n",
       "      <td>74</td>\n",
       "    </tr>\n",
       "    <tr>\n",
       "      <th>2017-08-01 08:38:00</th>\n",
       "      <td>127</td>\n",
       "      <td>81</td>\n",
       "      <td>63</td>\n",
       "    </tr>\n",
       "    <tr>\n",
       "      <th>2017-08-01 14:17:00</th>\n",
       "      <td>120</td>\n",
       "      <td>79</td>\n",
       "      <td>79</td>\n",
       "    </tr>\n",
       "    <tr>\n",
       "      <th>2017-08-01 21:39:00</th>\n",
       "      <td>132</td>\n",
       "      <td>84</td>\n",
       "      <td>82</td>\n",
       "    </tr>\n",
       "    <tr>\n",
       "      <th>2017-08-02 09:30:00</th>\n",
       "      <td>118</td>\n",
       "      <td>76</td>\n",
       "      <td>67</td>\n",
       "    </tr>\n",
       "    <tr>\n",
       "      <th>2017-08-02 15:39:00</th>\n",
       "      <td>126</td>\n",
       "      <td>78</td>\n",
       "      <td>76</td>\n",
       "    </tr>\n",
       "    <tr>\n",
       "      <th>2017-08-02 20:57:00</th>\n",
       "      <td>137</td>\n",
       "      <td>86</td>\n",
       "      <td>86</td>\n",
       "    </tr>\n",
       "    <tr>\n",
       "      <th>2017-08-03 09:04:00</th>\n",
       "      <td>125</td>\n",
       "      <td>77</td>\n",
       "      <td>64</td>\n",
       "    </tr>\n",
       "    <tr>\n",
       "      <th>2017-08-03 14:07:00</th>\n",
       "      <td>138</td>\n",
       "      <td>81</td>\n",
       "      <td>61</td>\n",
       "    </tr>\n",
       "    <tr>\n",
       "      <th>2017-08-03 22:25:00</th>\n",
       "      <td>139</td>\n",
       "      <td>83</td>\n",
       "      <td>68</td>\n",
       "    </tr>\n",
       "    <tr>\n",
       "      <th>2017-08-04 09:06:00</th>\n",
       "      <td>119</td>\n",
       "      <td>87</td>\n",
       "      <td>69</td>\n",
       "    </tr>\n",
       "    <tr>\n",
       "      <th>2017-08-04 14:49:00</th>\n",
       "      <td>124</td>\n",
       "      <td>84</td>\n",
       "      <td>81</td>\n",
       "    </tr>\n",
       "    <tr>\n",
       "      <th>2017-08-05 10:02:00</th>\n",
       "      <td>134</td>\n",
       "      <td>81</td>\n",
       "      <td>68</td>\n",
       "    </tr>\n",
       "    <tr>\n",
       "      <th>2017-08-05 15:10:00</th>\n",
       "      <td>140</td>\n",
       "      <td>84</td>\n",
       "      <td>78</td>\n",
       "    </tr>\n",
       "    <tr>\n",
       "      <th>2017-08-06 09:44:00</th>\n",
       "      <td>126</td>\n",
       "      <td>84</td>\n",
       "      <td>63</td>\n",
       "    </tr>\n",
       "    <tr>\n",
       "      <th>2017-08-06 17:55:00</th>\n",
       "      <td>101</td>\n",
       "      <td>77</td>\n",
       "      <td>67</td>\n",
       "    </tr>\n",
       "  </tbody>\n",
       "</table>\n",
       "</div>"
      ],
      "text/plain": [
       "                     Sys  Dia  Pulse\n",
       "ToM                                 \n",
       "2017-07-15 09:16:00  148   84     57\n",
       "2017-07-15 19:24:00  159   92     75\n",
       "2017-07-15 22:23:00  123   83     77\n",
       "2017-07-16 09:14:00  124   81     68\n",
       "2017-07-16 15:16:00  121   79     70\n",
       "2017-07-17 06:45:00  123   76     67\n",
       "2017-07-17 15:04:00  132   81     79\n",
       "2017-07-17 21:00:00  136   87     76\n",
       "2017-07-18 08:20:00  131   91     62\n",
       "2017-07-18 14:04:00  139   83     65\n",
       "2017-07-21 07:41:00  124   79     86\n",
       "2017-07-21 14:56:00  111   82     88\n",
       "2017-07-21 20:25:00  112   78     77\n",
       "2017-07-22 09:52:00  107   84     72\n",
       "2017-07-22 14:59:00  124   81     72\n",
       "2017-07-22 20:51:00  108   83     79\n",
       "2017-07-23 10:32:00  120   75     72\n",
       "2017-07-23 13:53:00  156   76     77\n",
       "2017-07-23 20:03:00  145   89     81\n",
       "2017-07-24 09:12:00  148   85     65\n",
       "2017-07-24 13:04:00  140   79     72\n",
       "2017-07-24 20:59:00  144   86     70\n",
       "2017-07-25 08:55:00  112   75     69\n",
       "2017-07-25 15:04:00  139   80     80\n",
       "2017-07-25 21:44:00  115   85     70\n",
       "2017-07-26 09:33:00  127   73     69\n",
       "2017-07-26 15:15:00  127   77     77\n",
       "2017-07-27 07:50:00  124   76     61\n",
       "2017-07-27 15:16:00  128   77     76\n",
       "2017-07-27 21:52:00  132   78     66\n",
       "2017-07-28 08:12:00  134   82     59\n",
       "2017-07-28 13:49:00  132   78     79\n",
       "2017-07-28 21:34:00  139   82     73\n",
       "2017-07-29 10:29:00  136   89     72\n",
       "2017-07-29 14:27:00  124   78     64\n",
       "2017-07-29 21:36:00  125   80     77\n",
       "2017-07-30 10:04:00  140   86     66\n",
       "2017-07-30 14:28:00  136   80     81\n",
       "2017-07-30 21:21:00  108   81     88\n",
       "2017-07-31 09:34:00  116   75     73\n",
       "2017-07-31 16:20:00  150   86     97\n",
       "2017-07-31 20:50:00  131   75     74\n",
       "2017-08-01 08:38:00  127   81     63\n",
       "2017-08-01 14:17:00  120   79     79\n",
       "2017-08-01 21:39:00  132   84     82\n",
       "2017-08-02 09:30:00  118   76     67\n",
       "2017-08-02 15:39:00  126   78     76\n",
       "2017-08-02 20:57:00  137   86     86\n",
       "2017-08-03 09:04:00  125   77     64\n",
       "2017-08-03 14:07:00  138   81     61\n",
       "2017-08-03 22:25:00  139   83     68\n",
       "2017-08-04 09:06:00  119   87     69\n",
       "2017-08-04 14:49:00  124   84     81\n",
       "2017-08-05 10:02:00  134   81     68\n",
       "2017-08-05 15:10:00  140   84     78\n",
       "2017-08-06 09:44:00  126   84     63\n",
       "2017-08-06 17:55:00  101   77     67"
      ]
     },
     "execution_count": 8,
     "metadata": {},
     "output_type": "execute_result"
    }
   ],
   "source": [
    "# Data table\n",
    "data_table = data\n",
    "data_table.drop(\"CW\", 1, inplace=True)\n",
    "data_table.index.rename(\"ToM\", inplace=True)\n",
    "\n",
    "#with pd.option_context('display.max_rows', 999, 'display.max_columns', 5):\n",
    "#    print df\n",
    "    \n",
    "pd.option_context(\"display.max_rows\", 200)\n",
    "data_table"
   ]
  }
 ],
 "metadata": {
  "extensions": {
   "jupyter_dashboards": {
    "activeView": "grid_default",
    "version": 1,
    "views": {
     "grid_default": {
      "cellMargin": 10,
      "defaultCellHeight": 20,
      "maxColumns": 12,
      "name": "grid",
      "type": "grid"
     },
     "report_default": {
      "name": "report",
      "type": "report"
     }
    }
   }
  },
  "kernelspec": {
   "display_name": "Python 3",
   "language": "python",
   "name": "python3"
  },
  "language_info": {
   "codemirror_mode": {
    "name": "ipython",
    "version": 3
   },
   "file_extension": ".py",
   "mimetype": "text/x-python",
   "name": "python",
   "nbconvert_exporter": "python",
   "pygments_lexer": "ipython3",
   "version": "3.6.1"
  }
 },
 "nbformat": 4,
 "nbformat_minor": 2
}
