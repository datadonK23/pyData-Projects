{
 "cells": [
  {
   "cell_type": "markdown",
   "metadata": {
    "extensions": {
     "jupyter_dashboards": {
      "version": 1,
      "views": {
       "grid_default": {
        "col": 3,
        "height": 4,
        "hidden": false,
        "row": 0,
        "width": 6
       },
       "report_default": {
        "hidden": true
       }
      }
     }
    }
   },
   "source": [
    "# Report - Blood Pressure Monitoring\n",
    "Measurements between 15.07.2017 - #FIXME"
   ]
  },
  {
   "cell_type": "code",
   "execution_count": 92,
   "metadata": {
    "extensions": {
     "jupyter_dashboards": {
      "version": 1,
      "views": {
       "grid_default": {
        "hidden": true
       },
       "report_default": {
        "hidden": true
       }
      }
     }
    }
   },
   "outputs": [],
   "source": [
    "import numpy as np\n",
    "import pandas as pd\n",
    "import matplotlib.pyplot as plt\n",
    "import matplotlib.dates as mdates\n",
    "import matplotlib.ticker as mtick\n",
    "import seaborn as sns\n",
    "\n",
    "%matplotlib inline\n",
    "fig_size = [16, 7]\n",
    "plt.rcParams[\"figure.figsize\"] = fig_size"
   ]
  },
  {
   "cell_type": "code",
   "execution_count": 31,
   "metadata": {
    "extensions": {
     "jupyter_dashboards": {
      "version": 1,
      "views": {
       "grid_default": {
        "hidden": true
       },
       "report_default": {
        "hidden": true
       }
      }
     }
    }
   },
   "outputs": [
    {
     "data": {
      "text/html": [
       "<div>\n",
       "<style>\n",
       "    .dataframe thead tr:only-child th {\n",
       "        text-align: right;\n",
       "    }\n",
       "\n",
       "    .dataframe thead th {\n",
       "        text-align: left;\n",
       "    }\n",
       "\n",
       "    .dataframe tbody tr th {\n",
       "        vertical-align: top;\n",
       "    }\n",
       "</style>\n",
       "<table border=\"1\" class=\"dataframe\">\n",
       "  <thead>\n",
       "    <tr style=\"text-align: right;\">\n",
       "      <th></th>\n",
       "      <th>Sys</th>\n",
       "      <th>Dia</th>\n",
       "      <th>Pulse</th>\n",
       "    </tr>\n",
       "    <tr>\n",
       "      <th>Date_Time</th>\n",
       "      <th></th>\n",
       "      <th></th>\n",
       "      <th></th>\n",
       "    </tr>\n",
       "  </thead>\n",
       "  <tbody>\n",
       "    <tr>\n",
       "      <th>2017-07-15 09:16:00</th>\n",
       "      <td>148</td>\n",
       "      <td>84</td>\n",
       "      <td>57</td>\n",
       "    </tr>\n",
       "    <tr>\n",
       "      <th>2017-07-15 19:24:00</th>\n",
       "      <td>159</td>\n",
       "      <td>92</td>\n",
       "      <td>75</td>\n",
       "    </tr>\n",
       "    <tr>\n",
       "      <th>2017-07-15 22:23:00</th>\n",
       "      <td>123</td>\n",
       "      <td>83</td>\n",
       "      <td>77</td>\n",
       "    </tr>\n",
       "    <tr>\n",
       "      <th>2017-07-16 09:14:00</th>\n",
       "      <td>124</td>\n",
       "      <td>81</td>\n",
       "      <td>68</td>\n",
       "    </tr>\n",
       "    <tr>\n",
       "      <th>2017-07-16 15:16:00</th>\n",
       "      <td>121</td>\n",
       "      <td>79</td>\n",
       "      <td>70</td>\n",
       "    </tr>\n",
       "  </tbody>\n",
       "</table>\n",
       "</div>"
      ],
      "text/plain": [
       "                     Sys  Dia  Pulse\n",
       "Date_Time                           \n",
       "2017-07-15 09:16:00  148   84     57\n",
       "2017-07-15 19:24:00  159   92     75\n",
       "2017-07-15 22:23:00  123   83     77\n",
       "2017-07-16 09:14:00  124   81     68\n",
       "2017-07-16 15:16:00  121   79     70"
      ]
     },
     "execution_count": 31,
     "metadata": {},
     "output_type": "execute_result"
    }
   ],
   "source": [
    "# Load data\n",
    "filepath = \"data/data.csv\"\n",
    "raw_data = pd.read_csv(filepath, parse_dates=[[\"Date\", \"Time\"]])\n",
    "\n",
    "# FIXME maybe cleaning (datetime)\n",
    "data = raw_data.set_index(pd.DatetimeIndex(raw_data.Date_Time)).drop(\"Date_Time\", axis=1)\n",
    "data.head()"
   ]
  },
  {
   "cell_type": "markdown",
   "metadata": {
    "extensions": {
     "jupyter_dashboards": {
      "version": 1,
      "views": {
       "grid_default": {
        "col": 0,
        "height": 3,
        "hidden": false,
        "row": 4,
        "width": 12
       },
       "report_default": {
        "hidden": false
       }
      }
     }
    }
   },
   "source": [
    "### Blood Pressure & Pulse Values\n",
    "Visualization"
   ]
  },
  {
   "cell_type": "code",
   "execution_count": 141,
   "metadata": {
    "extensions": {
     "jupyter_dashboards": {
      "version": 1,
      "views": {
       "grid_default": {
        "col": 0,
        "height": 17,
        "hidden": true,
        "row": 13,
        "width": 12
       },
       "report_default": {
        "hidden": false
       }
      }
     }
    }
   },
   "outputs": [],
   "source": [
    "# Plot Util \n",
    "\n",
    "def make_week_plot(df):\n",
    "    \"\"\" Creates plot object of weekly pressure and pulse values\n",
    "    :Param df: pd.Dataframe of pressure and pulse values per week\n",
    "    :Return plt: Pyplot object\n",
    "    \"\"\"\n",
    "    sns.set_style(\"darkgrid\")\n",
    "    fig, ax = plt.subplots()\n",
    "\n",
    "    for ix, row in df.iterrows():\n",
    "        # Pulse point marker\n",
    "        pulse_plot, = ax.plot(ix, row.Pulse, \n",
    "                             marker=\"D\", color=\"m\", linestyle = \"None\", label=\"Pulse\")\n",
    "        # Sys point marker\n",
    "        sys_plot, = ax.plot(ix, row.Sys,\n",
    "                           marker=\"v\", color=\"b\", linestyle = \"None\", label=\"Systolic\")\n",
    "        # Dia point marker\n",
    "        dia_plot, = ax.plot(ix, row.Dia,\n",
    "                           marker=\"^\", color=\"b\", linestyle = \"None\", label=\"Diastolic\")\n",
    "        # Vertical line between points\n",
    "        vert_plot = ax.axvline(x=ix, ymin=row.Dia/200, ymax=row.Sys/200, \n",
    "                               color=\"b\")\n",
    "\n",
    "    # X Axis enhancements\n",
    "    ax.xaxis.set_minor_locator(mdates.DayLocator())\n",
    "    ax.xaxis.set_minor_formatter(mdates.DateFormatter(\"\\n\\n\\n\\n%d\\n%a\"))\n",
    "    ax.xaxis.grid(True, which=\"minor\")\n",
    "    ax.xaxis.set_major_locator(mdates.HourLocator(interval=2))\n",
    "    ax.xaxis.set_major_formatter(mdates.DateFormatter(\"%H:%M\"))\n",
    "    plt.xticks(rotation=270)\n",
    "\n",
    "    # Y Axis enhancements\n",
    "    plt.yticks(range(0, 201, 20))\n",
    "\n",
    "    # Legend\n",
    "    legend = plt.legend([sys_plot, dia_plot, pulse_plot], [\"Systolic\", \"Diastolic\", \"Pulse\"], \n",
    "                        markerscale=1.6, frameon=True, fontsize=13)\n",
    "    frame = legend.get_frame()\n",
    "    frame.set_color(\"w\")\n",
    "    \n",
    "    # Layout\n",
    "    plt.tight_layout()\n",
    "    \n",
    "    return plt\n"
   ]
  },
  {
   "cell_type": "code",
   "execution_count": 143,
   "metadata": {
    "extensions": {
     "jupyter_dashboards": {
      "version": 1,
      "views": {
       "grid_default": {
        "col": 0,
        "height": 17,
        "hidden": false,
        "row": 7,
        "width": 12
       },
       "report_default": {}
      }
     }
    }
   },
   "outputs": [
    {
     "data": {
      "image/png": "[encoded data removed]",
      "text/plain": [
       "<matplotlib.figure.Figure at 0x7fd4b6674128>"
      ]
     },
     "metadata": {},
     "output_type": "display_data"
    }
   ],
   "source": [
    "#FIXME plot per week\n",
    "p = make_week_plot(data)\n",
    "p.show()"
   ]
  },
  {
   "cell_type": "markdown",
   "metadata": {
    "extensions": {
     "jupyter_dashboards": {
      "version": 1,
      "views": {
       "grid_default": {
        "col": 1,
        "height": 2,
        "hidden": false,
        "row": 24,
        "width": 10
       },
       "report_default": {
        "hidden": false
       }
      }
     }
    }
   },
   "source": [
    "#### Metrices"
   ]
  },
  {
   "cell_type": "code",
   "execution_count": 137,
   "metadata": {
    "extensions": {
     "jupyter_dashboards": {
      "version": 1,
      "views": {
       "grid_default": {
        "hidden": true
       },
       "report_default": {
        "hidden": true
       }
      }
     }
    }
   },
   "outputs": [],
   "source": [
    "# Metrices Utils\n",
    "\n",
    "def make_metrices_dict(df):\n",
    "    \"\"\" Creates dict of standard metrices and corresponding values\n",
    "    :Param data: pd.Dataframe of pressure values\n",
    "    :Return metrices dict: dict with metrices and processed values \n",
    "    \"\"\"\n",
    "    metrices_dict = {}\n",
    "\n",
    "    #mean\n",
    "    metrices_dict[\"Systolic mean\"] = \"{0:.2f}\".format(df.Sys.mean())\n",
    "    metrices_dict[\"Diastolic mean\"] = \"{0:.2f}\".format(df.Dia.mean())\n",
    "\n",
    "    #sys max min\n",
    "    metrices_dict[\"Systolic max\"] = df.Sys.max()\n",
    "    metrices_dict[\"Systolic min\"] = df.Sys.min()\n",
    "\n",
    "    #dia max min\n",
    "    metrices_dict[\"Diastolic max\"] = df.Dia.max()\n",
    "    metrices_dict[\"Diastolic min\"] = df.Dia.min()\n",
    "    \n",
    "    #count of high / low blood pressure measures\n",
    "    metrices_dict[\"High Pressure Measures\"] = df[(df.Sys > 139) | (df.Dia > 89)].count()[0]\n",
    "    metrices_dict[\"Low Pressure Measures\"] = df[(df.Sys < 100) | (df.Dia < 60)].count()[0]\n",
    "    \n",
    "    return metrices_dict\n"
   ]
  },
  {
   "cell_type": "markdown",
   "metadata": {
    "extensions": {
     "jupyter_dashboards": {
      "version": 1,
      "views": {
       "grid_default": {
        "col": 1,
        "height": 2,
        "hidden": false,
        "row": 26,
        "width": 3
       },
       "report_default": {
        "hidden": false
       }
      }
     }
    }
   },
   "source": [
    "Total"
   ]
  },
  {
   "cell_type": "code",
   "execution_count": 138,
   "metadata": {
    "extensions": {
     "jupyter_dashboards": {
      "version": 1,
      "views": {
       "grid_default": {
        "col": 1,
        "height": 10,
        "hidden": false,
        "row": 28,
        "width": 3
       },
       "report_default": {
        "hidden": false
       }
      }
     }
    }
   },
   "outputs": [
    {
     "data": {
      "text/html": [
       "<div>\n",
       "<style>\n",
       "    .dataframe thead tr:only-child th {\n",
       "        text-align: right;\n",
       "    }\n",
       "\n",
       "    .dataframe thead th {\n",
       "        text-align: left;\n",
       "    }\n",
       "\n",
       "    .dataframe tbody tr th {\n",
       "        vertical-align: top;\n",
       "    }\n",
       "</style>\n",
       "<table border=\"1\" class=\"dataframe\">\n",
       "  <thead>\n",
       "    <tr style=\"text-align: right;\">\n",
       "      <th></th>\n",
       "      <th>Value</th>\n",
       "    </tr>\n",
       "  </thead>\n",
       "  <tbody>\n",
       "    <tr>\n",
       "      <th>Systolic mean</th>\n",
       "      <td>129.75</td>\n",
       "    </tr>\n",
       "    <tr>\n",
       "      <th>Diastolic mean</th>\n",
       "      <td>82.83</td>\n",
       "    </tr>\n",
       "    <tr>\n",
       "      <th>Systolic max</th>\n",
       "      <td>159</td>\n",
       "    </tr>\n",
       "    <tr>\n",
       "      <th>Systolic min</th>\n",
       "      <td>120</td>\n",
       "    </tr>\n",
       "    <tr>\n",
       "      <th>Diastolic max</th>\n",
       "      <td>92</td>\n",
       "    </tr>\n",
       "    <tr>\n",
       "      <th>Diastolic min</th>\n",
       "      <td>76</td>\n",
       "    </tr>\n",
       "    <tr>\n",
       "      <th>High Pressure Measures</th>\n",
       "      <td>3</td>\n",
       "    </tr>\n",
       "    <tr>\n",
       "      <th>Low Pressure Measures</th>\n",
       "      <td>0</td>\n",
       "    </tr>\n",
       "  </tbody>\n",
       "</table>\n",
       "</div>"
      ],
      "text/plain": [
       "                         Value\n",
       "Systolic mean           129.75\n",
       "Diastolic mean           82.83\n",
       "Systolic max               159\n",
       "Systolic min               120\n",
       "Diastolic max               92\n",
       "Diastolic min               76\n",
       "High Pressure Measures       3\n",
       "Low Pressure Measures        0"
      ]
     },
     "execution_count": 138,
     "metadata": {},
     "output_type": "execute_result"
    }
   ],
   "source": [
    "# Metrices Total\n",
    "\n",
    "metrices_total = make_metrices_dict(data)\n",
    "\n",
    "metrices_table_total = pd.DataFrame.from_dict(metrices_total, orient=\"index\").rename(columns={0: \"Value\"})\n",
    "metrices_table_total"
   ]
  },
  {
   "cell_type": "markdown",
   "metadata": {
    "extensions": {
     "jupyter_dashboards": {
      "version": 1,
      "views": {
       "grid_default": {
        "col": 4,
        "height": 2,
        "hidden": false,
        "row": 26,
        "width": 7
       },
       "report_default": {
        "hidden": false
       }
      }
     }
    }
   },
   "source": [
    "Per Day"
   ]
  },
  {
   "cell_type": "code",
   "execution_count": null,
   "metadata": {
    "collapsed": true,
    "extensions": {
     "jupyter_dashboards": {
      "version": 1,
      "views": {
       "grid_default": {
        "hidden": true
       },
       "report_default": {
        "hidden": true
       }
      }
     }
    }
   },
   "outputs": [],
   "source": [
    "#mean per day\n",
    "#FIXME rolling | subset per day"
   ]
  },
  {
   "cell_type": "code",
   "execution_count": null,
   "metadata": {
    "collapsed": true,
    "extensions": {
     "jupyter_dashboards": {
      "version": 1,
      "views": {
       "grid_default": {
        "hidden": true
       },
       "report_default": {
        "hidden": true
       }
      }
     }
    }
   },
   "outputs": [],
   "source": []
  },
  {
   "cell_type": "markdown",
   "metadata": {
    "extensions": {
     "jupyter_dashboards": {
      "version": 1,
      "views": {
       "grid_default": {
        "col": 3,
        "height": 2,
        "hidden": false,
        "row": 38,
        "width": 4
       },
       "report_default": {
        "hidden": false
       }
      }
     }
    }
   },
   "source": [
    "### Data Table"
   ]
  },
  {
   "cell_type": "code",
   "execution_count": 139,
   "metadata": {
    "extensions": {
     "jupyter_dashboards": {
      "version": 1,
      "views": {
       "grid_default": {
        "col": 3,
        "height": 20,
        "hidden": false,
        "row": 40,
        "width": 4
       },
       "report_default": {
        "hidden": false
       }
      }
     }
    }
   },
   "outputs": [
    {
     "data": {
      "text/html": [
       "<div>\n",
       "<style>\n",
       "    .dataframe thead tr:only-child th {\n",
       "        text-align: right;\n",
       "    }\n",
       "\n",
       "    .dataframe thead th {\n",
       "        text-align: left;\n",
       "    }\n",
       "\n",
       "    .dataframe tbody tr th {\n",
       "        vertical-align: top;\n",
       "    }\n",
       "</style>\n",
       "<table border=\"1\" class=\"dataframe\">\n",
       "  <thead>\n",
       "    <tr style=\"text-align: right;\">\n",
       "      <th></th>\n",
       "      <th>Sys</th>\n",
       "      <th>Dia</th>\n",
       "      <th>Pulse</th>\n",
       "    </tr>\n",
       "    <tr>\n",
       "      <th>ToM</th>\n",
       "      <th></th>\n",
       "      <th></th>\n",
       "      <th></th>\n",
       "    </tr>\n",
       "  </thead>\n",
       "  <tbody>\n",
       "    <tr>\n",
       "      <th>2017-07-15 09:16:00</th>\n",
       "      <td>148</td>\n",
       "      <td>84</td>\n",
       "      <td>57</td>\n",
       "    </tr>\n",
       "    <tr>\n",
       "      <th>2017-07-15 19:24:00</th>\n",
       "      <td>159</td>\n",
       "      <td>92</td>\n",
       "      <td>75</td>\n",
       "    </tr>\n",
       "    <tr>\n",
       "      <th>2017-07-15 22:23:00</th>\n",
       "      <td>123</td>\n",
       "      <td>83</td>\n",
       "      <td>77</td>\n",
       "    </tr>\n",
       "    <tr>\n",
       "      <th>2017-07-16 09:14:00</th>\n",
       "      <td>124</td>\n",
       "      <td>81</td>\n",
       "      <td>68</td>\n",
       "    </tr>\n",
       "    <tr>\n",
       "      <th>2017-07-16 15:16:00</th>\n",
       "      <td>121</td>\n",
       "      <td>79</td>\n",
       "      <td>70</td>\n",
       "    </tr>\n",
       "    <tr>\n",
       "      <th>2017-07-17 06:45:00</th>\n",
       "      <td>123</td>\n",
       "      <td>76</td>\n",
       "      <td>67</td>\n",
       "    </tr>\n",
       "    <tr>\n",
       "      <th>2017-07-17 15:04:00</th>\n",
       "      <td>132</td>\n",
       "      <td>81</td>\n",
       "      <td>79</td>\n",
       "    </tr>\n",
       "    <tr>\n",
       "      <th>2017-07-17 21:00:00</th>\n",
       "      <td>136</td>\n",
       "      <td>87</td>\n",
       "      <td>76</td>\n",
       "    </tr>\n",
       "    <tr>\n",
       "      <th>2017-07-18 08:20:00</th>\n",
       "      <td>131</td>\n",
       "      <td>91</td>\n",
       "      <td>62</td>\n",
       "    </tr>\n",
       "    <tr>\n",
       "      <th>2017-07-19 09:00:00</th>\n",
       "      <td>120</td>\n",
       "      <td>80</td>\n",
       "      <td>65</td>\n",
       "    </tr>\n",
       "    <tr>\n",
       "      <th>2017-07-20 09:00:00</th>\n",
       "      <td>120</td>\n",
       "      <td>80</td>\n",
       "      <td>65</td>\n",
       "    </tr>\n",
       "    <tr>\n",
       "      <th>2017-07-21 09:00:00</th>\n",
       "      <td>120</td>\n",
       "      <td>80</td>\n",
       "      <td>65</td>\n",
       "    </tr>\n",
       "  </tbody>\n",
       "</table>\n",
       "</div>"
      ],
      "text/plain": [
       "                     Sys  Dia  Pulse\n",
       "ToM                                 \n",
       "2017-07-15 09:16:00  148   84     57\n",
       "2017-07-15 19:24:00  159   92     75\n",
       "2017-07-15 22:23:00  123   83     77\n",
       "2017-07-16 09:14:00  124   81     68\n",
       "2017-07-16 15:16:00  121   79     70\n",
       "2017-07-17 06:45:00  123   76     67\n",
       "2017-07-17 15:04:00  132   81     79\n",
       "2017-07-17 21:00:00  136   87     76\n",
       "2017-07-18 08:20:00  131   91     62\n",
       "2017-07-19 09:00:00  120   80     65\n",
       "2017-07-20 09:00:00  120   80     65\n",
       "2017-07-21 09:00:00  120   80     65"
      ]
     },
     "execution_count": 139,
     "metadata": {},
     "output_type": "execute_result"
    }
   ],
   "source": [
    "# Data table\n",
    "data_table = data\n",
    "data_table.index.rename(\"ToM\", inplace=True)\n",
    "\n",
    "data_table"
   ]
  }
 ],
 "metadata": {
  "extensions": {
   "jupyter_dashboards": {
    "activeView": "grid_default",
    "version": 1,
    "views": {
     "grid_default": {
      "cellMargin": 10,
      "defaultCellHeight": 20,
      "maxColumns": 12,
      "name": "grid",
      "type": "grid"
     },
     "report_default": {
      "name": "report",
      "type": "report"
     }
    }
   }
  },
  "kernelspec": {
   "display_name": "Python 3",
   "language": "python",
   "name": "python3"
  },
  "language_info": {
   "codemirror_mode": {
    "name": "ipython",
    "version": 3
   },
   "file_extension": ".py",
   "mimetype": "text/x-python",
   "name": "python",
   "nbconvert_exporter": "python",
   "pygments_lexer": "ipython3",
   "version": "3.6.1"
  }
 },
 "nbformat": 4,
 "nbformat_minor": 2
}
