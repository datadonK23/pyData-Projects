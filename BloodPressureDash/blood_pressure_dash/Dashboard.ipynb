{
 "cells": [
  {
   "cell_type": "code",
   "execution_count": 1,
   "metadata": {
    "collapsed": true,
    "extensions": {
     "jupyter_dashboards": {
      "version": 1,
      "views": {
       "grid_default": {
        "hidden": true
       },
       "report_default": {
        "hidden": true
       }
      }
     }
    }
   },
   "outputs": [],
   "source": [
    "import numpy as np\n",
    "import pandas as pd\n",
    "import matplotlib.pyplot as plt\n",
    "import matplotlib.dates as mdates\n",
    "import matplotlib.ticker as mtick\n",
    "import seaborn as sns\n",
    "\n",
    "%matplotlib inline\n",
    "fig_size = [16, 7]\n",
    "plt.rcParams[\"figure.figsize\"] = fig_size"
   ]
  },
  {
   "cell_type": "code",
   "execution_count": 2,
   "metadata": {
    "extensions": {
     "jupyter_dashboards": {
      "version": 1,
      "views": {
       "grid_default": {
        "col": 0,
        "height": 7,
        "hidden": true,
        "row": 4,
        "width": 12
       },
       "report_default": {
        "hidden": true
       }
      }
     }
    }
   },
   "outputs": [
    {
     "data": {
      "text/html": [
       "<div>\n",
       "<style>\n",
       "    .dataframe thead tr:only-child th {\n",
       "        text-align: right;\n",
       "    }\n",
       "\n",
       "    .dataframe thead th {\n",
       "        text-align: left;\n",
       "    }\n",
       "\n",
       "    .dataframe tbody tr th {\n",
       "        vertical-align: top;\n",
       "    }\n",
       "</style>\n",
       "<table border=\"1\" class=\"dataframe\">\n",
       "  <thead>\n",
       "    <tr style=\"text-align: right;\">\n",
       "      <th></th>\n",
       "      <th>Sys</th>\n",
       "      <th>Dia</th>\n",
       "      <th>Pulse</th>\n",
       "      <th>CW</th>\n",
       "    </tr>\n",
       "    <tr>\n",
       "      <th>Date_Time</th>\n",
       "      <th></th>\n",
       "      <th></th>\n",
       "      <th></th>\n",
       "      <th></th>\n",
       "    </tr>\n",
       "  </thead>\n",
       "  <tbody>\n",
       "    <tr>\n",
       "      <th>2017-07-15 09:16:00</th>\n",
       "      <td>148</td>\n",
       "      <td>84</td>\n",
       "      <td>57</td>\n",
       "      <td>28</td>\n",
       "    </tr>\n",
       "    <tr>\n",
       "      <th>2017-07-15 19:24:00</th>\n",
       "      <td>159</td>\n",
       "      <td>92</td>\n",
       "      <td>75</td>\n",
       "      <td>28</td>\n",
       "    </tr>\n",
       "    <tr>\n",
       "      <th>2017-07-15 22:23:00</th>\n",
       "      <td>123</td>\n",
       "      <td>83</td>\n",
       "      <td>77</td>\n",
       "      <td>28</td>\n",
       "    </tr>\n",
       "    <tr>\n",
       "      <th>2017-07-16 09:14:00</th>\n",
       "      <td>124</td>\n",
       "      <td>81</td>\n",
       "      <td>68</td>\n",
       "      <td>28</td>\n",
       "    </tr>\n",
       "    <tr>\n",
       "      <th>2017-07-16 15:16:00</th>\n",
       "      <td>121</td>\n",
       "      <td>79</td>\n",
       "      <td>70</td>\n",
       "      <td>28</td>\n",
       "    </tr>\n",
       "  </tbody>\n",
       "</table>\n",
       "</div>"
      ],
      "text/plain": [
       "                     Sys  Dia  Pulse  CW\n",
       "Date_Time                               \n",
       "2017-07-15 09:16:00  148   84     57  28\n",
       "2017-07-15 19:24:00  159   92     75  28\n",
       "2017-07-15 22:23:00  123   83     77  28\n",
       "2017-07-16 09:14:00  124   81     68  28\n",
       "2017-07-16 15:16:00  121   79     70  28"
      ]
     },
     "execution_count": 2,
     "metadata": {},
     "output_type": "execute_result"
    }
   ],
   "source": [
    "# Load data\n",
    "filepath = \"data/data.csv\"\n",
    "raw_data = pd.read_csv(filepath, parse_dates=[[\"Date\", \"Time\"]])\n",
    "\n",
    "# Datetime processing\n",
    "raw_data[\"CW\"] = raw_data.Date_Time.dt.weekofyear\n",
    "data = raw_data.set_index(pd.DatetimeIndex(raw_data.Date_Time)).drop(\"Date_Time\", axis=1)\n",
    "\n",
    "# First and last day of measurements for report heading\n",
    "first_day = data.index[0].strftime(\"%d.%m.%Y\")\n",
    "last_day = data.index[-1].strftime(\"%d.%m.%Y\")\n",
    "\n",
    "data.head()"
   ]
  },
  {
   "cell_type": "markdown",
   "metadata": {
    "extensions": {
     "jupyter_dashboards": {
      "version": 1,
      "views": {
       "grid_default": {
        "col": 3,
        "height": 4,
        "hidden": false,
        "row": 0,
        "width": 6
       },
       "report_default": {
        "hidden": true
       }
      }
     }
    },
    "variables": {
     "first_day": "15.07.2017",
     "last_day": "18.07.2017"
    }
   },
   "source": [
    "# Report - Blood Pressure Monitoring\n",
    "Measurements between {{first_day}} and {{last_day}}"
   ]
  },
  {
   "cell_type": "markdown",
   "metadata": {
    "extensions": {
     "jupyter_dashboards": {
      "version": 1,
      "views": {
       "grid_default": {
        "col": 0,
        "height": 3,
        "hidden": false,
        "row": 4,
        "width": 12
       },
       "report_default": {
        "hidden": false
       }
      }
     }
    }
   },
   "source": [
    "### Blood Pressure & Pulse Values\n",
    "Visualization"
   ]
  },
  {
   "cell_type": "code",
   "execution_count": 3,
   "metadata": {
    "collapsed": true,
    "extensions": {
     "jupyter_dashboards": {
      "version": 1,
      "views": {
       "grid_default": {
        "col": 0,
        "height": 17,
        "hidden": true,
        "row": 13,
        "width": 12
       },
       "report_default": {
        "hidden": false
       }
      }
     }
    }
   },
   "outputs": [],
   "source": [
    "# Plot Util \n",
    "\n",
    "def make_week_plot(week, df):\n",
    "    \"\"\" Creates plot object of weekly pressure and pulse values\n",
    "    :Param week: calendar week [Int]\n",
    "    :Param df: pd.Dataframe of pressure and pulse values per week\n",
    "    :Return plt: Pyplot object\n",
    "    \"\"\"\n",
    "    sns.set_style(\"darkgrid\")\n",
    "    fig, ax = plt.subplots()\n",
    "\n",
    "    for ix, row in df.iterrows():\n",
    "        # Pulse point marker\n",
    "        pulse_plot, = ax.plot(ix, row.Pulse, \n",
    "                             marker=\"D\", color=\"m\", linestyle = \"None\", label=\"Pulse\")\n",
    "        # Sys point marker\n",
    "        sys_plot, = ax.plot(ix, row.Sys,\n",
    "                           marker=\"v\", color=\"b\", linestyle = \"None\", label=\"Systolic\")\n",
    "        # Dia point marker\n",
    "        dia_plot, = ax.plot(ix, row.Dia,\n",
    "                           marker=\"^\", color=\"b\", linestyle = \"None\", label=\"Diastolic\")\n",
    "        # Vertical line between points\n",
    "        vert_plot = ax.axvline(x=ix, ymin=row.Dia/220, ymax=row.Sys/220, \n",
    "                               color=\"b\")\n",
    "\n",
    "    # X Axis enhancements\n",
    "    ax.xaxis.set_minor_locator(mdates.DayLocator())\n",
    "    ax.xaxis.set_minor_formatter(mdates.DateFormatter(\"\\n\\n\\n\\n%d\\n%a\"))\n",
    "    ax.xaxis.grid(True, which=\"minor\")\n",
    "    for xmin in ax.xaxis.get_minorticklocs():\n",
    "        ax.axvline(x=xmin, linestyle=\"-.\", linewidth=1, color=\"k\", alpha=0.4)\n",
    "    ax.xaxis.set_major_locator(mdates.HourLocator(interval=2))\n",
    "    ax.xaxis.set_major_formatter(mdates.DateFormatter(\"%H:%M\"))\n",
    "    plt.xticks(rotation=270)\n",
    "\n",
    "    # Y Axis enhancements\n",
    "    plt.yticks(range(0, 221, 20))\n",
    "\n",
    "    # Title\n",
    "    ax.set_title(\"Calendar Week \" + str(week), fontsize= 15, fontweight=\"bold\")\n",
    "    \n",
    "    # Legend\n",
    "    legend = plt.legend([sys_plot, dia_plot, pulse_plot], [\"Systolic\", \"Diastolic\", \"Pulse\"],\n",
    "                        loc=4, markerscale=1.6, frameon=True, fontsize=13)\n",
    "    frame = legend.get_frame()\n",
    "    frame.set_color(\"w\")\n",
    "    \n",
    "    # Layout\n",
    "    plt.tight_layout()\n",
    "    \n",
    "    return plt\n"
   ]
  },
  {
   "cell_type": "code",
   "execution_count": 4,
   "metadata": {
    "extensions": {
     "jupyter_dashboards": {
      "version": 1,
      "views": {
       "grid_default": {
        "col": 0,
        "height": 36,
        "hidden": false,
        "row": 7,
        "width": 12
       },
       "report_default": {}
      }
     }
    }
   },
   "outputs": [
    {
     "data": {
      "image/png": "[encoded data removed]",
      "text/plain": [
       "<matplotlib.figure.Figure at 0x7fe0051aa7f0>"
      ]
     },
     "metadata": {},
     "output_type": "display_data"
    },
    {
     "data": {
      "image/png": "[encoded data removed]",
      "text/plain": [
       "<matplotlib.figure.Figure at 0x7fe0051aab00>"
      ]
     },
     "metadata": {},
     "output_type": "display_data"
    }
   ],
   "source": [
    "for k,v in data.groupby(\"CW\"):\n",
    "    p = make_week_plot(week=k, df=v)\n",
    "    p.show()"
   ]
  },
  {
   "cell_type": "markdown",
   "metadata": {
    "extensions": {
     "jupyter_dashboards": {
      "version": 1,
      "views": {
       "grid_default": {
        "col": 0,
        "height": 2,
        "hidden": false,
        "row": 43,
        "width": 9
       },
       "report_default": {
        "hidden": false
       }
      }
     }
    }
   },
   "source": [
    "#### Metrices"
   ]
  },
  {
   "cell_type": "code",
   "execution_count": 5,
   "metadata": {
    "collapsed": true,
    "extensions": {
     "jupyter_dashboards": {
      "version": 1,
      "views": {
       "grid_default": {
        "hidden": true
       },
       "report_default": {
        "hidden": true
       }
      }
     }
    }
   },
   "outputs": [],
   "source": [
    "# Metrices Utils\n",
    "\n",
    "def make_metrices_dict(df):\n",
    "    \"\"\" Creates dict of standard metrices and corresponding values\n",
    "    :Param data: pd.Dataframe of pressure values\n",
    "    :Return metrices dict: dict with metrices and processed values \n",
    "    \"\"\"\n",
    "    metrices_dict = {}\n",
    "\n",
    "    #number of measures\n",
    "    metrices_dict[\"Number of Measures\"] = df.shape[0]\n",
    "    \n",
    "    #mean\n",
    "    metrices_dict[\"Systolic mean\"] = \"{0:.2f}\".format(df.Sys.mean())\n",
    "    metrices_dict[\"Diastolic mean\"] = \"{0:.2f}\".format(df.Dia.mean())\n",
    "\n",
    "    #sys max min\n",
    "    metrices_dict[\"Systolic max\"] = df.Sys.max()\n",
    "    metrices_dict[\"Systolic min\"] = df.Sys.min()\n",
    "\n",
    "    #dia max min\n",
    "    metrices_dict[\"Diastolic max\"] = df.Dia.max()\n",
    "    metrices_dict[\"Diastolic min\"] = df.Dia.min()\n",
    "    \n",
    "    #count of high / low blood pressure measures\n",
    "    metrices_dict[\"High Pressure Measures\"] = df[(df.Sys > 139) | (df.Dia > 89)].count()[0]\n",
    "    metrices_dict[\"High Pressure Measures Rate\"] = \"{:.0%}\".format(metrices_dict[\"High Pressure Measures\"] / \n",
    "                                                                    metrices_dict[\"Number of Measures\"])\n",
    "    metrices_dict[\"Low Pressure Measures\"] = df[(df.Sys < 100) | (df.Dia < 60)].count()[0]\n",
    "    metrices_dict[\"Low Pressure Measures Rate\"] = \"{:.0%}\".format(metrices_dict[\"Low Pressure Measures\"] / \n",
    "                                                                    metrices_dict[\"Number of Measures\"])\n",
    "    \n",
    "    #pulse measures\n",
    "    metrices_dict[\"Pulse mean\"] = \"{0:.2f}\".format(df.Pulse.mean())\n",
    "    metrices_dict[\"Pulse max\"] = df.Pulse.max()\n",
    "    metrices_dict[\"Pulse min\"] = df.Pulse.min()\n",
    "    \n",
    "    return metrices_dict\n"
   ]
  },
  {
   "cell_type": "markdown",
   "metadata": {
    "extensions": {
     "jupyter_dashboards": {
      "version": 1,
      "views": {
       "grid_default": {
        "col": 0,
        "height": 2,
        "hidden": false,
        "row": 45,
        "width": 3
       },
       "report_default": {
        "hidden": false
       }
      }
     }
    }
   },
   "source": [
    "Total"
   ]
  },
  {
   "cell_type": "code",
   "execution_count": 6,
   "metadata": {
    "extensions": {
     "jupyter_dashboards": {
      "version": 1,
      "views": {
       "grid_default": {
        "col": 0,
        "height": 14,
        "hidden": false,
        "row": 47,
        "width": 3
       },
       "report_default": {
        "hidden": false
       }
      }
     }
    }
   },
   "outputs": [
    {
     "data": {
      "text/html": [
       "<div>\n",
       "<style>\n",
       "    .dataframe thead tr:only-child th {\n",
       "        text-align: right;\n",
       "    }\n",
       "\n",
       "    .dataframe thead th {\n",
       "        text-align: left;\n",
       "    }\n",
       "\n",
       "    .dataframe tbody tr th {\n",
       "        vertical-align: top;\n",
       "    }\n",
       "</style>\n",
       "<table border=\"1\" class=\"dataframe\">\n",
       "  <thead>\n",
       "    <tr style=\"text-align: right;\">\n",
       "      <th></th>\n",
       "      <th>Value</th>\n",
       "    </tr>\n",
       "  </thead>\n",
       "  <tbody>\n",
       "    <tr>\n",
       "      <th>Number of Measures</th>\n",
       "      <td>10</td>\n",
       "    </tr>\n",
       "    <tr>\n",
       "      <th>Systolic mean</th>\n",
       "      <td>133.60</td>\n",
       "    </tr>\n",
       "    <tr>\n",
       "      <th>Diastolic mean</th>\n",
       "      <td>83.70</td>\n",
       "    </tr>\n",
       "    <tr>\n",
       "      <th>Systolic max</th>\n",
       "      <td>159</td>\n",
       "    </tr>\n",
       "    <tr>\n",
       "      <th>Systolic min</th>\n",
       "      <td>121</td>\n",
       "    </tr>\n",
       "    <tr>\n",
       "      <th>Diastolic max</th>\n",
       "      <td>92</td>\n",
       "    </tr>\n",
       "    <tr>\n",
       "      <th>Diastolic min</th>\n",
       "      <td>76</td>\n",
       "    </tr>\n",
       "    <tr>\n",
       "      <th>High Pressure Measures</th>\n",
       "      <td>3</td>\n",
       "    </tr>\n",
       "    <tr>\n",
       "      <th>High Pressure Measures Rate</th>\n",
       "      <td>30%</td>\n",
       "    </tr>\n",
       "    <tr>\n",
       "      <th>Low Pressure Measures</th>\n",
       "      <td>0</td>\n",
       "    </tr>\n",
       "    <tr>\n",
       "      <th>Low Pressure Measures Rate</th>\n",
       "      <td>0%</td>\n",
       "    </tr>\n",
       "    <tr>\n",
       "      <th>Pulse mean</th>\n",
       "      <td>69.60</td>\n",
       "    </tr>\n",
       "    <tr>\n",
       "      <th>Pulse max</th>\n",
       "      <td>79</td>\n",
       "    </tr>\n",
       "    <tr>\n",
       "      <th>Pulse min</th>\n",
       "      <td>57</td>\n",
       "    </tr>\n",
       "  </tbody>\n",
       "</table>\n",
       "</div>"
      ],
      "text/plain": [
       "                              Value\n",
       "Number of Measures               10\n",
       "Systolic mean                133.60\n",
       "Diastolic mean                83.70\n",
       "Systolic max                    159\n",
       "Systolic min                    121\n",
       "Diastolic max                    92\n",
       "Diastolic min                    76\n",
       "High Pressure Measures            3\n",
       "High Pressure Measures Rate     30%\n",
       "Low Pressure Measures             0\n",
       "Low Pressure Measures Rate       0%\n",
       "Pulse mean                    69.60\n",
       "Pulse max                        79\n",
       "Pulse min                        57"
      ]
     },
     "execution_count": 6,
     "metadata": {},
     "output_type": "execute_result"
    }
   ],
   "source": [
    "# Metrices Total\n",
    "metrices_total = make_metrices_dict(data)\n",
    "\n",
    "metrices_table_total = pd.DataFrame.from_dict(metrices_total, orient=\"index\").rename(columns={0: \"Value\"})\n",
    "metrices_table_total"
   ]
  },
  {
   "cell_type": "markdown",
   "metadata": {
    "extensions": {
     "jupyter_dashboards": {
      "version": 1,
      "views": {
       "grid_default": {
        "col": 3,
        "height": 2,
        "hidden": false,
        "row": 45,
        "width": 6
       },
       "report_default": {
        "hidden": false
       }
      }
     }
    }
   },
   "source": [
    "Per Day"
   ]
  },
  {
   "cell_type": "code",
   "execution_count": 7,
   "metadata": {
    "extensions": {
     "jupyter_dashboards": {
      "version": 1,
      "views": {
       "grid_default": {
        "col": 3,
        "height": 14,
        "hidden": false,
        "row": 47,
        "width": 6
       },
       "report_default": {
        "hidden": true
       }
      }
     }
    }
   },
   "outputs": [
    {
     "data": {
      "text/html": [
       "<div>\n",
       "<style>\n",
       "    .dataframe thead tr:only-child th {\n",
       "        text-align: right;\n",
       "    }\n",
       "\n",
       "    .dataframe thead th {\n",
       "        text-align: left;\n",
       "    }\n",
       "\n",
       "    .dataframe tbody tr th {\n",
       "        vertical-align: top;\n",
       "    }\n",
       "</style>\n",
       "<table border=\"1\" class=\"dataframe\">\n",
       "  <thead>\n",
       "    <tr style=\"text-align: right;\">\n",
       "      <th></th>\n",
       "      <th>28</th>\n",
       "      <th>29</th>\n",
       "    </tr>\n",
       "  </thead>\n",
       "  <tbody>\n",
       "    <tr>\n",
       "      <th>Number of Measures</th>\n",
       "      <td>5</td>\n",
       "      <td>5</td>\n",
       "    </tr>\n",
       "    <tr>\n",
       "      <th>Systolic mean</th>\n",
       "      <td>135.00</td>\n",
       "      <td>132.20</td>\n",
       "    </tr>\n",
       "    <tr>\n",
       "      <th>Diastolic mean</th>\n",
       "      <td>83.80</td>\n",
       "      <td>83.60</td>\n",
       "    </tr>\n",
       "    <tr>\n",
       "      <th>Systolic max</th>\n",
       "      <td>159</td>\n",
       "      <td>139</td>\n",
       "    </tr>\n",
       "    <tr>\n",
       "      <th>Systolic min</th>\n",
       "      <td>121</td>\n",
       "      <td>123</td>\n",
       "    </tr>\n",
       "    <tr>\n",
       "      <th>Diastolic max</th>\n",
       "      <td>92</td>\n",
       "      <td>91</td>\n",
       "    </tr>\n",
       "    <tr>\n",
       "      <th>Diastolic min</th>\n",
       "      <td>79</td>\n",
       "      <td>76</td>\n",
       "    </tr>\n",
       "    <tr>\n",
       "      <th>High Pressure Measures</th>\n",
       "      <td>2</td>\n",
       "      <td>1</td>\n",
       "    </tr>\n",
       "    <tr>\n",
       "      <th>High Pressure Measures Rate</th>\n",
       "      <td>40%</td>\n",
       "      <td>20%</td>\n",
       "    </tr>\n",
       "    <tr>\n",
       "      <th>Low Pressure Measures</th>\n",
       "      <td>0</td>\n",
       "      <td>0</td>\n",
       "    </tr>\n",
       "    <tr>\n",
       "      <th>Low Pressure Measures Rate</th>\n",
       "      <td>0%</td>\n",
       "      <td>0%</td>\n",
       "    </tr>\n",
       "    <tr>\n",
       "      <th>Pulse mean</th>\n",
       "      <td>69.40</td>\n",
       "      <td>69.80</td>\n",
       "    </tr>\n",
       "    <tr>\n",
       "      <th>Pulse max</th>\n",
       "      <td>77</td>\n",
       "      <td>79</td>\n",
       "    </tr>\n",
       "    <tr>\n",
       "      <th>Pulse min</th>\n",
       "      <td>57</td>\n",
       "      <td>62</td>\n",
       "    </tr>\n",
       "  </tbody>\n",
       "</table>\n",
       "</div>"
      ],
      "text/plain": [
       "                                 28      29\n",
       "Number of Measures                5       5\n",
       "Systolic mean                135.00  132.20\n",
       "Diastolic mean                83.80   83.60\n",
       "Systolic max                    159     139\n",
       "Systolic min                    121     123\n",
       "Diastolic max                    92      91\n",
       "Diastolic min                    79      76\n",
       "High Pressure Measures            2       1\n",
       "High Pressure Measures Rate     40%     20%\n",
       "Low Pressure Measures             0       0\n",
       "Low Pressure Measures Rate       0%      0%\n",
       "Pulse mean                    69.40   69.80\n",
       "Pulse max                        77      79\n",
       "Pulse min                        57      62"
      ]
     },
     "execution_count": 7,
     "metadata": {},
     "output_type": "execute_result"
    }
   ],
   "source": [
    "# Metrices per Week\n",
    "\n",
    "metrices_weeks = pd.DataFrame()\n",
    "\n",
    "for k,v in data.groupby(\"CW\"):\n",
    "    metrices_week = pd.DataFrame.from_dict(make_metrices_dict(v), orient=\"index\")\n",
    "    metrices_weeks = pd.concat([metrices_weeks, metrices_week], 1, ignore_index=True)\n",
    "    metrices_weeks.columns.values[-1] = k\n",
    "\n",
    "metrices_weeks.columns.values[0] = data.CW.min()\n",
    "metrices_weeks"
   ]
  },
  {
   "cell_type": "markdown",
   "metadata": {
    "extensions": {
     "jupyter_dashboards": {
      "version": 1,
      "views": {
       "grid_default": {
        "col": 9,
        "height": 2,
        "hidden": false,
        "row": 43,
        "width": 3
       },
       "report_default": {
        "hidden": false
       }
      }
     }
    }
   },
   "source": [
    "### Data Table"
   ]
  },
  {
   "cell_type": "code",
   "execution_count": 8,
   "metadata": {
    "extensions": {
     "jupyter_dashboards": {
      "version": 1,
      "views": {
       "grid_default": {
        "col": 9,
        "height": 20,
        "hidden": false,
        "row": 45,
        "width": 3
       },
       "report_default": {
        "hidden": false
       }
      }
     }
    }
   },
   "outputs": [
    {
     "data": {
      "text/html": [
       "<div>\n",
       "<style>\n",
       "    .dataframe thead tr:only-child th {\n",
       "        text-align: right;\n",
       "    }\n",
       "\n",
       "    .dataframe thead th {\n",
       "        text-align: left;\n",
       "    }\n",
       "\n",
       "    .dataframe tbody tr th {\n",
       "        vertical-align: top;\n",
       "    }\n",
       "</style>\n",
       "<table border=\"1\" class=\"dataframe\">\n",
       "  <thead>\n",
       "    <tr style=\"text-align: right;\">\n",
       "      <th></th>\n",
       "      <th>Sys</th>\n",
       "      <th>Dia</th>\n",
       "      <th>Pulse</th>\n",
       "    </tr>\n",
       "    <tr>\n",
       "      <th>ToM</th>\n",
       "      <th></th>\n",
       "      <th></th>\n",
       "      <th></th>\n",
       "    </tr>\n",
       "  </thead>\n",
       "  <tbody>\n",
       "    <tr>\n",
       "      <th>2017-07-15 09:16:00</th>\n",
       "      <td>148</td>\n",
       "      <td>84</td>\n",
       "      <td>57</td>\n",
       "    </tr>\n",
       "    <tr>\n",
       "      <th>2017-07-15 19:24:00</th>\n",
       "      <td>159</td>\n",
       "      <td>92</td>\n",
       "      <td>75</td>\n",
       "    </tr>\n",
       "    <tr>\n",
       "      <th>2017-07-15 22:23:00</th>\n",
       "      <td>123</td>\n",
       "      <td>83</td>\n",
       "      <td>77</td>\n",
       "    </tr>\n",
       "    <tr>\n",
       "      <th>2017-07-16 09:14:00</th>\n",
       "      <td>124</td>\n",
       "      <td>81</td>\n",
       "      <td>68</td>\n",
       "    </tr>\n",
       "    <tr>\n",
       "      <th>2017-07-16 15:16:00</th>\n",
       "      <td>121</td>\n",
       "      <td>79</td>\n",
       "      <td>70</td>\n",
       "    </tr>\n",
       "    <tr>\n",
       "      <th>2017-07-17 06:45:00</th>\n",
       "      <td>123</td>\n",
       "      <td>76</td>\n",
       "      <td>67</td>\n",
       "    </tr>\n",
       "    <tr>\n",
       "      <th>2017-07-17 15:04:00</th>\n",
       "      <td>132</td>\n",
       "      <td>81</td>\n",
       "      <td>79</td>\n",
       "    </tr>\n",
       "    <tr>\n",
       "      <th>2017-07-17 21:00:00</th>\n",
       "      <td>136</td>\n",
       "      <td>87</td>\n",
       "      <td>76</td>\n",
       "    </tr>\n",
       "    <tr>\n",
       "      <th>2017-07-18 08:20:00</th>\n",
       "      <td>131</td>\n",
       "      <td>91</td>\n",
       "      <td>62</td>\n",
       "    </tr>\n",
       "    <tr>\n",
       "      <th>2017-07-18 14:04:00</th>\n",
       "      <td>139</td>\n",
       "      <td>83</td>\n",
       "      <td>65</td>\n",
       "    </tr>\n",
       "  </tbody>\n",
       "</table>\n",
       "</div>"
      ],
      "text/plain": [
       "                     Sys  Dia  Pulse\n",
       "ToM                                 \n",
       "2017-07-15 09:16:00  148   84     57\n",
       "2017-07-15 19:24:00  159   92     75\n",
       "2017-07-15 22:23:00  123   83     77\n",
       "2017-07-16 09:14:00  124   81     68\n",
       "2017-07-16 15:16:00  121   79     70\n",
       "2017-07-17 06:45:00  123   76     67\n",
       "2017-07-17 15:04:00  132   81     79\n",
       "2017-07-17 21:00:00  136   87     76\n",
       "2017-07-18 08:20:00  131   91     62\n",
       "2017-07-18 14:04:00  139   83     65"
      ]
     },
     "execution_count": 8,
     "metadata": {},
     "output_type": "execute_result"
    }
   ],
   "source": [
    "# Data table\n",
    "data_table = data\n",
    "data_table.drop(\"CW\", 1, inplace=True)\n",
    "data_table.index.rename(\"ToM\", inplace=True)\n",
    "\n",
    "#with pd.option_context('display.max_rows', 999, 'display.max_columns', 5):\n",
    "#    print df\n",
    "    \n",
    "pd.option_context(\"display.max_rows\", 200)\n",
    "data_table"
   ]
  }
 ],
 "metadata": {
  "extensions": {
   "jupyter_dashboards": {
    "activeView": "grid_default",
    "version": 1,
    "views": {
     "grid_default": {
      "cellMargin": 10,
      "defaultCellHeight": 20,
      "maxColumns": 12,
      "name": "grid",
      "type": "grid"
     },
     "report_default": {
      "name": "report",
      "type": "report"
     }
    }
   }
  },
  "kernelspec": {
   "display_name": "Python 3",
   "language": "python",
   "name": "python3"
  },
  "language_info": {
   "codemirror_mode": {
    "name": "ipython",
    "version": 3
   },
   "file_extension": ".py",
   "mimetype": "text/x-python",
   "name": "python",
   "nbconvert_exporter": "python",
   "pygments_lexer": "ipython3",
   "version": "3.6.1"
  }
 },
 "nbformat": 4,
 "nbformat_minor": 2
}
