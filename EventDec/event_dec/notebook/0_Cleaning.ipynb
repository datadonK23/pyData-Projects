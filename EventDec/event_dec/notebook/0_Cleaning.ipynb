{
 "cells": [
  {
   "cell_type": "markdown",
   "metadata": {},
   "source": [
    "# Cleaning\n",
    "Cleaning of provided dataset and enhancement of features "
   ]
  },
  {
   "cell_type": "code",
   "execution_count": null,
   "metadata": {
    "collapsed": true
   },
   "outputs": [],
   "source": [
    "import numpy as np\n",
    "import pandas as pd\n",
    "import pickle\n",
    "\n",
    "import matplotlib.pyplot as plt\n",
    "%matplotlib inline"
   ]
  },
  {
   "cell_type": "markdown",
   "metadata": {},
   "source": [
    "## Input"
   ]
  },
  {
   "cell_type": "markdown",
   "metadata": {},
   "source": [
    "_Privacy restriction:_ \n",
    "\n",
    "Original (personal) dataset not in Repo. Provide self collected features and ratings about attended events in \"../data/events.csv\" (schema info in REFS.md) "
   ]
  },
  {
   "cell_type": "code",
   "execution_count": null,
   "metadata": {},
   "outputs": [],
   "source": [
    "data_f = \"../data/events.csv\"\n",
    "raw_data = pd.read_csv(data_f)\n",
    "\n",
    "print(raw_data.shape)\n",
    "print(raw_data.dtypes)\n",
    "raw_data.head()"
   ]
  },
  {
   "cell_type": "markdown",
   "metadata": {},
   "source": [
    "## Cleaning"
   ]
  },
  {
   "cell_type": "code",
   "execution_count": null,
   "metadata": {
    "collapsed": true
   },
   "outputs": [],
   "source": [
    "raw_data.date = pd.to_datetime(raw_data.date, format=\"%d.%m.%Y\")\n",
    "raw_data.start_time = pd.to_datetime(raw_data.start_time, format=\"%H:%M\").dt.time\n",
    "raw_data.duration = pd.to_datetime(raw_data.duration, format=\"%H:%M\").dt.time\n",
    "raw_data[\"weekday\"] = raw_data.date.dt.weekday_name\n",
    "raw_data.ticket_prize = raw_data.ticket_prize.replace(\"[\\€,]\", \"\", regex=True).astype(int)"
   ]
  },
  {
   "cell_type": "markdown",
   "metadata": {},
   "source": [
    "## Enhancement"
   ]
  },
  {
   "cell_type": "markdown",
   "metadata": {},
   "source": [
    "__Buzzwords__"
   ]
  },
  {
   "cell_type": "code",
   "execution_count": null,
   "metadata": {},
   "outputs": [],
   "source": [
    "# Generate Buzzword List\n",
    "buzzword_list = []\n",
    "\n",
    "def parse_buzzword_file(file_path, buzzword_list):\n",
    "    \"\"\"\n",
    "        parses textfile and appends word to buzzword list\n",
    "    \"\"\"\n",
    "    with open(file_path, \"r\") as f:\n",
    "        content = f.readlines()\n",
    "        for buzzword in content:\n",
    "            buzzword_list.append(buzzword.strip(\"\\n\").lower())\n",
    "    return buzzword_list\n",
    "\n",
    "buzzwords_wiki = parse_buzzword_file(\"../data/buzzwords_wiki.txt\", buzzword_list)\n",
    "buzzwords_de = parse_buzzword_file(\"../data/buzzwords_de.txt\", buzzword_list)\n",
    "buzzwords_personal = parse_buzzword_file(\"../data/buzzwords_personal.txt\", buzzword_list)\n",
    "\n",
    "print(\"Buzzword Count:\", len(buzzword_list))"
   ]
  },
  {
   "cell_type": "code",
   "execution_count": null,
   "metadata": {},
   "outputs": [],
   "source": [
    "# Pickling Buzzword List for App\n",
    "file_path = \"../data/buzzword_list.pkl\"\n",
    "with open(file_path, \"wb\") as f:\n",
    "    pickle.dump(buzzword_list, f)"
   ]
  },
  {
   "cell_type": "code",
   "execution_count": null,
   "metadata": {
    "collapsed": true
   },
   "outputs": [],
   "source": [
    "# Create binary colunms (buzzwordy_title, buzzwordy_organizer)\n",
    "buzzword_mask_title = raw_data.title.str.contains(\"|\".join(buzzword_list), case=False)\n",
    "buzzword_mask_organizer =  raw_data.organizer.str.contains(\"|\".join(buzzword_list), case=False)\n",
    "\n",
    "raw_data[\"buzzwordy_title\"] = np.where(buzzword_mask_title, 1, 0)\n",
    "raw_data[\"buzzwordy_organizer\"] = np.where(buzzword_mask_organizer, 1, 0)"
   ]
  },
  {
   "cell_type": "markdown",
   "metadata": {},
   "source": [
    "## Check DF and Output"
   ]
  },
  {
   "cell_type": "markdown",
   "metadata": {},
   "source": [
    "__Checking__"
   ]
  },
  {
   "cell_type": "code",
   "execution_count": null,
   "metadata": {
    "collapsed": true
   },
   "outputs": [],
   "source": [
    "print(raw_data.shape)\n",
    "print(raw_data.dtypes)\n",
    "raw_data.head()"
   ]
  },
  {
   "cell_type": "markdown",
   "metadata": {},
   "source": [
    "__Output__"
   ]
  },
  {
   "cell_type": "code",
   "execution_count": null,
   "metadata": {
    "collapsed": true
   },
   "outputs": [],
   "source": [
    "# Pickling DF\n",
    "file_path = \"../data/events_df.pkl\"\n",
    "raw_data.to_pickle(file_path)"
   ]
  }
 ],
 "metadata": {
  "kernelspec": {
   "display_name": "Python 3",
   "language": "python",
   "name": "python3"
  },
  "language_info": {
   "codemirror_mode": {
    "name": "ipython",
    "version": 3
   },
   "file_extension": ".py",
   "mimetype": "text/x-python",
   "name": "python",
   "nbconvert_exporter": "python",
   "pygments_lexer": "ipython3",
   "version": "3.6.1"
  }
 },
 "nbformat": 4,
 "nbformat_minor": 2
}
