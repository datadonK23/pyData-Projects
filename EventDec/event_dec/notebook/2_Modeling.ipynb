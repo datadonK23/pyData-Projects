{
 "cells": [
  {
   "cell_type": "markdown",
   "metadata": {},
   "source": [
    "# Modeling\n",
    "ML Tasks"
   ]
  },
  {
   "cell_type": "code",
   "execution_count": 1,
   "metadata": {
    "collapsed": true
   },
   "outputs": [],
   "source": [
    "import numpy as np\n",
    "import pandas as pd\n",
    "\n",
    "import matplotlib.pyplot as plt\n",
    "%matplotlib inline"
   ]
  },
  {
   "cell_type": "markdown",
   "metadata": {},
   "source": [
    "## Input"
   ]
  },
  {
   "cell_type": "code",
   "execution_count": 2,
   "metadata": {},
   "outputs": [
    {
     "name": "stdout",
     "output_type": "stream",
     "text": [
      "(75, 36)\n"
     ]
    },
    {
     "data": {
      "text/html": [
       "<div>\n",
       "<table border=\"1\" class=\"dataframe\">\n",
       "  <thead>\n",
       "    <tr style=\"text-align: right;\">\n",
       "      <th></th>\n",
       "      <th>buzzwordy_title</th>\n",
       "      <th>buzzwordy_organizer</th>\n",
       "      <th>days</th>\n",
       "      <th>distance</th>\n",
       "      <th>ticket_prize</th>\n",
       "      <th>rating</th>\n",
       "      <th>main_topic_Daten</th>\n",
       "      <th>main_topic_Geo</th>\n",
       "      <th>main_topic_IT</th>\n",
       "      <th>main_topic_Innovation</th>\n",
       "      <th>...</th>\n",
       "      <th>city_Passau</th>\n",
       "      <th>city_Salzburg</th>\n",
       "      <th>city_Steyr</th>\n",
       "      <th>city_Wels</th>\n",
       "      <th>city_Wien</th>\n",
       "      <th>city_Zürich</th>\n",
       "      <th>country_Austria</th>\n",
       "      <th>country_Germany</th>\n",
       "      <th>country_Slovakia</th>\n",
       "      <th>country_Switzerland</th>\n",
       "    </tr>\n",
       "  </thead>\n",
       "  <tbody>\n",
       "    <tr>\n",
       "      <th>0</th>\n",
       "      <td>0</td>\n",
       "      <td>0</td>\n",
       "      <td>1</td>\n",
       "      <td>29</td>\n",
       "      <td>0</td>\n",
       "      <td>9</td>\n",
       "      <td>0</td>\n",
       "      <td>0</td>\n",
       "      <td>0</td>\n",
       "      <td>0</td>\n",
       "      <td>...</td>\n",
       "      <td>0</td>\n",
       "      <td>0</td>\n",
       "      <td>0</td>\n",
       "      <td>0</td>\n",
       "      <td>0</td>\n",
       "      <td>0</td>\n",
       "      <td>1</td>\n",
       "      <td>0</td>\n",
       "      <td>0</td>\n",
       "      <td>0</td>\n",
       "    </tr>\n",
       "    <tr>\n",
       "      <th>1</th>\n",
       "      <td>1</td>\n",
       "      <td>1</td>\n",
       "      <td>1</td>\n",
       "      <td>3</td>\n",
       "      <td>0</td>\n",
       "      <td>3</td>\n",
       "      <td>0</td>\n",
       "      <td>0</td>\n",
       "      <td>0</td>\n",
       "      <td>0</td>\n",
       "      <td>...</td>\n",
       "      <td>0</td>\n",
       "      <td>0</td>\n",
       "      <td>1</td>\n",
       "      <td>0</td>\n",
       "      <td>0</td>\n",
       "      <td>0</td>\n",
       "      <td>1</td>\n",
       "      <td>0</td>\n",
       "      <td>0</td>\n",
       "      <td>0</td>\n",
       "    </tr>\n",
       "    <tr>\n",
       "      <th>2</th>\n",
       "      <td>1</td>\n",
       "      <td>0</td>\n",
       "      <td>1</td>\n",
       "      <td>1</td>\n",
       "      <td>0</td>\n",
       "      <td>6</td>\n",
       "      <td>0</td>\n",
       "      <td>0</td>\n",
       "      <td>0</td>\n",
       "      <td>0</td>\n",
       "      <td>...</td>\n",
       "      <td>0</td>\n",
       "      <td>0</td>\n",
       "      <td>1</td>\n",
       "      <td>0</td>\n",
       "      <td>0</td>\n",
       "      <td>0</td>\n",
       "      <td>1</td>\n",
       "      <td>0</td>\n",
       "      <td>0</td>\n",
       "      <td>0</td>\n",
       "    </tr>\n",
       "    <tr>\n",
       "      <th>3</th>\n",
       "      <td>1</td>\n",
       "      <td>1</td>\n",
       "      <td>1</td>\n",
       "      <td>1</td>\n",
       "      <td>0</td>\n",
       "      <td>2</td>\n",
       "      <td>0</td>\n",
       "      <td>0</td>\n",
       "      <td>0</td>\n",
       "      <td>1</td>\n",
       "      <td>...</td>\n",
       "      <td>0</td>\n",
       "      <td>0</td>\n",
       "      <td>1</td>\n",
       "      <td>0</td>\n",
       "      <td>0</td>\n",
       "      <td>0</td>\n",
       "      <td>1</td>\n",
       "      <td>0</td>\n",
       "      <td>0</td>\n",
       "      <td>0</td>\n",
       "    </tr>\n",
       "    <tr>\n",
       "      <th>4</th>\n",
       "      <td>1</td>\n",
       "      <td>0</td>\n",
       "      <td>1</td>\n",
       "      <td>1</td>\n",
       "      <td>0</td>\n",
       "      <td>2</td>\n",
       "      <td>0</td>\n",
       "      <td>0</td>\n",
       "      <td>0</td>\n",
       "      <td>1</td>\n",
       "      <td>...</td>\n",
       "      <td>0</td>\n",
       "      <td>0</td>\n",
       "      <td>1</td>\n",
       "      <td>0</td>\n",
       "      <td>0</td>\n",
       "      <td>0</td>\n",
       "      <td>1</td>\n",
       "      <td>0</td>\n",
       "      <td>0</td>\n",
       "      <td>0</td>\n",
       "    </tr>\n",
       "  </tbody>\n",
       "</table>\n",
       "<p>5 rows × 36 columns</p>\n",
       "</div>"
      ],
      "text/plain": [
       "   buzzwordy_title  buzzwordy_organizer  days  distance  ticket_prize  rating  \\\n",
       "0                0                    0     1        29             0       9   \n",
       "1                1                    1     1         3             0       3   \n",
       "2                1                    0     1         1             0       6   \n",
       "3                1                    1     1         1             0       2   \n",
       "4                1                    0     1         1             0       2   \n",
       "\n",
       "   main_topic_Daten  main_topic_Geo  main_topic_IT  main_topic_Innovation  \\\n",
       "0                 0               0              0                      0   \n",
       "1                 0               0              0                      0   \n",
       "2                 0               0              0                      0   \n",
       "3                 0               0              0                      1   \n",
       "4                 0               0              0                      1   \n",
       "\n",
       "          ...           city_Passau  city_Salzburg  city_Steyr  city_Wels  \\\n",
       "0         ...                     0              0           0          0   \n",
       "1         ...                     0              0           1          0   \n",
       "2         ...                     0              0           1          0   \n",
       "3         ...                     0              0           1          0   \n",
       "4         ...                     0              0           1          0   \n",
       "\n",
       "   city_Wien  city_Zürich  country_Austria  country_Germany  country_Slovakia  \\\n",
       "0          0            0                1                0                 0   \n",
       "1          0            0                1                0                 0   \n",
       "2          0            0                1                0                 0   \n",
       "3          0            0                1                0                 0   \n",
       "4          0            0                1                0                 0   \n",
       "\n",
       "   country_Switzerland  \n",
       "0                    0  \n",
       "1                    0  \n",
       "2                    0  \n",
       "3                    0  \n",
       "4                    0  \n",
       "\n",
       "[5 rows x 36 columns]"
      ]
     },
     "execution_count": 2,
     "metadata": {},
     "output_type": "execute_result"
    }
   ],
   "source": [
    "file_path = \"../data/df_model01.pkl\"\n",
    "df = pd.read_pickle(file_path)\n",
    "\n",
    "print(df.shape)\n",
    "df.head()"
   ]
  },
  {
   "cell_type": "markdown",
   "metadata": {},
   "source": [
    "__Binning__"
   ]
  },
  {
   "cell_type": "code",
   "execution_count": 3,
   "metadata": {
    "collapsed": true
   },
   "outputs": [],
   "source": [
    "bins = [10, 40, 120, 180] # SR, LNZ, SZG, VIE, >VIE\n",
    "\n",
    "df[\"binned_distance\"] = np.digitize(df.distance.values, bins=bins)"
   ]
  },
  {
   "cell_type": "markdown",
   "metadata": {},
   "source": [
    "__Conversion for Scikit-learn__\n",
    "\n",
    "Feature selection based on expert knowledge. Model-based hardly interpretable, at least confirmed \"binned_distance\" as relevant feature. "
   ]
  },
  {
   "cell_type": "code",
   "execution_count": 4,
   "metadata": {},
   "outputs": [
    {
     "name": "stdout",
     "output_type": "stream",
     "text": [
      "X: (75, 3) y: (75,)\n"
     ]
    }
   ],
   "source": [
    "feature_names = [\"buzzwordy_title\", \"main_topic_Daten\", \"binned_distance\"]\n",
    "X = df[feature_names].values\n",
    "y = df.rating.map(lambda x: 1 if x>5 else 0).values # binary target: >5 (better as all the same) was worth attending\n",
    "\n",
    "print(\"X:\", X.shape, \"y:\", y.shape)"
   ]
  },
  {
   "cell_type": "markdown",
   "metadata": {},
   "source": [
    "## Train-Test Split"
   ]
  },
  {
   "cell_type": "code",
   "execution_count": 5,
   "metadata": {
    "collapsed": true
   },
   "outputs": [],
   "source": [
    "from sklearn.model_selection import train_test_split\n",
    "\n",
    "X_train, X_test, y_train, y_test = train_test_split(X, y, random_state=23, \n",
    "                                                    test_size=0.5) # 50% split, small dataset size"
   ]
  },
  {
   "cell_type": "markdown",
   "metadata": {},
   "source": [
    "## Modeling"
   ]
  },
  {
   "cell_type": "markdown",
   "metadata": {},
   "source": [
    "Model"
   ]
  },
  {
   "cell_type": "code",
   "execution_count": 6,
   "metadata": {
    "collapsed": true
   },
   "outputs": [],
   "source": [
    "from sklearn.linear_model import LinearRegression\n",
    "from sklearn.tree import DecisionTreeClassifier\n",
    "\n",
    "linreg = LinearRegression() # Benchmark model\n",
    "dec_tree = DecisionTreeClassifier() # Actual model"
   ]
  },
  {
   "cell_type": "markdown",
   "metadata": {},
   "source": [
    "### Benchmark\n",
    "_Linear Regression_"
   ]
  },
  {
   "cell_type": "code",
   "execution_count": 7,
   "metadata": {},
   "outputs": [
    {
     "name": "stdout",
     "output_type": "stream",
     "text": [
      "Score (r^2): -0.220\n",
      "Coef: [ 0.02485585  0.04313925  0.08000478]\n"
     ]
    }
   ],
   "source": [
    "# Benchmark\n",
    "linreg.fit(X_train, y_train)\n",
    "print(\"Score (r^2): {:.3f}\".format(linreg.score(X_test, y_test)))\n",
    "print(\"Coef: {}\".format(linreg.coef_))"
   ]
  },
  {
   "cell_type": "markdown",
   "metadata": {},
   "source": [
    "=> Really bad perfomance"
   ]
  },
  {
   "cell_type": "markdown",
   "metadata": {},
   "source": [
    "### Model\n",
    "_Decision Tree CV_\n",
    "\n",
    "<= Ability to visualize, hasn't performed much worse than other applied models"
   ]
  },
  {
   "cell_type": "markdown",
   "metadata": {},
   "source": [
    "__Parameter Tuning__"
   ]
  },
  {
   "cell_type": "code",
   "execution_count": 8,
   "metadata": {},
   "outputs": [
    {
     "name": "stdout",
     "output_type": "stream",
     "text": [
      "Score (Accuracy): 0.632\n",
      "Best Estimator: DecisionTreeClassifier(class_weight=None, criterion='gini', max_depth=None,\n",
      "            max_features=None, max_leaf_nodes=5, min_impurity_split=1e-07,\n",
      "            min_samples_leaf=2, min_samples_split=2,\n",
      "            min_weight_fraction_leaf=0.0, presort=True, random_state=None,\n",
      "            splitter='best')\n",
      "Best Parameters: {'criterion': 'gini', 'max_depth': None, 'max_leaf_nodes': 5, 'min_samples_leaf': 2}\n"
     ]
    }
   ],
   "source": [
    "from sklearn.model_selection import GridSearchCV\n",
    "\n",
    "parameter_grid = {\"criterion\": [\"gini\", \"entropy\"], \n",
    "                  \"max_depth\": [None, 1, 2, 3, 4, 5, 6], \n",
    "                  \"min_samples_leaf\": list(range(1, 14)), \n",
    "                  \"max_leaf_nodes\": list(range(3, 25))}\n",
    "\n",
    "grid_search = GridSearchCV(DecisionTreeClassifier(presort=True), parameter_grid, cv=5) # 5 fold cross-val\n",
    "grid_search.fit(X_train, y_train)\n",
    "\n",
    "print(\"Score (Accuracy): {:.3f}\".format(grid_search.score(X_test, y_test)))\n",
    "print(\"Best Estimator: {}\".format(grid_search.best_estimator_))\n",
    "print(\"Best Parameters: {}\".format(grid_search.best_params_))"
   ]
  },
  {
   "cell_type": "markdown",
   "metadata": {},
   "source": [
    "=> Not that good accuracy, but at least better than random draw"
   ]
  },
  {
   "cell_type": "markdown",
   "metadata": {},
   "source": [
    "__Build Model__"
   ]
  },
  {
   "cell_type": "code",
   "execution_count": 9,
   "metadata": {},
   "outputs": [
    {
     "name": "stdout",
     "output_type": "stream",
     "text": [
      "Score (Accuracy): 0.632\n"
     ]
    }
   ],
   "source": [
    "model = DecisionTreeClassifier(presort=True, criterion=\"gini\", max_depth=None, \n",
    "                               min_samples_leaf=2, max_leaf_nodes=5)\n",
    "model.fit(X_train, y_train)\n",
    "\n",
    "print(\"Score (Accuracy): {:.3f}\".format(model.score(X_test, y_test)))"
   ]
  },
  {
   "cell_type": "markdown",
   "metadata": {},
   "source": [
    "__Print Decision Tree__"
   ]
  },
  {
   "cell_type": "code",
   "execution_count": 10,
   "metadata": {
    "collapsed": true
   },
   "outputs": [],
   "source": [
    "from sklearn.tree import export_graphviz\n",
    "\n",
    "export_graphviz(model, class_names=True, feature_names=feature_names,\n",
    "                rounded=True, filled=True, label=\"root\", impurity=False, proportion=True,\n",
    "                out_file=\"plots/dectree_Model_best.dot\")"
   ]
  },
  {
   "cell_type": "markdown",
   "metadata": {},
   "source": [
    "## Model Evaluation"
   ]
  },
  {
   "cell_type": "markdown",
   "metadata": {},
   "source": [
    "__Evaluation Scores__"
   ]
  },
  {
   "cell_type": "code",
   "execution_count": 11,
   "metadata": {},
   "outputs": [
    {
     "name": "stdout",
     "output_type": "stream",
     "text": [
      "             precision    recall  f1-score   support\n",
      "\n",
      "          0       0.71      0.77      0.74        26\n",
      "          1       0.40      0.33      0.36        12\n",
      "\n",
      "avg / total       0.62      0.63      0.62        38\n",
      "\n"
     ]
    }
   ],
   "source": [
    "from sklearn.metrics import classification_report\n",
    "\n",
    "y_pred = model.predict(X_test)\n",
    "print(classification_report(y_test, y_pred))"
   ]
  },
  {
   "cell_type": "markdown",
   "metadata": {},
   "source": [
    "=> Not so good in predicting class 1 (\"worth attending), better in predicting class 0. Weighted average of precision and recall 0.62 (F1 Score)"
   ]
  },
  {
   "cell_type": "markdown",
   "metadata": {},
   "source": [
    "__ROC Curve__"
   ]
  },
  {
   "cell_type": "code",
   "execution_count": 12,
   "metadata": {},
   "outputs": [
    {
     "data": {
      "image/png": "[encoded data removed]",
      "text/plain": [
       "<matplotlib.figure.Figure at 0x7fa22233cc88>"
      ]
     },
     "metadata": {},
     "output_type": "display_data"
    },
    {
     "name": "stdout",
     "output_type": "stream",
     "text": [
      "AUC: 0.551\n"
     ]
    }
   ],
   "source": [
    "from sklearn.metrics import roc_curve, roc_auc_score\n",
    "\n",
    "fpr, tpr, thresholds = roc_curve(y_test, y_pred)\n",
    "\n",
    "plt.plot(fpr, tpr, label=\"ROC\")\n",
    "plt.plot([0, 1], c=\"r\", label=\"Chance level\")\n",
    "plt.title(\"ROC Curve\")\n",
    "plt.xlabel(\"False Positive Rate\")\n",
    "plt.ylabel(\"Recall\")\n",
    "plt.legend(loc=4)\n",
    "\n",
    "plt.savefig(\"plots/ROC_Curve_Model.png\", dpi=180)\n",
    "plt.show()\n",
    "\n",
    "print(\"AUC: {:.3f}\".format(roc_auc_score(y_test, y_pred)))"
   ]
  },
  {
   "cell_type": "markdown",
   "metadata": {},
   "source": [
    "=> Indeed only slightly better than random guess, ~ 0.05 percentage points (AUC)"
   ]
  },
  {
   "cell_type": "code",
   "execution_count": 13,
   "metadata": {},
   "outputs": [
    {
     "name": "stdout",
     "output_type": "stream",
     "text": [
      "Cross-Val Scores (Accuracy): [ 0.5625      0.625       0.46666667  0.71428571  0.64285714]\n",
      "Cross-Val Mean (Accuracy): 0.6022619047619048\n"
     ]
    }
   ],
   "source": [
    "from sklearn.model_selection import cross_val_score\n",
    "\n",
    "scores_benchmark = cross_val_score(model, X, y, cv=5) # 5 folds\n",
    "\n",
    "print(\"Cross-Val Scores (Accuracy): {}\".format(scores_benchmark))\n",
    "print(\"Cross-Val Mean (Accuracy): {}\".format(scores_benchmark.mean()))"
   ]
  },
  {
   "cell_type": "markdown",
   "metadata": {},
   "source": [
    "=> Generalization acceptable, but not good (as expected from a Decision Tree)"
   ]
  },
  {
   "cell_type": "markdown",
   "metadata": {},
   "source": [
    "## Persist Model"
   ]
  },
  {
   "cell_type": "code",
   "execution_count": 14,
   "metadata": {},
   "outputs": [
    {
     "data": {
      "text/plain": [
       "['../data/model_trained.pkl']"
      ]
     },
     "execution_count": 14,
     "metadata": {},
     "output_type": "execute_result"
    }
   ],
   "source": [
    "from sklearn.externals import joblib\n",
    "\n",
    "file_path = \"../data/model_trained.pkl\"\n",
    "\n",
    "joblib.dump(model, file_path)"
   ]
  },
  {
   "cell_type": "code",
   "execution_count": null,
   "metadata": {
    "collapsed": true
   },
   "outputs": [],
   "source": []
  }
 ],
 "metadata": {
  "kernelspec": {
   "display_name": "Python 3",
   "language": "python",
   "name": "python3"
  },
  "language_info": {
   "codemirror_mode": {
    "name": "ipython",
    "version": 3
   },
   "file_extension": ".py",
   "mimetype": "text/x-python",
   "name": "python",
   "nbconvert_exporter": "python",
   "pygments_lexer": "ipython3",
   "version": "3.6.1"
  }
 },
 "nbformat": 4,
 "nbformat_minor": 2
}
